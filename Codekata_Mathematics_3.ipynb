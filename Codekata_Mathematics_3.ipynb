{
 "cells": [
  {
   "cell_type": "markdown",
   "id": "983180cb",
   "metadata": {},
   "source": [
    "# Codekata_Mathematics_3"
   ]
  },
  {
   "cell_type": "markdown",
   "id": "a67f3a5d",
   "metadata": {},
   "source": [
    "You are given a task to tell whether the number is pure or not. A pure number is a number whose sum of digits is multiple of 3.\n",
    "\n",
    "O(1) time and O(1) space\n",
    "\n",
    "Input Description:\n",
    "You are given a number n.\n",
    "\n",
    "Output Description:\n",
    "Print yes if it is pure else not"
   ]
  },
  {
   "cell_type": "code",
   "execution_count": 1,
   "id": "5d37cd0b",
   "metadata": {},
   "outputs": [
    {
     "name": "stdout",
     "output_type": "stream",
     "text": [
      "45\n",
      "pure\n"
     ]
    }
   ],
   "source": [
    "a = input()\n",
    "b = list(map(int, a))\n",
    "sum=0\n",
    "for i in b:\n",
    "  sum=sum+i\n",
    "if sum%3==0:\n",
    "  print(\"pure\")\n",
    "else:\n",
    "  print(\"not\")"
   ]
  },
  {
   "cell_type": "markdown",
   "id": "546db464",
   "metadata": {},
   "source": [
    "Shreya is a brilliant girl. She likes to memorize the numbers. These numbers will be shown to her. As an examiner develop an algorithm to test her memory.\n",
    "\n",
    "CONSTRAINTS\n",
    "\n",
    "1<=Y,N,T<=1000\n",
    "\n",
    "Input Description:\n",
    "First line contains no. of test cases(Y). Next line contains a number N. Next line contains n space separated numbers Next line contains a number T denoting the number of questions asked from you regarding the given array. Next line contains T space separated numbers.\n",
    "\n",
    "Output Description:\n",
    "Print the occurrence of each number if present else “NOT PRESENT”"
   ]
  },
  {
   "cell_type": "code",
   "execution_count": 2,
   "id": "cc7923f7",
   "metadata": {},
   "outputs": [
    {
     "name": "stdout",
     "output_type": "stream",
     "text": [
      "10\n",
      "2 3 4 5 6 7 8 9 0 1\n",
      "6\n",
      "11 45 65 77 23 5\n",
      "Not Present Not Present Not Present Not Present Not Present 1\n"
     ]
    }
   ],
   "source": [
    "y = int(input())\n",
    "n = list(map(int, input().split()))\n",
    "t = int(input())\n",
    "a = list(map(int, input().split()))\n",
    "N = n[:y]\n",
    "A = a[:t]\n",
    "res=[]\n",
    "for i in A:\n",
    "  count=0\n",
    "  for j in N:\n",
    "    if i==j:\n",
    "      count+=1\n",
    "  if count==0:\n",
    "    res.append(\"Not Present\")\n",
    "  else:\n",
    "    res.append(count)\n",
    "print(*res)"
   ]
  },
  {
   "cell_type": "markdown",
   "id": "c61e2782",
   "metadata": {},
   "source": [
    "Given a number N, print the odd digits in the number(space seperated) or print -1 if there is no odd digit in the given number."
   ]
  },
  {
   "cell_type": "code",
   "execution_count": 3,
   "id": "a0e6c1f4",
   "metadata": {},
   "outputs": [
    {
     "name": "stdout",
     "output_type": "stream",
     "text": [
      "2143\n",
      "1 3\n"
     ]
    }
   ],
   "source": [
    "A= input()\n",
    "B= list(map(int, str(A)))\n",
    "C= []\n",
    "for x in B:\n",
    "    if x%2==0:\n",
    "      continue\n",
    "    else:\n",
    "      C.append(x)\n",
    "if len(C)==0:\n",
    "  print(\"-1\")\n",
    "print(*C)"
   ]
  },
  {
   "cell_type": "markdown",
   "id": "c23659f4",
   "metadata": {},
   "source": [
    "Given a number N, find its next immediate greater power of 2(i.e 2^1, 2^2, 2^3...)."
   ]
  },
  {
   "cell_type": "code",
   "execution_count": 4,
   "id": "0638e7f3",
   "metadata": {},
   "outputs": [
    {
     "name": "stdout",
     "output_type": "stream",
     "text": [
      "65\n",
      "128\n"
     ]
    }
   ],
   "source": [
    "n = int(input())\n",
    "p=[]\n",
    "for i in range(11):\n",
    "  p.append(pow(2, i))\n",
    "for j in p:\n",
    "  if n<j:\n",
    "    print(j)\n",
    "    break"
   ]
  },
  {
   "cell_type": "markdown",
   "id": "ae59d25d",
   "metadata": {},
   "source": [
    "Ajay is given a series(In example).he gone through the series but unable to understand it properly,he has hired you.Your task is to understand the series and print the series 2,6,12,20,30... .You are given with a number ‘n’. Find the nth number of series.\n",
    "\n",
    "Input Description:\n",
    "You are given a number ‘n’.\n",
    "\n",
    "Output Description:\n",
    "Print the nth number of series"
   ]
  },
  {
   "cell_type": "code",
   "execution_count": 5,
   "id": "dd40933d",
   "metadata": {},
   "outputs": [
    {
     "name": "stdout",
     "output_type": "stream",
     "text": [
      "4\n",
      "20\n"
     ]
    }
   ],
   "source": [
    "n = int(input())\n",
    "l=[]\n",
    "sum=0\n",
    "for i in range(2, 200000, 2):\n",
    "  sum=sum+i\n",
    "  l.append(sum)\n",
    "print(l[n-1])"
   ]
  },
  {
   "cell_type": "markdown",
   "id": "f943c277",
   "metadata": {},
   "source": [
    "Given a number N, print 'yes' if it is composite else print 'no'."
   ]
  },
  {
   "cell_type": "code",
   "execution_count": 6,
   "id": "28169d82",
   "metadata": {},
   "outputs": [
    {
     "name": "stdout",
     "output_type": "stream",
     "text": [
      "43\n",
      "no\n"
     ]
    }
   ],
   "source": [
    "a= int(input())\n",
    "for i in range(2,a):\n",
    "    if a%i == 0:\n",
    "        print(\"yes\")\n",
    "        break\n",
    "else:\n",
    "    print(\"no\")"
   ]
  },
  {
   "cell_type": "markdown",
   "id": "65541bd3",
   "metadata": {},
   "source": [
    "you are given with ‘arasu’ series(shown in example).You have to understand it and you will be given a number ‘n’ ,you have to print the series till n numbers.\n",
    "\n",
    "Input Description:\n",
    "You are given a number n;\n",
    "\n",
    "Output Description:\n",
    "Print series till nth number"
   ]
  },
  {
   "cell_type": "code",
   "execution_count": 7,
   "id": "22e2495f",
   "metadata": {},
   "outputs": [
    {
     "name": "stdout",
     "output_type": "stream",
     "text": [
      "5\n",
      "2 5 10 17 26\n"
     ]
    }
   ],
   "source": [
    "n = int(input())\n",
    "l=[]\n",
    "sum=1\n",
    "for i in range(1, 2000000, 2):\n",
    "  sum=sum+i\n",
    "  l.append(sum)\n",
    "print(*l[:n])"
   ]
  },
  {
   "cell_type": "markdown",
   "id": "1d8f6767",
   "metadata": {},
   "source": [
    "Given a number N, find the nearest greater multiple of 10."
   ]
  },
  {
   "cell_type": "code",
   "execution_count": 8,
   "id": "aff672da",
   "metadata": {},
   "outputs": [
    {
     "name": "stdout",
     "output_type": "stream",
     "text": [
      "100\n",
      "110\n"
     ]
    }
   ],
   "source": [
    "b = int(input())\n",
    "for a in range(0,1000,10):\n",
    "  if b<a:\n",
    "    print(a)\n",
    "    break"
   ]
  },
  {
   "cell_type": "markdown",
   "id": "5f9f1c86",
   "metadata": {},
   "source": [
    "Given a number N, check whether it is prime or not. Print 'yes' if it is prime else print 'no'."
   ]
  },
  {
   "cell_type": "code",
   "execution_count": 9,
   "id": "25e27996",
   "metadata": {},
   "outputs": [
    {
     "name": "stdout",
     "output_type": "stream",
     "text": [
      "11\n",
      "yes\n"
     ]
    }
   ],
   "source": [
    "a= int(input())\n",
    "for i in range(2,a):\n",
    "    if a%i == 0:\n",
    "        print(\"no\")\n",
    "        break\n",
    "else:\n",
    "    print(\"yes\")"
   ]
  },
  {
   "cell_type": "markdown",
   "id": "92b785b7",
   "metadata": {},
   "source": [
    "Kabali is a brave warrior who with his group of young ninjas moves from one place to another to fight against his opponents. Before Fighting he just calculates one thing, the difference between his ninja number and the opponent's ninja number. From this difference he decides whether to fight or not. Kabali's ninja number is never greater than his opponent.\n",
    "Input\n",
    "The input contains two numbers in every line. These two numbers in each line denotes the number ninjas in Kabali's clan and his opponent's clan . print the absolute difference of number of ninjas between Kabali's clan and his opponent's clan. Each output should be in seperate line."
   ]
  },
  {
   "cell_type": "code",
   "execution_count": 10,
   "id": "94104a11",
   "metadata": {},
   "outputs": [
    {
     "name": "stdout",
     "output_type": "stream",
     "text": [
      "100 200\n",
      "100\n"
     ]
    }
   ],
   "source": [
    "import math\n",
    "\n",
    "K,O = map(int, input().split())\n",
    "D= K-O\n",
    "print(abs(D))\n"
   ]
  }
 ],
 "metadata": {
  "kernelspec": {
   "display_name": "pandas_venv",
   "language": "python",
   "name": "pandas_venv"
  },
  "language_info": {
   "codemirror_mode": {
    "name": "ipython",
    "version": 3
   },
   "file_extension": ".py",
   "mimetype": "text/x-python",
   "name": "python",
   "nbconvert_exporter": "python",
   "pygments_lexer": "ipython3",
   "version": "3.10.7"
  }
 },
 "nbformat": 4,
 "nbformat_minor": 5
}
