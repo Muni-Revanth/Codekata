{
 "cells": [
  {
   "cell_type": "markdown",
   "id": "c9b8307c",
   "metadata": {},
   "source": [
    "# Codekata_Mathematics_10"
   ]
  },
  {
   "cell_type": "markdown",
   "id": "26b37892",
   "metadata": {},
   "source": [
    "Given a square matrix of size N x N, find the product of the sum of diagonals."
   ]
  },
  {
   "cell_type": "code",
   "execution_count": 1,
   "id": "19628134",
   "metadata": {},
   "outputs": [
    {
     "name": "stdout",
     "output_type": "stream",
     "text": [
      "2\n",
      "2 4\n",
      "3 7\n",
      "63\n"
     ]
    }
   ],
   "source": [
    "n = int(input())\n",
    "mat=[]\n",
    "diag1=[]\n",
    "diag2=[]\n",
    "for j in range(n):\n",
    "  b=list(map(int, input().split()))\n",
    "  mat.append(b)\n",
    "for k in range(n):\n",
    "  a = mat[k][k]\n",
    "  diag1.append(a)\n",
    "for m in range(n):\n",
    "  b = mat[m][abs(n-m-1)]\n",
    "  diag2.append(b)\n",
    "print(sum(diag1)*sum(diag2))"
   ]
  },
  {
   "cell_type": "markdown",
   "id": "5c4afb79",
   "metadata": {},
   "source": [
    "How many possible ways are to shuffle given number of playing cards?."
   ]
  },
  {
   "cell_type": "code",
   "execution_count": 2,
   "id": "ea4c0cc8",
   "metadata": {},
   "outputs": [
    {
     "name": "stdout",
     "output_type": "stream",
     "text": [
      "7\n",
      "5040\n"
     ]
    }
   ],
   "source": [
    "a= int(input())\n",
    "fact= 1\n",
    "for x in range(a,0,-1):\n",
    "  fact=fact*x\n",
    "print(fact)"
   ]
  },
  {
   "cell_type": "markdown",
   "id": "aa5bbdd3",
   "metadata": {},
   "source": [
    "Given a number N, print their prime factors in sorted order."
   ]
  },
  {
   "cell_type": "code",
   "execution_count": 3,
   "id": "a27681c8",
   "metadata": {},
   "outputs": [
    {
     "name": "stdout",
     "output_type": "stream",
     "text": [
      "18\n",
      "2 3\n"
     ]
    }
   ],
   "source": [
    "a= int(input())\n",
    "factors= []\n",
    "pf = []\n",
    "for x in range(2,100):\n",
    "  if a%x==0:\n",
    "    factors.append(x)\n",
    "for i in factors:\n",
    "  for j in range(2,i):\n",
    "    if i%j == 0:\n",
    "      break\n",
    "  else:\n",
    "    pf.append(i)\n",
    "pf.sort()\n",
    "print(*pf)"
   ]
  },
  {
   "cell_type": "markdown",
   "id": "b7e22372",
   "metadata": {},
   "source": [
    "Given a number N, print 'INT' if it is integer range or print 'LONG' if it is greater."
   ]
  },
  {
   "cell_type": "code",
   "execution_count": 4,
   "id": "cc6bfda7",
   "metadata": {},
   "outputs": [
    {
     "name": "stdout",
     "output_type": "stream",
     "text": [
      "999\n",
      "INT\n"
     ]
    }
   ],
   "source": [
    "a= input()\n",
    "b= int(a)\n",
    "if b<100000:\n",
    "  print(\"INT\")\n",
    "else:\n",
    "  print(\"LONG\")"
   ]
  },
  {
   "cell_type": "markdown",
   "id": "744b2e09",
   "metadata": {},
   "source": [
    "Given a number N, check if N is divisible by any number less than N (ie.,it leaves no remainder)except 1."
   ]
  },
  {
   "cell_type": "code",
   "execution_count": 5,
   "id": "a93f21c8",
   "metadata": {},
   "outputs": [
    {
     "name": "stdout",
     "output_type": "stream",
     "text": [
      "10\n",
      "yes\n"
     ]
    }
   ],
   "source": [
    "a= int(input())\n",
    "for x in range(2,a):\n",
    "    if a%x == 0:\n",
    "        print(\"yes\")\n",
    "        break\n",
    "else:\n",
    "    print(\"no\")"
   ]
  },
  {
   "cell_type": "markdown",
   "id": "3f4b0930",
   "metadata": {},
   "source": [
    "A number is given as input. Find the odd digits in the number, add them and find if the sum is odd or not. If even print E, if odd print O."
   ]
  },
  {
   "cell_type": "code",
   "execution_count": 6,
   "id": "6db3800e",
   "metadata": {},
   "outputs": [
    {
     "name": "stdout",
     "output_type": "stream",
     "text": [
      "413\n",
      "E\n"
     ]
    }
   ],
   "source": [
    "a= input()\n",
    "b= list(map(int, str(a)))\n",
    "odd= []\n",
    "sum = 0\n",
    "for x in b:\n",
    "    if x%2!=0:\n",
    "        odd.append(x)\n",
    "for i in odd:\n",
    "    sum=sum+i\n",
    "if sum%2==0:\n",
    "    print(\"E\")\n",
    "else: print(\"O\")"
   ]
  },
  {
   "cell_type": "markdown",
   "id": "9b2fc6b3",
   "metadata": {},
   "source": [
    "harish learnt about gcd and and want to apply the concept to find the gcd of n numbers.\n",
    "\n",
    "But in between he got stuck and now he is asking for some help your task is to print the gcd of n numbers and print -1 if there is no gcd possible.\n",
    "\n",
    "Input Description:\n",
    "You are given an array size ‘n’.Next line contains n space separated numbers.\n",
    "\n",
    "Output Description:\n",
    "Your task is to print the gcd of number"
   ]
  },
  {
   "cell_type": "code",
   "execution_count": 7,
   "id": "1750b867",
   "metadata": {},
   "outputs": [
    {
     "name": "stdout",
     "output_type": "stream",
     "text": [
      "6\n",
      "2 4 8 16\n",
      "2\n"
     ]
    }
   ],
   "source": [
    "b=int(input())\n",
    "a= list(map(int, input().split()))\n",
    "hcf=[]\n",
    "smaller = min(a)\n",
    "for i in range(1, smaller+1):\n",
    "  count=0\n",
    "  for j in range(len(a)):\n",
    "    if a[j]%i==0:\n",
    "      count=count+1\n",
    "      if count==len(a):\n",
    "        hcf.append(i)\n",
    "    else:\n",
    "      break\n",
    "print(max(hcf))"
   ]
  },
  {
   "cell_type": "markdown",
   "id": "185a3f7e",
   "metadata": {},
   "source": [
    "Given a range (i.e) two numbers L and R count the number of perfect squares within the range (inclusive of L and R).If no perfect square exists within the range print '-1'."
   ]
  },
  {
   "cell_type": "code",
   "execution_count": 8,
   "id": "cce4544f",
   "metadata": {},
   "outputs": [
    {
     "name": "stdout",
     "output_type": "stream",
     "text": [
      "2 10\n",
      "2\n"
     ]
    }
   ],
   "source": [
    "a,b = map(int, input().split())\n",
    "ps = [1,4,9,16,25,36,49,64,81,100,121,144,169,196,225]\n",
    "count=0\n",
    "for x in range(a, b+1):\n",
    "    if x in ps:\n",
    "      count=count+1\n",
    "if count == 0:\n",
    "  print(\"-1\")\n",
    "else: print(count)"
   ]
  },
  {
   "cell_type": "markdown",
   "id": "c64ee009",
   "metadata": {},
   "source": [
    "Given a number N in decimal, print the length of the corresponding binary digit."
   ]
  },
  {
   "cell_type": "code",
   "execution_count": 9,
   "id": "6c1fa9f3",
   "metadata": {},
   "outputs": [
    {
     "name": "stdout",
     "output_type": "stream",
     "text": [
      "10\n",
      "4\n"
     ]
    }
   ],
   "source": [
    "a = int(input())\n",
    "b = bin(a)\n",
    "print(len(b[2:]))"
   ]
  },
  {
   "cell_type": "markdown",
   "id": "ed69656d",
   "metadata": {},
   "source": [
    "Given a number N, Print sum of every didgit to the power of the weight of corresponding digit(Explanation : If the input is 12345 and then output calculated as (1^0)+(2^1)+(3^2)+(4^3)+(5^4))."
   ]
  },
  {
   "cell_type": "code",
   "execution_count": 10,
   "id": "a1839033",
   "metadata": {},
   "outputs": [
    {
     "name": "stdout",
     "output_type": "stream",
     "text": [
      "100\n",
      "1\n"
     ]
    }
   ],
   "source": [
    "a= input()\n",
    "b= list(map(int, str(a)))\n",
    "c= len(b)\n",
    "pow=[]\n",
    "i=0\n",
    "sum=0\n",
    "for x in range(0,c):\n",
    "  d= b[i]**x\n",
    "  pow.append(d)\n",
    "  i+=1\n",
    "  sum+=d\n",
    "print(sum)"
   ]
  }
 ],
 "metadata": {
  "kernelspec": {
   "display_name": "pandas_venv",
   "language": "python",
   "name": "pandas_venv"
  },
  "language_info": {
   "codemirror_mode": {
    "name": "ipython",
    "version": 3
   },
   "file_extension": ".py",
   "mimetype": "text/x-python",
   "name": "python",
   "nbconvert_exporter": "python",
   "pygments_lexer": "ipython3",
   "version": "3.10.7"
  }
 },
 "nbformat": 4,
 "nbformat_minor": 5
}
