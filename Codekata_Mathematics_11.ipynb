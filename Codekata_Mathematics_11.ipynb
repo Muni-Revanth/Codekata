{
 "cells": [
  {
   "cell_type": "markdown",
   "id": "00e21734",
   "metadata": {},
   "source": [
    "# Codekata_Mathematics_11"
   ]
  },
  {
   "cell_type": "markdown",
   "id": "de464bae",
   "metadata": {},
   "source": [
    "Given a number N, print the distinct pairs formed by multiplying two prime numbers (i.e)prime x prime should yield the N.Also print the numbers in descending order.If no such pairs can be formed print '-1'."
   ]
  },
  {
   "cell_type": "code",
   "execution_count": 1,
   "id": "549f6231",
   "metadata": {},
   "outputs": [
    {
     "name": "stdout",
     "output_type": "stream",
     "text": [
      "65\n",
      "13 5\n"
     ]
    }
   ],
   "source": [
    "a= int(input())\n",
    "pn= [2,3,5,7,11,13,17,19,23,29]\n",
    "f=[]\n",
    "for x in pn:\n",
    "  if a%x==0:\n",
    "    s= a/x\n",
    "    if s!=1:\n",
    "        s1=int(s)\n",
    "        f.append(s1)\n",
    "        f.append(x)\n",
    "        break\n",
    "\n",
    "    else: print(\"-1\")\n",
    "    \n",
    "f.sort()\n",
    "f.reverse()\n",
    "print(*f)"
   ]
  },
  {
   "cell_type": "markdown",
   "id": "2fa52284",
   "metadata": {},
   "source": [
    "Given 2 numbers, perform bitwise xor and find the number of ones in its binary representation."
   ]
  },
  {
   "cell_type": "code",
   "execution_count": 2,
   "id": "4269eba0",
   "metadata": {},
   "outputs": [
    {
     "name": "stdout",
     "output_type": "stream",
     "text": [
      "10 5\n",
      "4\n"
     ]
    }
   ],
   "source": [
    "a,b = map(int, input().split())\n",
    "s= a^b\n",
    "t= bin(s)\n",
    "x= t[2:]\n",
    "count=0\n",
    "li = list(map(int, str(x)))\n",
    "for i in li:\n",
    "  if i==1:\n",
    "    count+=1\n",
    "\n",
    "print(count)"
   ]
  },
  {
   "cell_type": "markdown",
   "id": "ac7ba266",
   "metadata": {},
   "source": [
    "Given 3 angles A,B,C find if they can be interior angles of a triangle.If they form an interior triangle for the given angle,print 'yes' otherwise print 'no'."
   ]
  },
  {
   "cell_type": "code",
   "execution_count": 3,
   "id": "14b6998a",
   "metadata": {},
   "outputs": [
    {
     "name": "stdout",
     "output_type": "stream",
     "text": [
      "2 2 176\n",
      "yes\n"
     ]
    }
   ],
   "source": [
    "A,B,C = map(int, input().split())\n",
    "sum= A+B+C\n",
    "if sum==180:\n",
    "    print(\"yes\")\n",
    "else:\n",
    "    print(\"no\")"
   ]
  },
  {
   "cell_type": "markdown",
   "id": "2dcd0127",
   "metadata": {},
   "source": [
    "You are given an integer N, find if the number is divisible by 4.\n",
    "N >= 1\n",
    "1 <= No. of digits in N <= 1000\n",
    "\n",
    "Input Description:\n",
    "Read an integer N\n",
    "\n",
    "Output Description:\n",
    "Print YES if N is divisible by 4, NO otherwise."
   ]
  },
  {
   "cell_type": "code",
   "execution_count": 4,
   "id": "b5ba5d3f",
   "metadata": {},
   "outputs": [
    {
     "name": "stdout",
     "output_type": "stream",
     "text": [
      "64\n",
      "YES\n"
     ]
    }
   ],
   "source": [
    "N= int(input())\n",
    "if N%4==0:\n",
    "    print(\"YES\")\n",
    "else: print(\"NO\")"
   ]
  },
  {
   "cell_type": "markdown",
   "id": "b1196497",
   "metadata": {},
   "source": [
    "Rahul was learning about numbers in list. He came across one word ground of a number.\n",
    "\n",
    "A ground of a number is defined as the number which is just smaller or equal to the number given to you.Hence he started solving some assignments related to it. He got struck in some questions. Your task is to help him.\n",
    "\n",
    "O(n) time complexity\n",
    "\n",
    "O(n) Auxilary space\n",
    "\n",
    "Input Description:\n",
    "First line contains two numbers ‘n’ denoting number of integers and ‘k’ whose ground is to be check. Next line contains n space separated numbers.\n",
    "\n",
    "Output Description:\n",
    "Print the index of val.Print -1 if equal or near exqual number"
   ]
  },
  {
   "cell_type": "code",
   "execution_count": 5,
   "id": "b08afa36",
   "metadata": {},
   "outputs": [
    {
     "name": "stdout",
     "output_type": "stream",
     "text": [
      "7 3\n",
      "1 2 3 4 5 6 7\n",
      "2\n"
     ]
    }
   ],
   "source": [
    "a,b = map(int, input().split())\n",
    "li= list(map(int, input().split()))\n",
    "s= li[:a]\n",
    "count=0\n",
    "for x in s:\n",
    "  if x == b:\n",
    "    count=count+1\n",
    "    break\n",
    "  else:\n",
    "    count=count+1\n",
    "\n",
    "print(count-1)"
   ]
  },
  {
   "cell_type": "markdown",
   "id": "404318dc",
   "metadata": {},
   "source": [
    "Given a range[L,R], print the sum of all the odd numbers within the range(inclusive of L and R)."
   ]
  },
  {
   "cell_type": "code",
   "execution_count": 6,
   "id": "a4363ac4",
   "metadata": {},
   "outputs": [
    {
     "name": "stdout",
     "output_type": "stream",
     "text": [
      "5 10\n",
      "21\n"
     ]
    }
   ],
   "source": [
    "L,R = map(int, input().split())\n",
    "sum=0\n",
    "for x in range(L,R+1):\n",
    "    if x%2!=0:\n",
    "        sum=sum+x\n",
    "print(sum)"
   ]
  },
  {
   "cell_type": "markdown",
   "id": "6da202be",
   "metadata": {},
   "source": [
    "The Caesar Cipher technique is one of the earliest and simplest method of encryption technique. It’s simply a type of substitution cipher, i.e., each letter of a given text is replaced by a letter some fixed number of positions down the alphabet. For example with a shift of 1, A would be replaced by B, B would become C, and so on. The method is apparently named after Julius Caesar, who apparently used it to communicate with his officials.For the given input string(S) and shift print the encrypted string."
   ]
  },
  {
   "cell_type": "code",
   "execution_count": 7,
   "id": "29ba9fb1",
   "metadata": {},
   "outputs": [
    {
     "name": "stdout",
     "output_type": "stream",
     "text": [
      "ABCdEFGHIJKLMNOPQRSTUVWXYz 23\n",
      "XYZ{\\]^_`abcdefghijklmnop\n"
     ]
    }
   ],
   "source": [
    "a,b= map(str, input().split())\n",
    "c= int(b)\n",
    "d= list(map(str, str(a)))\n",
    "ascii=[]\n",
    "pr =[]\n",
    "for x in d:\n",
    "  asc= ord(x)+c\n",
    "  ascii.append(asc)\n",
    "for i in ascii:\n",
    "  f= chr(i)\n",
    "  pr.append(f)\n",
    "print(*pr, sep=\"\")"
   ]
  },
  {
   "cell_type": "markdown",
   "id": "fc191e76",
   "metadata": {},
   "source": [
    "Given an integer N, find if it is divisible by 11\n",
    "\n",
    "N >= 1\n",
    "\n",
    "1 <= No. of digits in N <= 1000\n",
    "\n",
    "Input Description:\n",
    "The only line of input contains an integer N\n",
    "\n",
    "Output Description:\n",
    "Print YES if N is divisible by 11, NO otherwise."
   ]
  },
  {
   "cell_type": "code",
   "execution_count": 8,
   "id": "f05f88ed",
   "metadata": {},
   "outputs": [
    {
     "name": "stdout",
     "output_type": "stream",
     "text": [
      "1331\n",
      "YES\n"
     ]
    }
   ],
   "source": [
    "a= int(input())\n",
    "if a%11==0:\n",
    "    print(\"YES\")\n",
    "else:\n",
    "    print(\"NO\")"
   ]
  },
  {
   "cell_type": "markdown",
   "id": "5a52e3aa",
   "metadata": {},
   "source": [
    "Given a square matrix of size N x N, find the sum of the product of its diagonals."
   ]
  },
  {
   "cell_type": "code",
   "execution_count": 9,
   "id": "bce05ed0",
   "metadata": {},
   "outputs": [
    {
     "name": "stdout",
     "output_type": "stream",
     "text": [
      "2\n",
      "2 4\n",
      "3 7\n",
      "26\n"
     ]
    }
   ],
   "source": [
    "import math\n",
    "n = int(input())\n",
    "mat=[]\n",
    "diag1=[]\n",
    "diag2=[]\n",
    "for j in range(n):\n",
    "  b=list(map(int, input().split()))\n",
    "  mat.append(b)\n",
    "for k in range(n):\n",
    "  a = mat[k][k]\n",
    "  diag1.append(a)\n",
    "for m in range(n):\n",
    "  b = mat[m][abs(n-m-1)]\n",
    "  diag2.append(b)\n",
    "print(math.prod(diag1)+math.prod(diag2))"
   ]
  },
  {
   "cell_type": "markdown",
   "id": "0681e8b7",
   "metadata": {},
   "source": [
    "Given 2 strings S,X. Print 'yes' if their lengths are co-prime otherwise print 'no'."
   ]
  },
  {
   "cell_type": "code",
   "execution_count": 10,
   "id": "6170acfe",
   "metadata": {},
   "outputs": [
    {
     "name": "stdout",
     "output_type": "stream",
     "text": [
      "GUVIS GEEKTEC\n",
      "yes\n"
     ]
    }
   ],
   "source": [
    "S,X = map(str, input().split())\n",
    "a= len(S)\n",
    "b= len(X)\n",
    "li= [2,3,5,7,11,13,17,19,23,29]\n",
    "if a and b in li:\n",
    "    print(\"yes\")\n",
    "else:\n",
    "    print(\"no\")"
   ]
  }
 ],
 "metadata": {
  "kernelspec": {
   "display_name": "pandas_venv",
   "language": "python",
   "name": "pandas_venv"
  },
  "language_info": {
   "codemirror_mode": {
    "name": "ipython",
    "version": 3
   },
   "file_extension": ".py",
   "mimetype": "text/x-python",
   "name": "python",
   "nbconvert_exporter": "python",
   "pygments_lexer": "ipython3",
   "version": "3.10.7"
  }
 },
 "nbformat": 4,
 "nbformat_minor": 5
}
