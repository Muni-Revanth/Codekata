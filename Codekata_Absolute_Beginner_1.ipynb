{
  "nbformat": 4,
  "nbformat_minor": 0,
  "metadata": {
    "colab": {
      "provenance": []
    },
    "kernelspec": {
      "name": "python3",
      "display_name": "Python 3"
    },
    "language_info": {
      "name": "python"
    }
  },
  "cells": [
    {
      "cell_type": "markdown",
      "source": [
        "# **Absolute Beginner**"
      ],
      "metadata": {
        "id": "G7DR-oeHu-Ro"
      }
    },
    {
      "cell_type": "markdown",
      "source": [
        "Print the First 3 multiples of the given number \"N\". (N is a positive integer)\n",
        "\n",
        "Note: print the characters with a single space between them.\n",
        "\n",
        "Input Description:\n",
        "A positive integer is provided to you as an input.\n",
        "\n",
        "Output Description:\n",
        "Print the First 3 multiples of the number with single spaces between them as an output."
      ],
      "metadata": {
        "id": "UuWJUefGs3XK"
      }
    },
    {
      "cell_type": "code",
      "execution_count": 1,
      "metadata": {
        "colab": {
          "base_uri": "https://localhost:8080/"
        },
        "id": "FR1kIbZfsi6q",
        "outputId": "a90e195e-55bc-4e88-9782-51a9d26cf5e6"
      },
      "outputs": [
        {
          "output_type": "stream",
          "name": "stdout",
          "text": [
            "3\n",
            "3 6 9\n"
          ]
        }
      ],
      "source": [
        "a= int(input())\n",
        "b= a*1\n",
        "c= a*2\n",
        "d= a*3\n",
        "\n",
        "print(b,c,d)"
      ]
    },
    {
      "cell_type": "markdown",
      "source": [
        "You are provided with the radius of a circle \"A\". Find the length of its circumference.\n",
        "\n",
        "Note: In case the output is coming in decimal, roundoff to 2nd decimal place. In case the input is a negative number, print \"Error\".\n",
        "\n",
        "Input Description:\n",
        "The Radius of a circle is provided as the input of the program.\n",
        "\n",
        "Output Description:\n",
        "Calculate and print the Circumference of the circle corresponding to the input radius up to two decimal places."
      ],
      "metadata": {
        "id": "lbsw2QWjtGfy"
      }
    },
    {
      "cell_type": "code",
      "source": [
        "radius= float(input())\n",
        "b= 2*3.14159*radius\n",
        "print(round(b, 2))"
      ],
      "metadata": {
        "colab": {
          "base_uri": "https://localhost:8080/"
        },
        "id": "mqQ2cLmhtLB9",
        "outputId": "6629d59d-d03b-4eae-c175-790c51fb1df7"
      },
      "execution_count": 2,
      "outputs": [
        {
          "output_type": "stream",
          "name": "stdout",
          "text": [
            "4\n",
            "25.13\n"
          ]
        }
      ]
    },
    {
      "cell_type": "markdown",
      "source": [
        "You are given Two Numbers, A and B. If C = A + B. Find C.\n",
        "\n",
        "Note: Round off the output to a single decimal place.\n",
        "\n",
        "Input Description:\n",
        "You are provided with two numbers A and B.\n",
        "\n",
        "Output Description:\n",
        "Find the sum of the two numbers (A + B)"
      ],
      "metadata": {
        "id": "gvBssRC1tf38"
      }
    },
    {
      "cell_type": "code",
      "source": [
        "A= float(input())\n",
        "B= float(input())\n",
        "C= A+B\n",
        "print(round(C))"
      ],
      "metadata": {
        "colab": {
          "base_uri": "https://localhost:8080/"
        },
        "id": "wgzdTqo8tNw5",
        "outputId": "34df2ede-13d8-4999-fcd7-5922fdb7c5e5"
      },
      "execution_count": 3,
      "outputs": [
        {
          "output_type": "stream",
          "name": "stdout",
          "text": [
            "2.7\n",
            "3.5\n",
            "6\n"
          ]
        }
      ]
    },
    {
      "cell_type": "markdown",
      "source": [
        "You are given a number A in Kilometers. Convert this into B: Meters and C: Centi-Metres.\n",
        "\n",
        "Input Description:\n",
        "A number \"A\" representing some distance in kilometer is provided to you as the input.\n",
        "\n",
        "Output Description:\n",
        "Convert and print this value in meters and centimeters."
      ],
      "metadata": {
        "id": "RLmS3zaNtooU"
      }
    },
    {
      "cell_type": "code",
      "source": [
        "A= int(input())\n",
        "B= A*1000\n",
        "C= B*100\n",
        "print(B)\n",
        "print(C)\n"
      ],
      "metadata": {
        "colab": {
          "base_uri": "https://localhost:8080/"
        },
        "id": "rAdeFua4tdGs",
        "outputId": "6303e637-64c7-4483-f076-648f303e3ea3"
      },
      "execution_count": 4,
      "outputs": [
        {
          "output_type": "stream",
          "name": "stdout",
          "text": [
            "34\n",
            "34000\n",
            "3400000\n"
          ]
        }
      ]
    },
    {
      "cell_type": "markdown",
      "source": [
        "You are provided with a number, \"N\". Find its factorial.\n",
        "\n",
        "Input Description:\n",
        "A positive integer is provided as an input.\n",
        "\n",
        "Output Description:\n",
        "Print the factorial of the integer."
      ],
      "metadata": {
        "id": "a-8MtW-3trZU"
      }
    },
    {
      "cell_type": "code",
      "source": [
        "a = int(input())\n",
        "factorial= 1\n",
        "for i in range(1, a+1):\n",
        "    factorial= factorial*i\n",
        "print(factorial)"
      ],
      "metadata": {
        "colab": {
          "base_uri": "https://localhost:8080/"
        },
        "id": "1RU0f9oituqK",
        "outputId": "8132fad5-798c-4671-8e00-5e7102d8332b"
      },
      "execution_count": 5,
      "outputs": [
        {
          "output_type": "stream",
          "name": "stdout",
          "text": [
            "5\n",
            "120\n"
          ]
        }
      ]
    },
    {
      "cell_type": "markdown",
      "source": [
        "You are provided with a number \"N\", Find the Nth term of the series: 1, 4, 9, 16, 25, 36, 49, 64, 81, .......\n",
        "\n",
        "(Print \"Error\" if N = negative value and 0 if N = 0).\n",
        "\n",
        "Input Description:\n",
        "An integer N is provided to you as the input.\n",
        "\n",
        "Output Description:\n",
        "Find the Nth term in the provided series."
      ],
      "metadata": {
        "id": "nNfUVr46wqNI"
      }
    },
    {
      "cell_type": "code",
      "source": [
        "a= int(input())\n",
        "if a<0:\n",
        "    print(\"Error\")\n",
        "else:\n",
        "    print(a*a)"
      ],
      "metadata": {
        "colab": {
          "base_uri": "https://localhost:8080/"
        },
        "id": "B23r8KX_wub-",
        "outputId": "9dc27040-a191-4c2b-d819-0d7dacd1a09d"
      },
      "execution_count": 6,
      "outputs": [
        {
          "output_type": "stream",
          "name": "stdout",
          "text": [
            "5\n",
            "25\n"
          ]
        }
      ]
    },
    {
      "cell_type": "markdown",
      "source": [
        "You are given A = Length of a rectangle & B = breadth of a rectangle. Find its area “C”.\n",
        "\n",
        "(A and B are natural numbers)\n",
        "\n",
        "Input Description:\n",
        "The inputs are two natural numbers representing the length and the breadth of a rectangle.\n",
        "\n",
        "Output Description:\n",
        "Find the area of the rectangle formed by the provided input. Round off the answer to the first decimal place if required."
      ],
      "metadata": {
        "id": "1QSiGCAOxvvl"
      }
    },
    {
      "cell_type": "code",
      "source": [
        "length= int(input())\n",
        "breadth= int(input())\n",
        "area= length*breadth\n",
        "print(round(area))"
      ],
      "metadata": {
        "colab": {
          "base_uri": "https://localhost:8080/"
        },
        "id": "6FvJQknIxywt",
        "outputId": "bb333a5f-badc-40bf-ac7e-5d6f30fa4973"
      },
      "execution_count": 7,
      "outputs": [
        {
          "output_type": "stream",
          "name": "stdout",
          "text": [
            "4\n",
            "5\n",
            "20\n"
          ]
        }
      ]
    },
    {
      "cell_type": "markdown",
      "source": [
        "Using the method of looping, write a program to print the table of 9 till N in the format as follows:\n",
        "(N is input by the user)\n",
        "\n",
        "9 18 27...\n",
        "\n",
        "Print NULL if 0 is input\n",
        "\n",
        "Input Description:\n",
        "A positive integer is provided as an input.\n",
        "\n",
        "Output Description:\n",
        "Print the table of nine with single space between the elements till the number that is input."
      ],
      "metadata": {
        "id": "CKzyFNu9x1YN"
      }
    },
    {
      "cell_type": "code",
      "source": [
        "a= int(input())\n",
        "l= []\n",
        "for x in range(1,a+1):\n",
        "  R= x*9\n",
        "  l.append(R)\n",
        "print(*l)"
      ],
      "metadata": {
        "colab": {
          "base_uri": "https://localhost:8080/"
        },
        "id": "2rFVRNYLx4pZ",
        "outputId": "cf0cc0b9-f2f5-473f-8838-677ab2712f2f"
      },
      "execution_count": 8,
      "outputs": [
        {
          "output_type": "stream",
          "name": "stdout",
          "text": [
            "6\n",
            "9 18 27 36 45 54\n"
          ]
        }
      ]
    },
    {
      "cell_type": "markdown",
      "source": [
        "Write a code to get the input and print it 5 times.\n",
        "\n",
        "Input Description:\n",
        "A single line contains an integer N.\n",
        "\n",
        "Output Description:\n",
        "Output contains 5 lines with each line having the value N."
      ],
      "metadata": {
        "id": "sxKZqamkx60d"
      }
    },
    {
      "cell_type": "code",
      "source": [
        "a= int(input())\n",
        "print(a)\n",
        "print(a)\n",
        "print(a)\n",
        "print(a)\n",
        "print(a)"
      ],
      "metadata": {
        "colab": {
          "base_uri": "https://localhost:8080/"
        },
        "id": "L_jHrRssx9yN",
        "outputId": "84ad16d0-0048-4228-de11-f8fbcb26a637"
      },
      "execution_count": 9,
      "outputs": [
        {
          "output_type": "stream",
          "name": "stdout",
          "text": [
            "5\n",
            "5\n",
            "5\n",
            "5\n",
            "5\n",
            "5\n"
          ]
        }
      ]
    },
    {
      "cell_type": "markdown",
      "source": [
        "You are given with a number \"N\", find its cube.\n",
        "\n",
        "Input Description:\n",
        "A positive integer is provided.\n",
        "\n",
        "Output Description:\n",
        "Find the cube of the number."
      ],
      "metadata": {
        "id": "jIQ-tQbKyBpZ"
      }
    },
    {
      "cell_type": "code",
      "source": [
        "a= int(input())\n",
        "print(a*a*a)"
      ],
      "metadata": {
        "colab": {
          "base_uri": "https://localhost:8080/"
        },
        "id": "lKC8xC36yFNN",
        "outputId": "ef8efab2-7e34-4ad9-ee52-08ed4645ff2d"
      },
      "execution_count": 10,
      "outputs": [
        {
          "output_type": "stream",
          "name": "stdout",
          "text": [
            "5\n",
            "125\n"
          ]
        }
      ]
    }
  ]
}