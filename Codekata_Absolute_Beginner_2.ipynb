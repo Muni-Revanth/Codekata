{
  "nbformat": 4,
  "nbformat_minor": 0,
  "metadata": {
    "colab": {
      "provenance": []
    },
    "kernelspec": {
      "name": "python3",
      "display_name": "Python 3"
    },
    "language_info": {
      "name": "python"
    }
  },
  "cells": [
    {
      "cell_type": "markdown",
      "source": [
        "# **Absolute Beginner**"
      ],
      "metadata": {
        "id": "Q5QBaQHT0YkS"
      }
    },
    {
      "cell_type": "markdown",
      "source": [
        "You are given the coefficients of a quadratic equation in order A, B & C.\n",
        "\n",
        "Where A is the coefficient of X2,  B is the coefficient of X and C is the constant term in the most simplified form.\n",
        "\n",
        "Example: For  X2 + 5X + 6 = 0, you are given the input as: 1 5 6.\n",
        "\n",
        "Write a program to find all of the roots of the quadratic.\n",
        "\n",
        "Note: The output should be up to 2nd decimal place (round off if needed) and in case of a recurring decimal use braces i.e. for eg: 0.33333..... => 0.33.\n",
        "\n",
        "Note: Use Shri Dharacharya's Method to solve i.e. X = {-b + √(b² - 4ac) } / 2a & {-b-√(b² -4ac)} / 2a\n",
        "\n",
        "Input Description:\n",
        "Three numbers corresponding to the coefficients of x(squared), x and constant are given as an input in that particular order\n",
        "\n",
        "Output Description:\n",
        "Print the two values of X after rounding off to 2 decimal places if required."
      ],
      "metadata": {
        "id": "bq7_pE9zzRG6"
      }
    },
    {
      "cell_type": "code",
      "execution_count": 1,
      "metadata": {
        "colab": {
          "base_uri": "https://localhost:8080/"
        },
        "id": "KSR7_dUOzKJJ",
        "outputId": "bfa37970-b231-4571-83a7-3020a2d9f54a"
      },
      "outputs": [
        {
          "output_type": "stream",
          "name": "stdout",
          "text": [
            "3 4 5\n",
            "-0.67+1.11j\n",
            "-0.67-1.11j\n"
          ]
        }
      ],
      "source": [
        "a, b, c = list(map(int, input().split()))\n",
        "d=(b**2)-(4*a*c)\n",
        "e= (-b+(d**0.5))/(2*a)\n",
        "f= (-b-(d**0.5))/(2*a)\n",
        "print(format(e,\".2f\"))\n",
        "print(format(f, \".2f\"))"
      ]
    },
    {
      "cell_type": "markdown",
      "source": [
        "Let \"A\" be a year, write a program to check whether this year is a leap year or not.\n",
        "\n",
        "Print \"Y\" if its a leap year and \"N\" if its a common year.\n",
        "\n",
        "Input Description:\n",
        "A Year is the input in the form of a positive integer.\n",
        "\n",
        "Output Description:\n",
        "Print \"Y\" if its a leap year and \"N\" if its a common year."
      ],
      "metadata": {
        "id": "Tho67zMqzVyx"
      }
    },
    {
      "cell_type": "code",
      "source": [
        "a= int(input())\n",
        "if a%4==0:\n",
        "    print(\"Y\")\n",
        "else:\n",
        "    print(\"N\")"
      ],
      "metadata": {
        "colab": {
          "base_uri": "https://localhost:8080/"
        },
        "id": "8_oINYZ4zZp5",
        "outputId": "7cf11315-82e1-491d-f071-2ea9a5f3da63"
      },
      "execution_count": 2,
      "outputs": [
        {
          "output_type": "stream",
          "name": "stdout",
          "text": [
            "2020\n",
            "Y\n"
          ]
        }
      ]
    },
    {
      "cell_type": "markdown",
      "source": [
        "The area of an equilateral triangle is ¼(√3a2) where \"a\" represents a side of the triangle. You are provided with the side \"a\". Find the area of the equilateral triangle.\n",
        "\n",
        "Input Description:\n",
        "The side of an equilateral triangle is provided as the input.\n",
        "\n",
        "Output Description:\n",
        "Find the area of the equilateral triangle and print the answer up to 2 decimal places after rounding off."
      ],
      "metadata": {
        "id": "dhtsO2aFzbcp"
      }
    },
    {
      "cell_type": "code",
      "source": [
        "a= int(input())\n",
        "b= (3**0.5)*(a**2)\n",
        "c= b*0.25\n",
        "print(round(c, 2))\n"
      ],
      "metadata": {
        "colab": {
          "base_uri": "https://localhost:8080/"
        },
        "id": "bHrT3vpTzeyN",
        "outputId": "8bd82104-2f81-4619-d9c0-30ffb5a228ba"
      },
      "execution_count": 3,
      "outputs": [
        {
          "output_type": "stream",
          "name": "stdout",
          "text": [
            "4\n",
            "6.93\n"
          ]
        }
      ]
    },
    {
      "cell_type": "markdown",
      "source": [
        "You will be provided with a number. Print the number of days in the month corresponding to that number.\n",
        "\n",
        "Note: In case the input is February, print 28 days. If the Input is not in valid range print \"Error\".\n",
        "\n",
        "Input Description:\n",
        "The input is in the form of a number.\n",
        "\n",
        "Output Description:\n",
        "Find the days in the month corresponding to the input number. Print Error if the input is not in a valid range."
      ],
      "metadata": {
        "id": "ZuEGDPouzkKq"
      }
    },
    {
      "cell_type": "code",
      "source": [
        "a= [\"Error\", 31, 28, 31, 30, 31, 30, 31, 31, 30, 31, 30, 31]\n",
        "b= int(input())\n",
        "if (b<=12):\n",
        "    print(a[b])\n",
        "else:\n",
        "    print(\"Error\")"
      ],
      "metadata": {
        "colab": {
          "base_uri": "https://localhost:8080/"
        },
        "id": "Rq8OishuzncS",
        "outputId": "0ce628f7-6a19-4e74-9ee2-5061144215b6"
      },
      "execution_count": 4,
      "outputs": [
        {
          "output_type": "stream",
          "name": "stdout",
          "text": [
            "4\n",
            "30\n"
          ]
        }
      ]
    },
    {
      "cell_type": "markdown",
      "source": [
        "Let \"A\"  be a string. Remove all the whitespaces and find it's length.\n",
        "\n",
        "Input Description:\n",
        "A string is provide as an input\n",
        "\n",
        "Output Description:\n",
        "Remove all the whitespaces and then print the length of the remaining string."
      ],
      "metadata": {
        "id": "8Mb_nHfzzzGp"
      }
    },
    {
      "cell_type": "code",
      "source": [
        "a= str(input())\n",
        "b= a.replace(\" \", \"\")\n",
        "print(len(b))"
      ],
      "metadata": {
        "colab": {
          "base_uri": "https://localhost:8080/"
        },
        "id": "cL0IGeg_z3V6",
        "outputId": "7d664b43-474c-436d-9054-12f923c6d830"
      },
      "execution_count": 5,
      "outputs": [
        {
          "output_type": "stream",
          "name": "stdout",
          "text": [
            "Hello world\n",
            "10\n"
          ]
        }
      ]
    },
    {
      "cell_type": "markdown",
      "source": [
        "Write a code to get an integer N and print the values from N to 1.\n",
        "\n",
        "Input Description:\n",
        "A single line contains an integer N.\n",
        "\n",
        "Output Description:\n",
        "Print the values from N to 1 in a separate line."
      ],
      "metadata": {
        "id": "yAQqKy9Bz5an"
      }
    },
    {
      "cell_type": "code",
      "source": [
        "a= int(input())\n",
        "for x in range(a,0,-1):\n",
        "  print(x)\n",
        "    "
      ],
      "metadata": {
        "colab": {
          "base_uri": "https://localhost:8080/"
        },
        "id": "vxq7k0Yez8cl",
        "outputId": "bd8afdc2-40b5-45f9-ed0b-ba9df0a12d6b"
      },
      "execution_count": 6,
      "outputs": [
        {
          "output_type": "stream",
          "name": "stdout",
          "text": [
            "5\n",
            "5\n",
            "4\n",
            "3\n",
            "2\n",
            "1\n"
          ]
        }
      ]
    },
    {
      "cell_type": "markdown",
      "source": [
        "You are given three numbers A, B & C. Print the largest amongst these three numbers.\n",
        "\n",
        "Input Description:\n",
        "Three numbers are provided to you.\n",
        "\n",
        "Output Description:\n",
        "Find and print the largest among the three"
      ],
      "metadata": {
        "id": "YKMA6Ywez-4V"
      }
    },
    {
      "cell_type": "code",
      "source": [
        "a= int(input())\n",
        "b= int(input())\n",
        "c= int(input())\n",
        "if(a>b):\n",
        "    if(a>c):\n",
        "        print(a)\n",
        "    else:\n",
        "        print(c)\n",
        "elif(b>c):\n",
        "        print(b)\n",
        "else:\n",
        "        print(c)\n"
      ],
      "metadata": {
        "colab": {
          "base_uri": "https://localhost:8080/"
        },
        "id": "XQxbYotN0B5k",
        "outputId": "5e664006-036a-4d21-a7bd-c1e90d69c034"
      },
      "execution_count": 8,
      "outputs": [
        {
          "output_type": "stream",
          "name": "stdout",
          "text": [
            "5\n",
            "10\n",
            "15\n",
            "15\n"
          ]
        }
      ]
    },
    {
      "cell_type": "markdown",
      "source": [
        "Write a code get an integer number as input and print the sum of the digits.\n",
        "\n",
        "Input Description:\n",
        "A single line containing an integer.\n",
        "\n",
        "Output Description:\n",
        "Print the sum of the digits of the integer."
      ],
      "metadata": {
        "id": "k35Orehb0D5l"
      }
    },
    {
      "cell_type": "code",
      "source": [
        "a= input()\n",
        "b= list(map(int, str(a)))\n",
        "sum=0\n",
        "for i in b:\n",
        "  sum=sum+i\n",
        "print(sum)"
      ],
      "metadata": {
        "colab": {
          "base_uri": "https://localhost:8080/"
        },
        "id": "oTNmq1bZ0IKV",
        "outputId": "7ef4b3c3-f3f2-4d09-e5c7-118a814f5c98"
      },
      "execution_count": 9,
      "outputs": [
        {
          "output_type": "stream",
          "name": "stdout",
          "text": [
            "5\n",
            "5\n"
          ]
        }
      ]
    },
    {
      "cell_type": "markdown",
      "source": [
        "You are provided with two numbers. Find and print the smaller number.\n",
        "\n",
        "Input Description:\n",
        "You are provided with two numbers as input.\n",
        "\n",
        "Output Description:\n",
        "Print the small number out of the two numbers."
      ],
      "metadata": {
        "id": "JOoCQBG90KRh"
      }
    },
    {
      "cell_type": "code",
      "source": [
        "a= input().split(\" \")\n",
        "b= list(map(int, a))\n",
        "if (b[0]>b[1]):\n",
        "    print(b[1])\n",
        "else:\n",
        "    print(b[0])"
      ],
      "metadata": {
        "colab": {
          "base_uri": "https://localhost:8080/"
        },
        "id": "sf12cu1b0M4Z",
        "outputId": "a88966d6-10d0-4c30-ec24-a852685707a5"
      },
      "execution_count": 10,
      "outputs": [
        {
          "output_type": "stream",
          "name": "stdout",
          "text": [
            "5 10\n",
            "5\n"
          ]
        }
      ]
    },
    {
      "cell_type": "markdown",
      "source": [
        "Write a code to get an integer N and print the even values from 1 till N in a separate line.\n",
        "\n",
        "Input Description:\n",
        "A single line contains an integer N.\n",
        "\n",
        "Output Description:\n",
        "Print the even values from 1 to N in a separate line."
      ],
      "metadata": {
        "id": "4cwwM4V00Oga"
      }
    },
    {
      "cell_type": "code",
      "source": [
        "a= int(input())\n",
        "b= a+1\n",
        "for x in range(1,b,1):\n",
        "    if (x%2 == 0):\n",
        "        print(x)\n"
      ],
      "metadata": {
        "colab": {
          "base_uri": "https://localhost:8080/"
        },
        "id": "PacFP1Ws0SJO",
        "outputId": "a55d35e5-1250-4545-d551-ff21856ff486"
      },
      "execution_count": 11,
      "outputs": [
        {
          "output_type": "stream",
          "name": "stdout",
          "text": [
            "10\n",
            "2\n",
            "4\n",
            "6\n",
            "8\n",
            "10\n"
          ]
        }
      ]
    }
  ]
}