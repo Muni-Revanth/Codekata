{
  "nbformat": 4,
  "nbformat_minor": 0,
  "metadata": {
    "colab": {
      "provenance": []
    },
    "kernelspec": {
      "name": "python3",
      "display_name": "Python 3"
    },
    "language_info": {
      "name": "python"
    }
  },
  "cells": [
    {
      "cell_type": "markdown",
      "source": [
        "# **Absolute Beginner**"
      ],
      "metadata": {
        "id": "i2l9Ur1k1w6b"
      }
    },
    {
      "cell_type": "markdown",
      "source": [
        "Write a code to get 2 integers A and N. Print the integer A, N times in separate line.\n",
        "\n",
        "Input Description:\n",
        "First line contains an integer A. Second line contains an Integer N.\n",
        "\n",
        "Output Description:\n",
        "Print the integer A, N times in a separate line."
      ],
      "metadata": {
        "id": "3_6FTQXr152-"
      }
    },
    {
      "cell_type": "code",
      "execution_count": 1,
      "metadata": {
        "colab": {
          "base_uri": "https://localhost:8080/"
        },
        "id": "mR6GHpu71skF",
        "outputId": "d8491342-48b6-4d40-f748-cee3b06fbd1b"
      },
      "outputs": [
        {
          "output_type": "stream",
          "name": "stdout",
          "text": [
            "5 6\n",
            "5\n",
            "5\n",
            "5\n",
            "5\n",
            "5\n",
            "5\n"
          ]
        }
      ],
      "source": [
        "a, b = list(map(int, input().split()))\n",
        "for c in range(b):\n",
        "    if(c<b):\n",
        "        print(a)"
      ]
    },
    {
      "cell_type": "markdown",
      "source": [
        "You are provided with a number check whether its odd or even. \n",
        "\n",
        "Print \"Odd\" or \"Even\" for the corresponding cases.\n",
        "\n",
        "Note: In case of a decimal, Round off to nearest integer and then find the output. Incase the input is zero, print \"Zero\".\n",
        "\n",
        "Input Description:\n",
        "A number is provided as the input.\n",
        "\n",
        "Output Description:\n",
        "Find out whether the number is odd or even. Print \"Odd\" or \"Even\" for the corresponding cases. Note: In case of a decimal, Round off to nearest integer and then find the output. In case the input is zero, print \"Zero\"."
      ],
      "metadata": {
        "id": "aSdu1M6S1-8a"
      }
    },
    {
      "cell_type": "code",
      "source": [
        "a= int(input())\n",
        "if(a!=0):\n",
        "    if(a%2==0):\n",
        "        print(\"Even\")\n",
        "    else:\n",
        "        print(\"Odd\")\n",
        "else:\n",
        "    print(\"Zero\")"
      ],
      "metadata": {
        "colab": {
          "base_uri": "https://localhost:8080/"
        },
        "id": "FMRrCdPk2CK1",
        "outputId": "31199046-a17e-47ef-d2a8-8c59f4d40d84"
      },
      "execution_count": 2,
      "outputs": [
        {
          "output_type": "stream",
          "name": "stdout",
          "text": [
            "5\n",
            "Odd\n"
          ]
        }
      ]
    },
    {
      "cell_type": "markdown",
      "source": [
        "Write a code to get an integer N and print values from 1 till N in a separate line.\n",
        "\n",
        "Input Description:\n",
        "A single line contains an integer N.\n",
        "\n",
        "Output Description:\n",
        "Print the values from 1 to N in a separate line."
      ],
      "metadata": {
        "id": "qGhaQa5Q2DyF"
      }
    },
    {
      "cell_type": "code",
      "source": [
        "a= int(input())\n",
        "for i in range(1,a+1,1):\n",
        "    print(i)\n"
      ],
      "metadata": {
        "colab": {
          "base_uri": "https://localhost:8080/"
        },
        "id": "pezbNmlj2GuN",
        "outputId": "c716668d-7ff6-4c12-a505-b16727838c0b"
      },
      "execution_count": 3,
      "outputs": [
        {
          "output_type": "stream",
          "name": "stdout",
          "text": [
            "7\n",
            "1\n",
            "2\n",
            "3\n",
            "4\n",
            "5\n",
            "6\n",
            "7\n"
          ]
        }
      ]
    },
    {
      "cell_type": "markdown",
      "source": [
        "You are given with a number A i.e. the temperature in Celcius. Write a program to convert this into Fahrenheit. \n",
        "\n",
        "Note: In case of decimal values, round-off to two decimal places.\n",
        "\n",
        "Input Description:\n",
        "A number is provided in Celcius as the input of the program.\n",
        "\n",
        "Output Description:\n",
        "The output shall be the temperature converted into Fahrenheit corresponding to the input value print up to two decimal places and round off if required."
      ],
      "metadata": {
        "id": "5si4llTA2I3x"
      }
    },
    {
      "cell_type": "code",
      "source": [
        "a= int(input())\n",
        "b= (a*1.8)+32\n",
        "print(round(b,2))"
      ],
      "metadata": {
        "colab": {
          "base_uri": "https://localhost:8080/"
        },
        "id": "gw7qAKOE2NKh",
        "outputId": "75e39fe4-d82a-463d-b45a-2666ed98cd94"
      },
      "execution_count": 4,
      "outputs": [
        {
          "output_type": "stream",
          "name": "stdout",
          "text": [
            "25\n",
            "77.0\n"
          ]
        }
      ]
    },
    {
      "cell_type": "markdown",
      "source": [
        "Write a code to get an integer N and print the digits of the integer.\n",
        "\n",
        "Input Description:\n",
        "A single line contains an integer N.\n",
        "\n",
        "Output Description:\n",
        "Print the digits of the integer in a single line separated by space,"
      ],
      "metadata": {
        "id": "TvztBFHH2PJs"
      }
    },
    {
      "cell_type": "code",
      "source": [
        "a= input()\n",
        "print(\" \".join(a))"
      ],
      "metadata": {
        "colab": {
          "base_uri": "https://localhost:8080/"
        },
        "id": "_v-17jJy2SLk",
        "outputId": "724a4b06-db13-4451-abe8-85b096969975"
      },
      "execution_count": 5,
      "outputs": [
        {
          "output_type": "stream",
          "name": "stdout",
          "text": [
            "99\n",
            "9 9\n"
          ]
        }
      ]
    },
    {
      "cell_type": "markdown",
      "source": [
        "Write a code get an integer number as input and print the odd and even digits of the number separately.\n",
        "\n",
        "Input Description:\n",
        "A single line containing an integer.\n",
        "\n",
        "Output Description:\n",
        "Print the even and odd integers of the integer in a separate line."
      ],
      "metadata": {
        "id": "IcfgRWFy2UlZ"
      }
    },
    {
      "cell_type": "code",
      "source": [
        "a= input()\n",
        "b= list(map(int, str(a)))\n",
        "r=[]\n",
        "s=[]\n",
        "\n",
        "for x in b:\n",
        "    if x%2==0:\n",
        "        r.append(x)\n",
        "for y in b:\n",
        "    if y%2==1:\n",
        "        s.append(y)\n",
        "r.sort()\n",
        "s.sort()\n",
        "print(*r)\n",
        "print(*s)"
      ],
      "metadata": {
        "colab": {
          "base_uri": "https://localhost:8080/"
        },
        "id": "6XM-VFkx2X4p",
        "outputId": "9592f9b7-d0cb-4ef3-ba63-89e727c04669"
      },
      "execution_count": 11,
      "outputs": [
        {
          "output_type": "stream",
          "name": "stdout",
          "text": [
            "2512\n",
            "2 2\n",
            "1 5\n"
          ]
        }
      ]
    },
    {
      "cell_type": "markdown",
      "source": [
        "Write a program to get a string as input and reverse the string without using temporary variable.\n",
        "\n",
        "Input Description:\n",
        "A single line containing a string.\n",
        "\n",
        "Output Description:\n",
        "Print the reversed string."
      ],
      "metadata": {
        "id": "RzhEQjzB2avX"
      }
    },
    {
      "cell_type": "code",
      "source": [
        "a= input()\n",
        "b= a[::-1]\n",
        "print(b)"
      ],
      "metadata": {
        "colab": {
          "base_uri": "https://localhost:8080/"
        },
        "id": "VMiXuHnD2eHW",
        "outputId": "e86ecc9b-80e7-49ad-f1e5-c7c16bbc985b"
      },
      "execution_count": 7,
      "outputs": [
        {
          "output_type": "stream",
          "name": "stdout",
          "text": [
            "revanth\n",
            "htnaver\n"
          ]
        }
      ]
    },
    {
      "cell_type": "markdown",
      "source": [
        "You are given with Principle amount($), Interest Rate(%) and Time (years) in that order. Find Simple Interest.\n",
        "\n",
        "Print the output up to two decimal places (Round-off if necessary).\n",
        "\n",
        "(S.I. = P*T*R/100)\n",
        "\n",
        "Input Description:\n",
        "Three values are given to you as the input. these values correspond to Principle amount, Interest Rate and Time in that particular order.\n",
        "\n",
        "Output Description:\n",
        "Find the Simple interest and print it up to two decimal places. Round off if required."
      ],
      "metadata": {
        "id": "0XEAeUm72gNT"
      }
    },
    {
      "cell_type": "code",
      "source": [
        "a= input().split(\" \")\n",
        "b= list(map(float, a))\n",
        "c= ((b[0]*b[1]*b[2])/100)\n",
        "print(round(c,2))"
      ],
      "metadata": {
        "colab": {
          "base_uri": "https://localhost:8080/"
        },
        "id": "IaF--uYP2jHa",
        "outputId": "4d1c4ba1-02cd-4a9f-f5cc-91e85207b998"
      },
      "execution_count": 8,
      "outputs": [
        {
          "output_type": "stream",
          "name": "stdout",
          "text": [
            "1000 6 5\n",
            "300.0\n"
          ]
        }
      ]
    },
    {
      "cell_type": "markdown",
      "source": [
        "Write a code to get 2 integers as input and find the HCF of the 2 integer without using recursion or Euclidean algorithm.\n",
        "\n",
        "Input Description:\n",
        "A single line containing 2 integers separated by space.\n",
        "\n",
        "Output Description:\n",
        "Print the HCF of the integers."
      ],
      "metadata": {
        "id": "DgYr3J1J2lJO"
      }
    },
    {
      "cell_type": "code",
      "source": [
        "a,b = map(int,input().split())\n",
        "\n",
        "def hcf(c,d):\n",
        "    if(c>d):\n",
        "        smaller= d\n",
        "    else:\n",
        "        smaller= c \n",
        "    for i in range(2,smaller+1):\n",
        "        if(c%i==0) and (d%i==0):\n",
        "            R= i\n",
        "    print(R)\n",
        "hcf(a,b)"
      ],
      "metadata": {
        "colab": {
          "base_uri": "https://localhost:8080/"
        },
        "id": "sZF1yqkk2oSG",
        "outputId": "0e935b4a-bf00-4fee-b9b1-b56d6db8896e"
      },
      "execution_count": 9,
      "outputs": [
        {
          "output_type": "stream",
          "name": "stdout",
          "text": [
            "6 12\n",
            "6\n"
          ]
        }
      ]
    },
    {
      "cell_type": "markdown",
      "source": [
        "Write a code to get an integer N and print the sum of  values from 1 to N.\n",
        "\n",
        "Input Description:\n",
        "A single line contains an integer N.\n",
        "\n",
        "Output Description:\n",
        "Print the sum of values from 1 to N."
      ],
      "metadata": {
        "id": "AGOQf-eI2sz6"
      }
    },
    {
      "cell_type": "code",
      "source": [
        "a= int(input())\n",
        "x= 0\n",
        "i= 1\n",
        "while(i<=a):\n",
        "    x= x+i\n",
        "    i= i+1\n",
        "print(x)"
      ],
      "metadata": {
        "colab": {
          "base_uri": "https://localhost:8080/"
        },
        "id": "HmZR514j2wyi",
        "outputId": "e9b44420-f4f5-49b2-aabd-aadb6d065bfe"
      },
      "execution_count": 10,
      "outputs": [
        {
          "output_type": "stream",
          "name": "stdout",
          "text": [
            "9\n",
            "45\n"
          ]
        }
      ]
    }
  ]
}