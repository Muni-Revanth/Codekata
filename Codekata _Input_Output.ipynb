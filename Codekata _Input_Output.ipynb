{
 "cells": [
  {
   "cell_type": "markdown",
   "id": "f32765df",
   "metadata": {},
   "source": [
    "# Input/Output"
   ]
  },
  {
   "cell_type": "markdown",
   "id": "1ab09847",
   "metadata": {},
   "source": [
    "1. Write a code to get the input in the given format and print the output in the given format\n",
    "\n",
    "    Input Description:\n",
    "    To take an integer value\n",
    "\n",
    "    Output Description:\n",
    "    Print the integer value"
   ]
  },
  {
   "cell_type": "code",
   "execution_count": 1,
   "id": "1744a92c",
   "metadata": {
    "scrolled": true
   },
   "outputs": [
    {
     "name": "stdout",
     "output_type": "stream",
     "text": [
      "2\n",
      "2\n"
     ]
    }
   ],
   "source": [
    "a= input()\n",
    "print(a)"
   ]
  },
  {
   "cell_type": "markdown",
   "id": "b283d570",
   "metadata": {},
   "source": [
    "2. Write a code to get the input in the given format and print the output in the given format\n",
    "\n",
    "    Input Description:\n",
    "    A single line contains integers separated by space\n",
    "\n",
    "    Output Description:\n",
    "    Print the integer list of integers separated by space"
   ]
  },
  {
   "cell_type": "code",
   "execution_count": 2,
   "id": "268744f6",
   "metadata": {},
   "outputs": [
    {
     "name": "stdout",
     "output_type": "stream",
     "text": [
      "2 3 4 5 6\n",
      "2 3 4 5 6\n"
     ]
    }
   ],
   "source": [
    "a=input()\n",
    "print(a)"
   ]
  },
  {
   "cell_type": "markdown",
   "id": "38d318d3",
   "metadata": {},
   "source": [
    "3. Write a code to get the input in the given format and print the output in the given format.\n",
    "\n",
    "    Input Description:\n",
    "    First-line indicates two integers which are the size of array and 'K' value. Second-line indicates an integer contains elements of an array.\n",
    "\n",
    "    Output Description:\n",
    "    Print the taken input in the same format."
   ]
  },
  {
   "cell_type": "code",
   "execution_count": 3,
   "id": "08e59772",
   "metadata": {},
   "outputs": [
    {
     "name": "stdout",
     "output_type": "stream",
     "text": [
      "5 3 \n",
      "1 2 3 4 5\n",
      "5 3 \n",
      "1 2 3 4 5\n"
     ]
    }
   ],
   "source": [
    "a=input()\n",
    "b=input()\n",
    "print(a)\n",
    "print(b)"
   ]
  },
  {
   "cell_type": "markdown",
   "id": "89f3cead",
   "metadata": {},
   "source": [
    "4. Write a code to get the input in the given format and print the output in the given format\n",
    "\n",
    "    Input Description:\n",
    "    First-line indicates two integers separated by space. Second-line indicates two integers separated by space. Third-line indicates two integers separated by space.\n",
    "\n",
    "    Output Description:\n",
    "    Print the input in the same format."
   ]
  },
  {
   "cell_type": "code",
   "execution_count": 4,
   "id": "6d350706",
   "metadata": {},
   "outputs": [
    {
     "name": "stdout",
     "output_type": "stream",
     "text": [
      "2 4\n",
      "2 4\n",
      "2 4\n",
      "2 4\n",
      "2 4\n",
      "2 4\n"
     ]
    }
   ],
   "source": [
    "a=input()\n",
    "b=input()\n",
    "c=input()\n",
    "print(a)\n",
    "print(b)\n",
    "print(c)"
   ]
  },
  {
   "cell_type": "markdown",
   "id": "1cabe1b1",
   "metadata": {},
   "source": [
    "5. Write a code to get the input in the given format and print the output in the given format\n",
    "\n",
    "    Input Description:\n",
    "    Three integers are given in line by line.\n",
    "\n",
    "    Output Description:\n",
    "    Print the integers in a single line separate by space."
   ]
  },
  {
   "cell_type": "code",
   "execution_count": 5,
   "id": "ba8faf46",
   "metadata": {},
   "outputs": [
    {
     "name": "stdout",
     "output_type": "stream",
     "text": [
      "2\n",
      "4\n",
      "5\n",
      "2 4 5\n"
     ]
    }
   ],
   "source": [
    "a=input()\n",
    "b=input()\n",
    "c=input()\n",
    "print(a+\" \"+b+\" \"+c)"
   ]
  },
  {
   "cell_type": "markdown",
   "id": "bad41d1d",
   "metadata": {},
   "source": [
    "6. Write a code to get the input in the given format and print the output in the given format\n",
    "\n",
    "    Input Description:\n",
    "    First-line indicates two integers separated by space. Second-line indicates three integers separated by space. Third-line indicates three integers separated by space\n",
    "\n",
    "    Output Description:\n",
    "    Print the input in the same format."
   ]
  },
  {
   "cell_type": "code",
   "execution_count": 6,
   "id": "57fe87fd",
   "metadata": {},
   "outputs": [
    {
     "name": "stdout",
     "output_type": "stream",
     "text": [
      "2 5\n",
      "2 5 6\n",
      "2 4 5\n",
      "2 5\n",
      "2 5 6\n",
      "2 4 5\n"
     ]
    }
   ],
   "source": [
    "a= input()\n",
    "b= input()\n",
    "c= input()\n",
    "print(a)\n",
    "print(b)\n",
    "print(c)"
   ]
  },
  {
   "cell_type": "markdown",
   "id": "90a3abc5",
   "metadata": {},
   "source": [
    "7. Write a code to get the input in the given format and print the output in the given format\n",
    "\n",
    "    Input Description:\n",
    "    A single line contains a string.\n",
    "\n",
    "    Output Description:\n",
    "    Print the characters in a string separated by space."
   ]
  },
  {
   "cell_type": "code",
   "execution_count": 7,
   "id": "60314549",
   "metadata": {},
   "outputs": [
    {
     "name": "stdout",
     "output_type": "stream",
     "text": [
      "PYTHON\n",
      "P Y T H O N\n"
     ]
    }
   ],
   "source": [
    "a= input()\n",
    "print(\" \".join(a))"
   ]
  },
  {
   "cell_type": "markdown",
   "id": "751b26e2",
   "metadata": {},
   "source": [
    "8. Write a code to get the input in the given format and print the output in the given format.\n",
    "\n",
    "    Input Description:\n",
    "    A single line contains three float values separated by space.\n",
    "\n",
    "    Output Description:\n",
    "    Print the float value separated by line."
   ]
  },
  {
   "cell_type": "code",
   "execution_count": 8,
   "id": "5f56e595",
   "metadata": {},
   "outputs": [
    {
     "name": "stdout",
     "output_type": "stream",
     "text": [
      "1.2 3.4 5.6\n",
      "1.2\n",
      "3.4\n",
      "5.6\n"
     ]
    }
   ],
   "source": [
    "a= input()\n",
    "b= a.split(\" \")\n",
    "for C in b:\n",
    "    print(C)"
   ]
  },
  {
   "cell_type": "markdown",
   "id": "d03f7f26",
   "metadata": {},
   "source": [
    "9. Write a code to get the input in the given format and print the output in the given format.\n",
    "\n",
    "    Input Description:\n",
    "    A single line contains a string.\n",
    "\n",
    "    Output Description:\n",
    "    Print the characters in a string separated by line."
   ]
  },
  {
   "cell_type": "code",
   "execution_count": 9,
   "id": "02c7c939",
   "metadata": {},
   "outputs": [
    {
     "name": "stdout",
     "output_type": "stream",
     "text": [
      "PYTHON\n",
      "P\n",
      "Y\n",
      "T\n",
      "H\n",
      "O\n",
      "N\n"
     ]
    }
   ],
   "source": [
    "a= input()\n",
    "for x in a:\n",
    "    print(x)"
   ]
  },
  {
   "cell_type": "markdown",
   "id": "7ad86239",
   "metadata": {},
   "source": [
    "10. Write a code to get the input in the given format and print the output in the given format.\n",
    "\n",
    "    Input Description:\n",
    "    A single line contains a string.\n",
    "\n",
    "    Output Description:\n",
    "    Print the characters in a string separated by comma."
   ]
  },
  {
   "cell_type": "code",
   "execution_count": 10,
   "id": "e2c32535",
   "metadata": {},
   "outputs": [
    {
     "name": "stdout",
     "output_type": "stream",
     "text": [
      "PYTHON\n",
      "P,Y,T,H,O,N\n"
     ]
    }
   ],
   "source": [
    "a= input()\n",
    "print(\",\".join(a))"
   ]
  }
 ],
 "metadata": {
  "kernelspec": {
   "display_name": "pandas_venv",
   "language": "python",
   "name": "pandas_venv"
  },
  "language_info": {
   "codemirror_mode": {
    "name": "ipython",
    "version": 3
   },
   "file_extension": ".py",
   "mimetype": "text/x-python",
   "name": "python",
   "nbconvert_exporter": "python",
   "pygments_lexer": "ipython3",
   "version": "3.10.7"
  }
 },
 "nbformat": 4,
 "nbformat_minor": 5
}
