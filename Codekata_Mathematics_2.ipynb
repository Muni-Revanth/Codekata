{
 "cells": [
  {
   "cell_type": "markdown",
   "id": "406edd95",
   "metadata": {},
   "source": [
    "# Codekata_Mathematics_2"
   ]
  },
  {
   "cell_type": "markdown",
   "id": "d74caf78",
   "metadata": {},
   "source": [
    "Given a number N, print 'yes' if it is a multiple of 13 else print 'no'."
   ]
  },
  {
   "cell_type": "code",
   "execution_count": 1,
   "id": "c345722f",
   "metadata": {},
   "outputs": [
    {
     "name": "stdout",
     "output_type": "stream",
     "text": [
      "169\n",
      "yes\n"
     ]
    }
   ],
   "source": [
    "A= int(input())\n",
    "if A%13 == 0:\n",
    "    print(\"yes\")\n",
    "else:\n",
    "    print(\"no\")"
   ]
  },
  {
   "cell_type": "markdown",
   "id": "12348c04",
   "metadata": {},
   "source": [
    "Simi is learning about palindromic numbers. Her teacher gave him the task to count all palindromic numbers present in that range.Simi has told you about this and want your help. You design an algorithm in order to help simi.\n",
    "\n",
    "Input Description:\n",
    "You will be given a number ‘n’\n",
    "\n",
    "Output Description:\n",
    "Print the count of all palindromic numbers till ‘n’(inclusive)"
   ]
  },
  {
   "cell_type": "code",
   "execution_count": 2,
   "id": "3c6eede0",
   "metadata": {},
   "outputs": [
    {
     "name": "stdout",
     "output_type": "stream",
     "text": [
      "156\n",
      "24\n"
     ]
    }
   ],
   "source": [
    "a=input()\n",
    "b = int(a)\n",
    "count=0\n",
    "for i in range(1,b+1):\n",
    "  c=str(i)\n",
    "  if c==c[::-1]:\n",
    "    count=count+1\n",
    "print(count)"
   ]
  },
  {
   "cell_type": "markdown",
   "id": "1b1b5c9c",
   "metadata": {},
   "source": [
    "Find the minimum among 10 numbers."
   ]
  },
  {
   "cell_type": "code",
   "execution_count": 3,
   "id": "e2076222",
   "metadata": {},
   "outputs": [
    {
     "name": "stdout",
     "output_type": "stream",
     "text": [
      "12 34 12 55 66 34 89 1 34 2\n",
      "1\n"
     ]
    }
   ],
   "source": [
    "a= list(map(int, input().split()))\n",
    "print(min(a))"
   ]
  },
  {
   "cell_type": "markdown",
   "id": "7249490f",
   "metadata": {},
   "source": [
    "Given 3 numbers N , L and R. Print 'yes' if N is between L and R else print 'no'."
   ]
  },
  {
   "cell_type": "code",
   "execution_count": 4,
   "id": "9de56c6b",
   "metadata": {},
   "outputs": [
    {
     "name": "stdout",
     "output_type": "stream",
     "text": [
      "22\n",
      "36 89\n",
      "no\n"
     ]
    }
   ],
   "source": [
    "N= int(input())\n",
    "L,R= map(int, input().split())\n",
    "if N>L and N<R:\n",
    "    print('yes')\n",
    "else:\n",
    "    print('no')"
   ]
  },
  {
   "cell_type": "markdown",
   "id": "11f8db32",
   "metadata": {},
   "source": [
    "Given 2 numbers N,M. Find their difference and check whether it is even or odd."
   ]
  },
  {
   "cell_type": "code",
   "execution_count": 5,
   "id": "3f7c0254",
   "metadata": {},
   "outputs": [
    {
     "name": "stdout",
     "output_type": "stream",
     "text": [
      "34 12\n",
      "even\n"
     ]
    }
   ],
   "source": [
    "a,b = map(int, input().split())\n",
    "c= a-b\n",
    "if c%2 == 0:\n",
    "    print(\"even\")\n",
    "else:\n",
    "    print(\"odd\")"
   ]
  },
  {
   "cell_type": "markdown",
   "id": "cdedef50",
   "metadata": {},
   "source": [
    "Pk finds it difficult to judge the minimum element in the list of elements given to him. Your task is to develop the algorithm in order to find the minimum element.\n",
    "\n",
    "Note:Don’t use sorting\n",
    " \n",
    "Input Description:\n",
    "You are given ‘n’ number of elements. Next line contains n space separated numbers.\n",
    "\n",
    "Output Description:\n",
    "Print the minimum element"
   ]
  },
  {
   "cell_type": "code",
   "execution_count": 6,
   "id": "e2d7e06a",
   "metadata": {},
   "outputs": [
    {
     "name": "stdout",
     "output_type": "stream",
     "text": [
      "5\n",
      "3 4 9 1 6\n",
      "1\n"
     ]
    }
   ],
   "source": [
    "n= int(input())\n",
    "l= list(map(int, input().split()))\n",
    "s= l[:n]\n",
    "print(min(s))"
   ]
  },
  {
   "cell_type": "markdown",
   "id": "3bc55b3f",
   "metadata": {},
   "source": [
    "Given a number N, print the product of the digits."
   ]
  },
  {
   "cell_type": "code",
   "execution_count": 7,
   "id": "e6667c06",
   "metadata": {},
   "outputs": [
    {
     "name": "stdout",
     "output_type": "stream",
     "text": [
      "2143\n",
      "24\n"
     ]
    }
   ],
   "source": [
    "a= input()\n",
    "b= list(map(int, str(a)))\n",
    "d= 1\n",
    "for x in b:\n",
    "    d=d*x\n",
    "print(d)"
   ]
  },
  {
   "cell_type": "markdown",
   "id": "1a2b8398",
   "metadata": {},
   "source": [
    "You are an employee of ‘Rox Travel’ channel.The channel has decided to give allowances to some customer who satisfy these conditions. The conditions are:\n",
    "\n",
    "The customer should be born on or before july 22 1987\n",
    "\n",
    "The month of D.O.B month should be of 31 days.\n",
    "\n",
    "You are given with the D.O.B of all the employees.Your task is to print the employee index who are having chance to avail special offer.\n",
    "\n",
    "Input Description:\n",
    "First line contains the number of employee.Next line contains an array of D.O.B of employees\n",
    "\n",
    "Output Description:\n",
    "Print the employee index (index at 1). Print-1 if there are no such employee"
   ]
  },
  {
   "cell_type": "code",
   "execution_count": 8,
   "id": "2d9c4a43",
   "metadata": {},
   "outputs": [
    {
     "name": "stdout",
     "output_type": "stream",
     "text": [
      "4\n",
      "23 MARCH 1996 23 MARCH 1986 22 JULY 1987 23 APRIL 1987\n",
      "2 3\n"
     ]
    }
   ],
   "source": [
    "n = int(input())\n",
    "dob = list(map(str, input().split()))\n",
    "month = [\"JANUARY\", \"MARCH\", \"MAY\",\"JULY\",\"AUGUST\",\"OCTOBER\",\"DECEMBER\"]\n",
    "month_1 = [\"JANUARY\", \"MARCH\",\"MAY\",\"JULY\"]\n",
    "r=[]\n",
    "for i in range(0,len(dob), 3):\n",
    "  c=dob[i:i+3]\n",
    "  date=int(c[0])\n",
    "  year=int(c[2])\n",
    "  if year==1987:\n",
    "    if c[1] in month_1[:-1]:\n",
    "      r.append(1)\n",
    "    elif c[1] == \"JULY\":\n",
    "      if date<=22:\n",
    "        r.append(1)\n",
    "      else:\n",
    "        r.append(0)\n",
    "    else:\n",
    "        r.append(0)\n",
    "  elif year<1987:\n",
    "    r.append(1)\n",
    "  else:\n",
    "    r.append(0)\n",
    "res=[]\n",
    "for j in range(len(r)):\n",
    "  if r[j]==1:\n",
    "    res.append(j+1)\n",
    "print(*res)   "
   ]
  },
  {
   "cell_type": "markdown",
   "id": "b6da3859",
   "metadata": {},
   "source": [
    "Count the number of digits of a given number N.Size of the integer ranges from 1"
   ]
  },
  {
   "cell_type": "code",
   "execution_count": 9,
   "id": "a6ba9ff8",
   "metadata": {},
   "outputs": [
    {
     "name": "stdout",
     "output_type": "stream",
     "text": [
      "567\n",
      "3\n"
     ]
    }
   ],
   "source": [
    "A= input()\n",
    "B= list(map(int, str(A)))\n",
    "print(len(B))"
   ]
  },
  {
   "cell_type": "markdown",
   "id": "11079a70",
   "metadata": {},
   "source": [
    "In a firm there is an intelligent employee. He said that he will not work on all those days which has factors more than 2. You are given with month and year calculate the no of working days of employee.\n",
    "\n",
    "Input Description:\n",
    "Month(M) and year(Y)\n",
    "\n",
    "Output Description:\n",
    "N denoting no of working days"
   ]
  },
  {
   "cell_type": "code",
   "execution_count": 10,
   "id": "1dab0e75",
   "metadata": {},
   "outputs": [
    {
     "name": "stdout",
     "output_type": "stream",
     "text": [
      "May 2016\n",
      "11\n"
     ]
    }
   ],
   "source": [
    "H = list(map(str, input().split()))\n",
    "m = H[0]\n",
    "y = H[1]\n",
    "month = {\"January\":31, \"February\":28,\"March\":31,\"April\":30,\"May\":31,\"June\":30,\"July\":31,\"August\":31,\"September\":30,\"October\":31,\"November\":30,\"December\":31}\n",
    "count=0\n",
    "for x in range(1,month[m]+1):\n",
    "  fct=[]\n",
    "  for i in range(1, x + 1):\n",
    "      if x % i == 0:\n",
    "          fct.append(i)\n",
    "      if len(fct)>2:\n",
    "          break\n",
    "  if len(fct)<=2:\n",
    "    count+=1\n",
    "print(count-1)"
   ]
  }
 ],
 "metadata": {
  "kernelspec": {
   "display_name": "pandas_venv",
   "language": "python",
   "name": "pandas_venv"
  },
  "language_info": {
   "codemirror_mode": {
    "name": "ipython",
    "version": 3
   },
   "file_extension": ".py",
   "mimetype": "text/x-python",
   "name": "python",
   "nbconvert_exporter": "python",
   "pygments_lexer": "ipython3",
   "version": "3.10.7"
  }
 },
 "nbformat": 4,
 "nbformat_minor": 5
}
