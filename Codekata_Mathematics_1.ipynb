{
 "cells": [
  {
   "cell_type": "markdown",
   "id": "0266352b",
   "metadata": {},
   "source": [
    "# Codekata_Mathematics_1"
   ]
  },
  {
   "cell_type": "markdown",
   "id": "38ea9aff",
   "metadata": {},
   "source": [
    "Given 3 numbers a,b,c print a*b mod c."
   ]
  },
  {
   "cell_type": "code",
   "execution_count": 1,
   "id": "9b816bd4",
   "metadata": {},
   "outputs": [
    {
     "name": "stdout",
     "output_type": "stream",
     "text": [
      "3 4 5\n",
      "2\n"
     ]
    }
   ],
   "source": [
    "a,b,c = list(map(int, input().split()))\n",
    "ans = (a*b)%c\n",
    "print(ans)"
   ]
  },
  {
   "cell_type": "markdown",
   "id": "aed7eae7",
   "metadata": {},
   "source": [
    "Assume your brother studies in class 2. He has to  complete his homework on co-primes. As an elder sibling help him in finding whether the given two numbers is co-prime or not.\n",
    "\n",
    "Input Description:\n",
    "You will be given two numbers ‘n’ and ‘m’\n",
    "\n",
    "Output Description:\n",
    "Your task is to tell whether numbers is co prime or not. If it is a co-prime print 1 else 0"
   ]
  },
  {
   "cell_type": "code",
   "execution_count": 2,
   "id": "7f438eea",
   "metadata": {},
   "outputs": [
    {
     "name": "stdout",
     "output_type": "stream",
     "text": [
      "23 44\n",
      "1\n"
     ]
    }
   ],
   "source": [
    "x,y= map(int, input().split())\n",
    "if x > y:\n",
    "  smaller = y\n",
    "else:\n",
    "  smaller = x\n",
    "for i in range(1, smaller+1):\n",
    "  if((x % i == 0) and (y % i == 0)):\n",
    "    hcf = i\n",
    "if hcf==1:\n",
    "  print(1)\n",
    "else:\n",
    "  print(0)"
   ]
  },
  {
   "cell_type": "markdown",
   "id": "d4346493",
   "metadata": {},
   "source": [
    "A person saves his monthly saving according to given schema. He saves same amount of money which is equal to the money saved in immediate previous two months. Assume, initially he saved 1000 rupees and in first month he saved another 1000. Your task is to tell how much he had totally saved at the end of ‘n’ months\n",
    "\n",
    "Input Description:\n",
    "You will be given a number ‘n’->No. of months\n",
    "\n",
    "Output Description:\n",
    "Print the total savings at the end of ‘n’ months"
   ]
  },
  {
   "cell_type": "code",
   "execution_count": 3,
   "id": "bcf30ea9",
   "metadata": {},
   "outputs": [
    {
     "name": "stdout",
     "output_type": "stream",
     "text": [
      "6\n",
      "33000\n"
     ]
    }
   ],
   "source": [
    "d = [1000,1000]\n",
    "y = int(input())\n",
    "\n",
    "for i in range(1,y+1):\n",
    "  if i==1:\n",
    "    sum = d[-1] + d[-2]\n",
    "    d.append(sum)\n",
    "  else:\n",
    "    sum = d[-1] + d[-2]+d[0]\n",
    "    d.append(sum)\n",
    "print(sum)"
   ]
  },
  {
   "cell_type": "markdown",
   "id": "e8e3d612",
   "metadata": {},
   "source": [
    "You are given a set of numbers, out of which you have to tell which of them are finest. A finest number ‘n’ is a number which is formed by a number ‘t’ such that\n",
    "n=t^3+(t+1)^3\n",
    "t is a natural number\n",
    "\n",
    "Input Description:\n",
    "You are given a number ‘z’ representing total numbers in an array, Next line contains z space separated numbers.\n",
    "\n",
    "Output Description:\n",
    "Print the numbers which are finest in ascending order if there are no such numbers print -1."
   ]
  },
  {
   "cell_type": "code",
   "execution_count": 4,
   "id": "53188ba4",
   "metadata": {},
   "outputs": [
    {
     "name": "stdout",
     "output_type": "stream",
     "text": [
      "5\n",
      "4 7 2 9 5\n",
      "9\n"
     ]
    }
   ],
   "source": [
    "a = int(input())\n",
    "l = list(map(int, input().split()))\n",
    "l=l[:a]\n",
    "r= []\n",
    "for t in range(1,100):\n",
    "  n = (pow(t,3))+(pow(t+1, 3))\n",
    "  #1print(n)\n",
    "  if n in l:\n",
    "     r.append(n)\n",
    "r.sort()\n",
    "if len(r)==0:\n",
    "  print(-1)\n",
    "else:\n",
    "  print(*r)"
   ]
  },
  {
   "cell_type": "markdown",
   "id": "3383a0ca",
   "metadata": {},
   "source": [
    "You are given a number ‘n’. You have to tell whether a number is great or not. A great number is a number whose sum of digits let (m) and product of digits let(j) when summed together gives the number back\n",
    "\n",
    "m+j=n\n",
    "\n",
    "Input Description:\n",
    "You are given a number n;\n",
    "\n",
    "Output Description:\n",
    "Print Great if a number is great else print the no"
   ]
  },
  {
   "cell_type": "code",
   "execution_count": 5,
   "id": "abe77279",
   "metadata": {},
   "outputs": [
    {
     "name": "stdout",
     "output_type": "stream",
     "text": [
      "108\n",
      "no\n"
     ]
    }
   ],
   "source": [
    "a= input()\n",
    "b= list(map(int, str(a)))\n",
    "sum= b[0]+b[1]\n",
    "product= b[0]*b[1]\n",
    "o= sum+product\n",
    "r= int(a)\n",
    "if o==r:\n",
    "    print(\"Great\")\n",
    "else:\n",
    "    print(\"no\")"
   ]
  },
  {
   "cell_type": "markdown",
   "id": "c7ea31f9",
   "metadata": {},
   "source": [
    "You are given with a number ‘n’. You have to count the pair of two numbers a and b such that sum of two numbers are equal to n.\n",
    "\n",
    "Note:Both numbers lie in range 1<=a,b<n\n",
    "\n",
    "Input Description:\n",
    "You are given a number ‘n’\n",
    "\n",
    "Output Description:\n",
    "Print the number of pairs satisfying above condition"
   ]
  },
  {
   "cell_type": "code",
   "execution_count": 6,
   "id": "be8337fa",
   "metadata": {},
   "outputs": [
    {
     "name": "stdout",
     "output_type": "stream",
     "text": [
      "23\n",
      "22\n"
     ]
    }
   ],
   "source": [
    "A= int(input())\n",
    "sum=0\n",
    "for x in range(A):\n",
    "  for y in range(A):\n",
    "    if x+y==A:\n",
    "      sum=sum+1\n",
    "print(sum)"
   ]
  },
  {
   "cell_type": "markdown",
   "id": "82a8348b",
   "metadata": {},
   "source": [
    "You are provided with a number ’n’. Your task is to tell whether that number is saturated. A saturated number is a number which is made by exactly two digits.\n",
    "\n",
    "Input Description:\n",
    "You are given with a number n.\n",
    "\n",
    "Output Description:\n",
    "Print Saturated if it is saturated else it is Unsaturated"
   ]
  },
  {
   "cell_type": "code",
   "execution_count": 7,
   "id": "aa584eb6",
   "metadata": {},
   "outputs": [
    {
     "name": "stdout",
     "output_type": "stream",
     "text": [
      "121\n",
      "Saturated\n"
     ]
    }
   ],
   "source": [
    "a= input()\n",
    "b= tuple(map(int, str(a)))\n",
    "c=set(b)\n",
    "if len(c)==2:\n",
    "  print(\"Saturated\")\n",
    "else:\n",
    "  print(\"Unsaturated\")"
   ]
  },
  {
   "cell_type": "markdown",
   "id": "305851f8",
   "metadata": {},
   "source": [
    "Given a number N, print yes if the number is a multiple of 7 else print no."
   ]
  },
  {
   "cell_type": "code",
   "execution_count": 8,
   "id": "dd1736fb",
   "metadata": {},
   "outputs": [
    {
     "name": "stdout",
     "output_type": "stream",
     "text": [
      "63\n",
      "yes\n"
     ]
    }
   ],
   "source": [
    "A= int(input())\n",
    "if A%7==0:\n",
    "    print(\"yes\")\n",
    "else:\n",
    "    print(\"no\")"
   ]
  },
  {
   "cell_type": "markdown",
   "id": "7ea277a0",
   "metadata": {},
   "source": [
    "In XYZ country there is rule that car’s engine no. depends upon car’ number plate. Engine no is sum of all the integers present on car’s Number plate.The issuing authority has hired you in order to provide engine no. to the cars.Your task is to develop an algorithm which takes input as in form of string(Number plate) and gives back\n",
    "\n",
    "Engine number.\n",
    "\n",
    "Input Description:\n",
    "You are given a string ’s’\n",
    "\n",
    "Output Description:\n",
    "Print the engine number"
   ]
  },
  {
   "cell_type": "code",
   "execution_count": 9,
   "id": "e84d2c16",
   "metadata": {},
   "outputs": [
    {
     "name": "stdout",
     "output_type": "stream",
     "text": [
      "TN-21 BF-6357\n",
      "24\n"
     ]
    }
   ],
   "source": [
    "import re\n",
    "a =  input()\n",
    "b = re.findall(\"[0-9]\", a)\n",
    "l=[]\n",
    "sum=0\n",
    "for i in b:\n",
    "  l.append(int(i))\n",
    "for j in l:\n",
    "  sum=sum+j\n",
    "print(sum)"
   ]
  },
  {
   "cell_type": "markdown",
   "id": "f42602eb",
   "metadata": {},
   "source": [
    "Assume that you are ticket verifier at a club. Your club has decided to give a special discount to the person(s) who are satisfying the following condition\n",
    "\n",
    "Condition:-\n",
    "\n",
    "If ticket number is divisible by date of month. You are eligible for a discount.\n",
    "\n",
    "Input Description:\n",
    "First line contains input ‘n’.Next line contains n space separated numbers denoting ticket numbers .Next line contains ‘k’ date of the month.\n",
    "\n",
    "Output Description:\n",
    "Print 1 if the ticket is eligible for discount else 0"
   ]
  },
  {
   "cell_type": "code",
   "execution_count": 10,
   "id": "3148ecc7",
   "metadata": {},
   "outputs": [
    {
     "name": "stdout",
     "output_type": "stream",
     "text": [
      "6\n",
      "112 139 165 175 262 130\n",
      "22\n",
      "0 0 0 0 0 0\n"
     ]
    }
   ],
   "source": [
    "g = int(input())\n",
    "h = list(map(int, input().split()))\n",
    "r= int(input())\n",
    "j = h[:g]\n",
    "res=[]\n",
    "for x in j:\n",
    "    if x%r == 0:\n",
    "        res.append(1)\n",
    "    else:\n",
    "        res.append(0)\n",
    "print(*res)"
   ]
  }
 ],
 "metadata": {
  "kernelspec": {
   "display_name": "pandas_venv",
   "language": "python",
   "name": "pandas_venv"
  },
  "language_info": {
   "codemirror_mode": {
    "name": "ipython",
    "version": 3
   },
   "file_extension": ".py",
   "mimetype": "text/x-python",
   "name": "python",
   "nbconvert_exporter": "python",
   "pygments_lexer": "ipython3",
   "version": "3.10.7"
  }
 },
 "nbformat": 4,
 "nbformat_minor": 5
}
