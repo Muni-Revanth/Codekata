{
 "cells": [
  {
   "cell_type": "markdown",
   "id": "dc382bcd",
   "metadata": {},
   "source": [
    "# Codekata_Mathematics_12"
   ]
  },
  {
   "cell_type": "markdown",
   "id": "f172082e",
   "metadata": {},
   "source": [
    "You are given with an array. Your task is to print the left rotated array after k opearations.\n",
    "\n",
    "Time:O(n)\n",
    "\n",
    "Extra Space: O(1)\n",
    "\n",
    "Input Description:\n",
    "First line contains two number ‘n’ and ‘k’.Next line contains n space separated numbers.\n",
    "\n",
    "Output Description:\n",
    "Print the array as mentioned."
   ]
  },
  {
   "cell_type": "code",
   "execution_count": 1,
   "id": "d20da8a9",
   "metadata": {},
   "outputs": [
    {
     "name": "stdout",
     "output_type": "stream",
     "text": [
      "7 3\n",
      "1 2 3 4 5 6 7\n",
      "4 5 6 7 1 2 3\n"
     ]
    }
   ],
   "source": [
    "from collections import deque\n",
    "n,k = map(int, input().split())\n",
    "b = list(map(int, input().split()))\n",
    "deq = deque(b)\n",
    "deq.rotate(n-k)\n",
    "res = list(deq)\n",
    "print(*res)"
   ]
  },
  {
   "cell_type": "markdown",
   "id": "8f663157",
   "metadata": {},
   "source": [
    "Given a number N, check if the sum of the digits is a Palindrome. Print 'yes' or 'no' accordingly."
   ]
  },
  {
   "cell_type": "code",
   "execution_count": 2,
   "id": "d6116800",
   "metadata": {},
   "outputs": [
    {
     "name": "stdout",
     "output_type": "stream",
     "text": [
      "13\n",
      "yes\n"
     ]
    }
   ],
   "source": [
    "a = int(input())\n",
    "b = list(map(int, str(a)))\n",
    "s = str(sum(b))\n",
    "if s==s[::-1]:\n",
    "  print(\"yes\")\n",
    "else:\n",
    "  print(\"no\")"
   ]
  },
  {
   "cell_type": "markdown",
   "id": "acac1f79",
   "metadata": {},
   "source": [
    "Rampal is a number in which the sum of last two digits of that number is multiple of 4.Your teacher has given you the task to make a list of rampal numbers.Your task is to tell whether the number is rampal or not.\n",
    "Note : if the number is negative than rampal is a number which has sum of first and last digit as multiple of 4  \n",
    "\n",
    "Input Description:\n",
    "First line contains an input n\n",
    "\n",
    "Output Description:\n",
    "Print yes or no"
   ]
  },
  {
   "cell_type": "code",
   "execution_count": 3,
   "id": "1f710e0a",
   "metadata": {},
   "outputs": [
    {
     "name": "stdout",
     "output_type": "stream",
     "text": [
      "20\n",
      "no\n"
     ]
    }
   ],
   "source": [
    "a= input()\n",
    "b= list(map(int, str(a)))\n",
    "c= b[-1]+b[-2]\n",
    "if c%4 == 0:\n",
    "    print(\"yes\")\n",
    "else:\n",
    "    print(\"no\")"
   ]
  },
  {
   "cell_type": "markdown",
   "id": "f0a4b07a",
   "metadata": {},
   "source": [
    "Given two integers L,R. How many numbers exist in [L,R] with sum of digits as a prime number\n",
    "Note:In range of [L,R]- L is inclusive and R is exclusive"
   ]
  },
  {
   "cell_type": "code",
   "execution_count": 4,
   "id": "66ebb704",
   "metadata": {},
   "outputs": [
    {
     "name": "stdout",
     "output_type": "stream",
     "text": [
      "1 10\n",
      "4\n"
     ]
    }
   ],
   "source": [
    "a,b = map(int, input().split())\n",
    "res=[]\n",
    "prime_1 = [2,3,5,7]\n",
    "for i in range(a,b):\n",
    "  d = list(map(int, str(i)))\n",
    "  s = sum(d)\n",
    "  if s in prime_1:\n",
    "    res.append(i)\n",
    "print(len(res))"
   ]
  },
  {
   "cell_type": "markdown",
   "id": "d0762dd7",
   "metadata": {},
   "source": [
    "Given a number N, print the sum of the squares of its digits."
   ]
  },
  {
   "cell_type": "code",
   "execution_count": 5,
   "id": "bb2d8a0e",
   "metadata": {},
   "outputs": [
    {
     "name": "stdout",
     "output_type": "stream",
     "text": [
      "19\n",
      "82\n"
     ]
    }
   ],
   "source": [
    "a= input()\n",
    "b= list(map(int, str(a)))\n",
    "sum=0\n",
    "for x in b:\n",
    "    c= x*x\n",
    "    sum=sum+c\n",
    "print(sum)"
   ]
  },
  {
   "cell_type": "markdown",
   "id": "5f3f221e",
   "metadata": {},
   "source": [
    "Given a number N, print the first N Catalan numbers."
   ]
  },
  {
   "cell_type": "code",
   "execution_count": 6,
   "id": "c9272470",
   "metadata": {},
   "outputs": [
    {
     "name": "stdout",
     "output_type": "stream",
     "text": [
      "1\n",
      "1 1\n"
     ]
    }
   ],
   "source": [
    "cat = [1, 1, 2, 5, 14, 42, 132, 429, 1430, 4862, 16796, 58786, 208012, 742900, 2674440, 9694845]\n",
    "a = int(input())\n",
    "print(*cat[:a+1])"
   ]
  },
  {
   "cell_type": "markdown",
   "id": "3aca362d",
   "metadata": {},
   "source": [
    "Given a number N, print the even factors of N.If the even factor does not exists for N print '-1'."
   ]
  },
  {
   "cell_type": "code",
   "execution_count": 8,
   "id": "d45aff37",
   "metadata": {},
   "outputs": [
    {
     "name": "stdout",
     "output_type": "stream",
     "text": [
      "8\n",
      "2 4 8\n"
     ]
    }
   ],
   "source": [
    "a= int(input())\n",
    "fc= []\n",
    "even=[]\n",
    "for x in range(2,a+1):\n",
    "    if a%x == 0:\n",
    "        fc.append(x)\n",
    "for i in fc:\n",
    "    if i%2==0:\n",
    "        even.append(i)\n",
    "    else: print(\"-1\")\n",
    "print(*even)"
   ]
  },
  {
   "cell_type": "markdown",
   "id": "93956c2c",
   "metadata": {},
   "source": [
    "Given a number N, print the sum of its first and last digit."
   ]
  },
  {
   "cell_type": "code",
   "execution_count": 9,
   "id": "f8d0bffb",
   "metadata": {},
   "outputs": [
    {
     "name": "stdout",
     "output_type": "stream",
     "text": [
      "51233\n",
      "8\n"
     ]
    }
   ],
   "source": [
    "a= list(map(int, str(input())))\n",
    "sum= a[0]+a[-1]\n",
    "print(sum)"
   ]
  },
  {
   "cell_type": "markdown",
   "id": "2ebc2319",
   "metadata": {},
   "source": [
    "Given a number N print the right-angled triangle with the top level having N 1's followed by each level with is one 1 lesser."
   ]
  },
  {
   "cell_type": "code",
   "execution_count": 10,
   "id": "7f1b1fd1",
   "metadata": {},
   "outputs": [
    {
     "name": "stdout",
     "output_type": "stream",
     "text": [
      "3\n",
      "1 1 1\n",
      "1 1\n",
      "1\n"
     ]
    }
   ],
   "source": [
    "a= int(input())\n",
    "\n",
    "for x in range(a,0,-1):\n",
    "  li=[]\n",
    "  c= \"1\"*x\n",
    "  li= map(int, str(c))\n",
    "  print(*li)"
   ]
  },
  {
   "cell_type": "markdown",
   "id": "3099190e",
   "metadata": {},
   "source": [
    "Given a number N followed by N numbers. Out of these N numbers some of them are repeated. Write a program to find the first number which is repeated. If no numbers are repeated print 'unique'."
   ]
  },
  {
   "cell_type": "code",
   "execution_count": 11,
   "id": "663ad78e",
   "metadata": {},
   "outputs": [
    {
     "name": "stdout",
     "output_type": "stream",
     "text": [
      "7\n",
      "1 2 3 2 3 4 3\n",
      "2\n"
     ]
    }
   ],
   "source": [
    "a= int(input())\n",
    "b= list(map(int, input().split()))\n",
    "c= b[:a]\n",
    "f=[]\n",
    "for x in c:\n",
    "  count=0\n",
    "  for i in c:\n",
    "    if x==i:\n",
    "      count=count+1\n",
    "      if count==2:\n",
    "        f.append(x)\n",
    "        break\n",
    "    else: continue\n",
    "if len(f)==0:\n",
    "  print(\"unique\")\n",
    "else: print(f[0])"
   ]
  }
 ],
 "metadata": {
  "kernelspec": {
   "display_name": "pandas_venv",
   "language": "python",
   "name": "pandas_venv"
  },
  "language_info": {
   "codemirror_mode": {
    "name": "ipython",
    "version": 3
   },
   "file_extension": ".py",
   "mimetype": "text/x-python",
   "name": "python",
   "nbconvert_exporter": "python",
   "pygments_lexer": "ipython3",
   "version": "3.10.7"
  }
 },
 "nbformat": 4,
 "nbformat_minor": 5
}
