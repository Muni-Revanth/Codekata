{
 "cells": [
  {
   "cell_type": "markdown",
   "id": "4f0e3674",
   "metadata": {},
   "source": [
    "# Codekata_Basics_2"
   ]
  },
  {
   "cell_type": "markdown",
   "id": "a84d2b98",
   "metadata": {},
   "source": [
    "Write a code to get 2 integers A and N. Print the integer A, N times in separate line.\n",
    "\n",
    "Input Description:\n",
    "First line contains an integer A. Second line contains an Integer N.\n",
    "\n",
    "Output Description:\n",
    "Print the integer A, N times in a separate line."
   ]
  },
  {
   "cell_type": "code",
   "execution_count": 1,
   "id": "ac51a800",
   "metadata": {},
   "outputs": [
    {
     "name": "stdout",
     "output_type": "stream",
     "text": [
      "5 3\n",
      "5\n",
      "5\n",
      "5\n"
     ]
    }
   ],
   "source": [
    "a, b = list(map(int, input().split()))\n",
    "for c in range(b):\n",
    "    if(c<b):\n",
    "        print(a)"
   ]
  },
  {
   "cell_type": "markdown",
   "id": "3bb9e893",
   "metadata": {},
   "source": [
    "Write a code to get an integer N and print the values from N to 1.\n",
    "\n",
    "Input Description:\n",
    "A single line contains an integer N.\n",
    "\n",
    "Output Description:\n",
    "Print the values from N to 1 in a separate line."
   ]
  },
  {
   "cell_type": "code",
   "execution_count": 2,
   "id": "2dc26439",
   "metadata": {},
   "outputs": [
    {
     "name": "stdout",
     "output_type": "stream",
     "text": [
      "10\n",
      "10\n",
      "9\n",
      "8\n",
      "7\n",
      "6\n",
      "5\n",
      "4\n",
      "3\n",
      "2\n",
      "1\n"
     ]
    }
   ],
   "source": [
    "a= int(input())\n",
    "for x in range(a,0,-1):\n",
    "  print(x)"
   ]
  },
  {
   "cell_type": "markdown",
   "id": "42b9ee7e",
   "metadata": {},
   "source": [
    "Write a code to get an integer N and print values from 1 till N in a separate line.\n",
    "\n",
    "Input Description:\n",
    "A single line contains an integer N.\n",
    "\n",
    "Output Description:\n",
    "Print the values from 1 to N in a separate line."
   ]
  },
  {
   "cell_type": "code",
   "execution_count": 3,
   "id": "24121211",
   "metadata": {},
   "outputs": [
    {
     "name": "stdout",
     "output_type": "stream",
     "text": [
      "10\n",
      "1\n",
      "2\n",
      "3\n",
      "4\n",
      "5\n",
      "6\n",
      "7\n",
      "8\n",
      "9\n",
      "10\n"
     ]
    }
   ],
   "source": [
    "a= int(input())\n",
    "for i in range(1,a+1,1):\n",
    "    print(i)"
   ]
  },
  {
   "cell_type": "markdown",
   "id": "a1897767",
   "metadata": {},
   "source": [
    "Write a code to get an integer N and print the digits of the integer.\n",
    "\n",
    "Input Description:\n",
    "A single line contains an integer N.\n",
    "\n",
    "Output Description:\n",
    "Print the digits of the integer in a single line separated by space,"
   ]
  },
  {
   "cell_type": "code",
   "execution_count": 4,
   "id": "ceb1de2a",
   "metadata": {},
   "outputs": [
    {
     "name": "stdout",
     "output_type": "stream",
     "text": [
      "567\n",
      "5 6 7\n"
     ]
    }
   ],
   "source": [
    "a= input()\n",
    "print(\" \".join(a))"
   ]
  },
  {
   "cell_type": "markdown",
   "id": "4bc2bd5f",
   "metadata": {},
   "source": [
    "Given 3 numbers A,B,C process and print 'yes' if they can form the sides of a triangle otherwise print 'no'."
   ]
  },
  {
   "cell_type": "code",
   "execution_count": 5,
   "id": "93427084",
   "metadata": {},
   "outputs": [
    {
     "name": "stdout",
     "output_type": "stream",
     "text": [
      "3 4 5\n",
      "yes\n"
     ]
    }
   ],
   "source": [
    "A,B,C= map(int, input().split())\n",
    "sum= (A*A)+(B*B)\n",
    "c= sum**0.5\n",
    "if c==C:\n",
    "  print(\"yes\")\n",
    "else:\n",
    "  print(\"no\")"
   ]
  },
  {
   "cell_type": "markdown",
   "id": "4f2878bf",
   "metadata": {},
   "source": [
    "Write a code to get a integer n as input and calculate the smallest perfect power of 2 greater than n.\n",
    "\n",
    "Input Description:\n",
    "A single line containing an integer,n.\n",
    "\n",
    "Output Description:\n",
    "Print the smallest perfect power of 2 greater than n."
   ]
  },
  {
   "cell_type": "code",
   "execution_count": 6,
   "id": "591bb95a",
   "metadata": {},
   "outputs": [
    {
     "name": "stdout",
     "output_type": "stream",
     "text": [
      "45\n",
      "64\n"
     ]
    }
   ],
   "source": [
    "n= int(input())\n",
    "for a in range(0,100):\n",
    "  b= 2**a\n",
    "  if n<b:\n",
    "    print(b)\n",
    "    break"
   ]
  },
  {
   "cell_type": "markdown",
   "id": "b252b996",
   "metadata": {},
   "source": [
    "Given 3 numbers N , L and R. Print 'yes' if N is between L and R else print 'no'."
   ]
  },
  {
   "cell_type": "code",
   "execution_count": 8,
   "id": "c0fb3eb3",
   "metadata": {},
   "outputs": [
    {
     "name": "stdout",
     "output_type": "stream",
     "text": [
      "5\n",
      "3 7\n",
      "yes\n"
     ]
    }
   ],
   "source": [
    "N= int(input())\n",
    "L,R= map(int, input().split())\n",
    "if N>L and N<R:\n",
    "    print('yes')\n",
    "else:\n",
    "    print('no')"
   ]
  },
  {
   "cell_type": "markdown",
   "id": "d2019002",
   "metadata": {},
   "source": [
    "Given a string 'S' swap the even and odd characters starting from index 1(Assume the index starts from 0)."
   ]
  },
  {
   "cell_type": "code",
   "execution_count": 9,
   "id": "a4c92b1c",
   "metadata": {},
   "outputs": [
    {
     "name": "stdout",
     "output_type": "stream",
     "text": [
      "revanth\n",
      "eravtn\n"
     ]
    }
   ],
   "source": [
    "word= list(map(str, input()))\n",
    "l= len(word)\n",
    "\n",
    "o= []\n",
    "for i in range(l):\n",
    "  if i==0 or i%2==0:\n",
    "    x= word[i]\n",
    "    \n",
    "  else:\n",
    "    y=word[i]\n",
    "    o.append(y)\n",
    "    o.append(x)\n",
    "print(*o, sep=\"\")"
   ]
  },
  {
   "cell_type": "markdown",
   "id": "3cc2bfaf",
   "metadata": {},
   "source": [
    "Write a program to print the sum of the first K natural numbers."
   ]
  },
  {
   "cell_type": "code",
   "execution_count": 10,
   "id": "09669508",
   "metadata": {},
   "outputs": [
    {
     "name": "stdout",
     "output_type": "stream",
     "text": [
      "11\n",
      "66\n"
     ]
    }
   ],
   "source": [
    "a= int(input())\n",
    "\n",
    "sum=0\n",
    "for i in range(1,a+1):\n",
    "    sum+=i\n",
    "print(sum)"
   ]
  },
  {
   "cell_type": "markdown",
   "id": "a875966f",
   "metadata": {},
   "source": [
    "Given a range of 2 numbers (i.e) L and R count the number of prime numbers in the range (inclusive of L and R )."
   ]
  },
  {
   "cell_type": "code",
   "execution_count": 11,
   "id": "23c2e55a",
   "metadata": {},
   "outputs": [
    {
     "name": "stdout",
     "output_type": "stream",
     "text": [
      "10 20\n",
      "4\n"
     ]
    }
   ],
   "source": [
    "L,R= map(int, input().split())\n",
    "sum=0\n",
    "for i in range(L,R+1):\n",
    "  for a in range(2,i):\n",
    "    if i%a==0:\n",
    "      break\n",
    "  else:\n",
    "    sum=sum+1\n",
    "    \n",
    "print(sum)"
   ]
  }
 ],
 "metadata": {
  "kernelspec": {
   "display_name": "pandas_venv",
   "language": "python",
   "name": "pandas_venv"
  },
  "language_info": {
   "codemirror_mode": {
    "name": "ipython",
    "version": 3
   },
   "file_extension": ".py",
   "mimetype": "text/x-python",
   "name": "python",
   "nbconvert_exporter": "python",
   "pygments_lexer": "ipython3",
   "version": "3.10.7"
  }
 },
 "nbformat": 4,
 "nbformat_minor": 5
}
