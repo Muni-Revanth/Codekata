{
 "cells": [
  {
   "cell_type": "markdown",
   "id": "05ddbdb8",
   "metadata": {},
   "source": [
    "# Codekata_Mathematics_5"
   ]
  },
  {
   "cell_type": "markdown",
   "id": "1f6c66e5",
   "metadata": {},
   "source": [
    "Given a floating point number with 1 decimal place round it off to nearest greater integer and print it."
   ]
  },
  {
   "cell_type": "code",
   "execution_count": 1,
   "id": "9a7b007b",
   "metadata": {},
   "outputs": [
    {
     "name": "stdout",
     "output_type": "stream",
     "text": [
      "5.4\n",
      "6\n"
     ]
    }
   ],
   "source": [
    "import math\n",
    "a=float(input())\n",
    "print(math.ceil(a))"
   ]
  },
  {
   "cell_type": "markdown",
   "id": "8efb1f72",
   "metadata": {},
   "source": [
    "Given base(B) and height(H) of a triangle find its area."
   ]
  },
  {
   "cell_type": "code",
   "execution_count": 2,
   "id": "93bc445d",
   "metadata": {},
   "outputs": [
    {
     "name": "stdout",
     "output_type": "stream",
     "text": [
      "2 4\n",
      "4.0\n"
     ]
    }
   ],
   "source": [
    "B,H= map(int, input().split())\n",
    "Area= (B*H)/2\n",
    "print(Area)"
   ]
  },
  {
   "cell_type": "markdown",
   "id": "0470b849",
   "metadata": {},
   "source": [
    " You are given a ‘true’ string. String is called true if weight of string is multiple of 8. Your task is to tell whether a string can be declared True or Not. Weight of string is the sum of ASCII value of Vowel character(s) present in the string.\n",
    "\n",
    "Input Description:\n",
    "You are given as string ‘s’ in lower cases\n",
    "\n",
    "Output Description:\n",
    "Print 1 for true and 0 for false"
   ]
  },
  {
   "cell_type": "code",
   "execution_count": 3,
   "id": "04d7a0bc",
   "metadata": {},
   "outputs": [
    {
     "name": "stdout",
     "output_type": "stream",
     "text": [
      "revanth\n",
      "1\n"
     ]
    }
   ],
   "source": [
    "a= input()\n",
    "b= len(a)\n",
    "sum= 0\n",
    "for i in range(0,b):\n",
    "  sum= sum+ord(a[i])\n",
    "if sum%8==0:\n",
    "  print(\"1\")\n",
    "else:\n",
    "  print(\"0\")"
   ]
  },
  {
   "cell_type": "markdown",
   "id": "deff9fb9",
   "metadata": {},
   "source": [
    "Given 2 numbers N,M. Print 'yes' if their product is a perfect square else print 'no'."
   ]
  },
  {
   "cell_type": "code",
   "execution_count": 4,
   "id": "58931bae",
   "metadata": {},
   "outputs": [
    {
     "name": "stdout",
     "output_type": "stream",
     "text": [
      "4 6\n",
      "no\n"
     ]
    }
   ],
   "source": [
    "a,b= list(map(int, input().split()))\n",
    "c = a*b\n",
    "sqrt= int(c**0.5)\n",
    "d= sqrt*sqrt\n",
    "if c==d:\n",
    "  print(\"yes\")\n",
    "else:\n",
    "    print(\"no\")"
   ]
  },
  {
   "cell_type": "markdown",
   "id": "7aee159d",
   "metadata": {},
   "source": [
    "You are given a number ‘n’. You have to develop an algorithm which will tell sum of the powers of prime factors of that number.\n",
    "\n",
    "Input Description:\n",
    "Given a number ‘n’\n",
    "\n",
    "Output Description:\n",
    "sum of the powers of prime factors of that number."
   ]
  },
  {
   "cell_type": "code",
   "execution_count": 5,
   "id": "e60c6531",
   "metadata": {},
   "outputs": [
    {
     "name": "stdout",
     "output_type": "stream",
     "text": [
      "9\n",
      "2\n"
     ]
    }
   ],
   "source": [
    "a= int(input())\n",
    "sum=[]\n",
    "f= 0\n",
    "for i in range(1,a+1):\n",
    "  if a%i == 0:\n",
    "    sum.append(i)\n",
    "\n",
    "\n",
    "for x in sum:\n",
    "  for w in range(1,x):\n",
    "    if x%w != 0:\n",
    "      break\n",
    "    else:\n",
    "      f+=1\n",
    "\n",
    "print(f)"
   ]
  },
  {
   "cell_type": "markdown",
   "id": "3c59bda6",
   "metadata": {},
   "source": [
    "Given a number N, print the sum of squares of all its digits."
   ]
  },
  {
   "cell_type": "code",
   "execution_count": 6,
   "id": "aecc7b74",
   "metadata": {},
   "outputs": [
    {
     "name": "stdout",
     "output_type": "stream",
     "text": [
      "12\n",
      "5\n"
     ]
    }
   ],
   "source": [
    "a= input()\n",
    "b= list(map(int, str(a)))\n",
    "sum= 0\n",
    "for x in b:\n",
    "    s= x*x\n",
    "    sum=sum+s\n",
    "print(sum)\n"
   ]
  },
  {
   "cell_type": "markdown",
   "id": "78588768",
   "metadata": {},
   "source": [
    "In a world cup tournament,no of goals scored by each team is given to you. Your task is to calculate net goal rate of each team.\n",
    "\n",
    "Net goal rate of team is calculated\n",
    "\n",
    " \n",
    "\n",
    "No of goals(team)- sum of(no of goals by last 3 teams)\n",
    "\n",
    "Input Description:\n",
    "You are given a number ‘n’.Next line contains n space separated numbers.\n",
    "\n",
    "Output Description:\n",
    "Print the net goal rate of each team"
   ]
  },
  {
   "cell_type": "code",
   "execution_count": 7,
   "id": "03f89ac1",
   "metadata": {},
   "outputs": [
    {
     "name": "stdout",
     "output_type": "stream",
     "text": [
      "5\n",
      "95 85 75 12 11\n",
      "-3 -13 -23 -86 -87\n"
     ]
    }
   ],
   "source": [
    "a= int(input())\n",
    "b= list(map(int, input().split()))\n",
    "c= b[-1:-4:-1]\n",
    "d= c[0]+c[1]+c[2]\n",
    "s=[]\n",
    "for x in b:\n",
    "    diff= x-d\n",
    "    s.append(diff)\n",
    "print(*s)"
   ]
  },
  {
   "cell_type": "markdown",
   "id": "141bcac0",
   "metadata": {},
   "source": [
    "Given a String S,print the number of unique characters in it.If all the characters are duplicated,then print -1."
   ]
  },
  {
   "cell_type": "code",
   "execution_count": 8,
   "id": "9ff76095",
   "metadata": {},
   "outputs": [
    {
     "name": "stdout",
     "output_type": "stream",
     "text": [
      "REVANTH\n",
      "7\n"
     ]
    }
   ],
   "source": [
    "a=input()\n",
    "\n",
    "c=[]\n",
    "for i in a:\n",
    "  count=0\n",
    "  for j in a:\n",
    "    if i==j:\n",
    "      count+=1\n",
    "  c.append(count)\n",
    "if c.count(1)==0:\n",
    "  print(-1)\n",
    "else:\n",
    "  print(c.count(1))"
   ]
  },
  {
   "cell_type": "markdown",
   "id": "b019c623",
   "metadata": {},
   "source": [
    "Given 2 numbers N,M find the GCD of N and M.If it cannot be found for given number(s) then print -1"
   ]
  },
  {
   "cell_type": "code",
   "execution_count": 9,
   "id": "f4813783",
   "metadata": {},
   "outputs": [
    {
     "name": "stdout",
     "output_type": "stream",
     "text": [
      "10 20\n",
      "10\n"
     ]
    }
   ],
   "source": [
    "a,b = map(int,input().split())\n",
    "\n",
    "def gcd(c,d):\n",
    "    R= -1\n",
    "    if(c>d):\n",
    "        smaller= d\n",
    "    else:\n",
    "        smaller= c \n",
    "\n",
    "    if smaller<1:\n",
    "      for i in range(smaller,0):\n",
    "        if(c%i==0) and (d%i==0):\n",
    "            R= abs(i)\n",
    "    else:\n",
    "      for i in range(1,smaller+1):\n",
    "          if(c%i==0) and (d%i==0):\n",
    "              R= i\n",
    "    \n",
    "    print(R)\n",
    "    \n",
    "gcd(a,b)\n"
   ]
  },
  {
   "cell_type": "markdown",
   "id": "0e919078",
   "metadata": {},
   "source": [
    "Given 3 points check whether they lie on the same line.If they lie on the same line print 'yes' Otherwise print 'no'."
   ]
  },
  {
   "cell_type": "code",
   "execution_count": 10,
   "id": "18b6dd58",
   "metadata": {},
   "outputs": [
    {
     "name": "stdout",
     "output_type": "stream",
     "text": [
      "0 1\n",
      "0 0\n",
      "0 3\n",
      "yes\n"
     ]
    }
   ],
   "source": [
    "X1, Y1 = map(int, input().split())\n",
    "X2, Y2 = map(int, input().split())\n",
    "X3, Y3 = map(int, input().split())\n",
    "if X1==X2==X3:\n",
    "  print(\"yes\")\n",
    "elif Y1==Y2==Y3:\n",
    "  print(\"yes\")\n",
    "elif X1==Y1 and X2==Y2 and X3==Y3:\n",
    "    print(\"yes\")\n",
    "else:\n",
    "  print(\"no\")"
   ]
  }
 ],
 "metadata": {
  "kernelspec": {
   "display_name": "pandas_venv",
   "language": "python",
   "name": "pandas_venv"
  },
  "language_info": {
   "codemirror_mode": {
    "name": "ipython",
    "version": 3
   },
   "file_extension": ".py",
   "mimetype": "text/x-python",
   "name": "python",
   "nbconvert_exporter": "python",
   "pygments_lexer": "ipython3",
   "version": "3.10.7"
  }
 },
 "nbformat": 4,
 "nbformat_minor": 5
}
