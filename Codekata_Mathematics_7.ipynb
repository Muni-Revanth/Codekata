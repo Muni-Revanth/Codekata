{
 "cells": [
  {
   "cell_type": "markdown",
   "id": "dbbe5f77",
   "metadata": {},
   "source": [
    "# Codekata_Mathematics_7"
   ]
  },
  {
   "cell_type": "markdown",
   "id": "69b25ebd",
   "metadata": {},
   "source": [
    "Given 2 numbers N,K print the value of nCk(C-Combination)."
   ]
  },
  {
   "cell_type": "code",
   "execution_count": 1,
   "id": "45e433c2",
   "metadata": {},
   "outputs": [
    {
     "name": "stdout",
     "output_type": "stream",
     "text": [
      "5 2\n",
      "10\n"
     ]
    }
   ],
   "source": [
    "N,K = map(int, input().split())\n",
    "if N==0:\n",
    "  fact=1\n",
    "else:\n",
    "  fact=1\n",
    "  fact_K=1\n",
    "  fact_nk=1\n",
    "  for i in range(2,N+1):\n",
    "    fact=fact*i\n",
    "  for j in range(1,K+1):\n",
    "    fact_K*=j\n",
    "  for h in range(1, N-K+1):\n",
    "    fact_nk*=h\n",
    "combination = fact/(fact_K*fact_nk)\n",
    "print(int(combination))"
   ]
  },
  {
   "cell_type": "markdown",
   "id": "75d2e870",
   "metadata": {},
   "source": [
    "Given an array of N elements switch(swap) the element with the adjacent element and print the output."
   ]
  },
  {
   "cell_type": "code",
   "execution_count": 2,
   "id": "7a063766",
   "metadata": {},
   "outputs": [
    {
     "name": "stdout",
     "output_type": "stream",
     "text": [
      "5\n",
      "3 2 1 2 3 \n",
      "2 3 2 1 3\n"
     ]
    }
   ],
   "source": [
    "a= int(input())\n",
    "word= list(map(str, input().split()))\n",
    "l= len(word)\n",
    "\n",
    "o= []\n",
    "for i in range(0,a):\n",
    "  if i==0 or i%2==0:\n",
    "    x= word[i]\n",
    "  else:\n",
    "    y= word[i]\n",
    "    o.append(y)\n",
    "    o.append(x)\n",
    "if a%2!=0:\n",
    "    aq= word[a-1]\n",
    "    o.append(aq)\n",
    "print(*o)\n"
   ]
  },
  {
   "cell_type": "markdown",
   "id": "ec3daa18",
   "metadata": {},
   "source": [
    "Given the values of a,b and x in the equation ax + b = y. Find the value of y."
   ]
  },
  {
   "cell_type": "code",
   "execution_count": 3,
   "id": "43a053d8",
   "metadata": {},
   "outputs": [
    {
     "name": "stdout",
     "output_type": "stream",
     "text": [
      "3 4 5\n",
      "19\n"
     ]
    }
   ],
   "source": [
    "a,b,x = map(int, input().split())\n",
    "y= (a*x)+b\n",
    "print(y)"
   ]
  },
  {
   "cell_type": "markdown",
   "id": "00e3493e",
   "metadata": {},
   "source": [
    "Given 2 numbers N,K print the value of nPk(P-Permutation)."
   ]
  },
  {
   "cell_type": "code",
   "execution_count": 5,
   "id": "8351597f",
   "metadata": {},
   "outputs": [
    {
     "name": "stdout",
     "output_type": "stream",
     "text": [
      "6 3\n",
      "120\n"
     ]
    }
   ],
   "source": [
    "import math\n",
    "N,P = map(int, input().split())\n",
    "\n",
    "npr = math.factorial(N)/math.factorial(N-P)\n",
    "print(int(npr))  "
   ]
  },
  {
   "cell_type": "markdown",
   "id": "d55c65a4",
   "metadata": {},
   "source": [
    "Given 2 numbers P and A which are the perimeter and area of a rectangle respectively, find if there can actually be a rectangle with this perimeter and area having integer sides.If there exists such rectangle print 'yes' otherwise print 'no'."
   ]
  },
  {
   "cell_type": "code",
   "execution_count": 6,
   "id": "364d15c8",
   "metadata": {},
   "outputs": [
    {
     "name": "stdout",
     "output_type": "stream",
     "text": [
      "20 25\n",
      "yes\n"
     ]
    }
   ],
   "source": [
    "P,A = map(int, input().split())\n",
    "for i in range(int(A/2)):\n",
    "  j=(P/2)-i\n",
    "  if A == i*j:\n",
    "    print(\"yes\")\n",
    "    break\n",
    "else:\n",
    "  print(\"no\")"
   ]
  },
  {
   "cell_type": "markdown",
   "id": "a521463e",
   "metadata": {},
   "source": [
    "Given a number N and an array of N integers, print the minimum sum of the sub-array from the given array."
   ]
  },
  {
   "cell_type": "code",
   "execution_count": 7,
   "id": "baf39428",
   "metadata": {},
   "outputs": [
    {
     "name": "stdout",
     "output_type": "stream",
     "text": [
      "4\n",
      "2 4 4 2\n",
      "2\n"
     ]
    }
   ],
   "source": [
    "a = int(input())\n",
    "b = list(map(int, input().split()))\n",
    "if sum(b)<min(b):\n",
    "  print(sum(b))\n",
    "else:\n",
    "  print(min(b))"
   ]
  },
  {
   "cell_type": "markdown",
   "id": "a1b1f7b4",
   "metadata": {},
   "source": [
    "Given two numbers N,K followed by an array of N elements, print the array after doing right shift K times (in cyclic manner)."
   ]
  },
  {
   "cell_type": "code",
   "execution_count": 8,
   "id": "36043d70",
   "metadata": {},
   "outputs": [
    {
     "name": "stdout",
     "output_type": "stream",
     "text": [
      "3 2\n",
      "7 2 3\n",
      "2 3 7\n"
     ]
    }
   ],
   "source": [
    "from collections import deque\n",
    "n,k = map(int, input().split())\n",
    "b = list(map(int, input().split()))\n",
    "deq = deque(b)\n",
    "deq.rotate(k)\n",
    "res = list(deq)\n",
    "print(*res)"
   ]
  },
  {
   "cell_type": "markdown",
   "id": "b1eb8fa7",
   "metadata": {},
   "source": [
    "Given a number N, find the factorial of N."
   ]
  },
  {
   "cell_type": "code",
   "execution_count": 9,
   "id": "3246e0ab",
   "metadata": {},
   "outputs": [
    {
     "name": "stdout",
     "output_type": "stream",
     "text": [
      "6\n",
      "720\n"
     ]
    }
   ],
   "source": [
    "a= int(input())\n",
    "fact= 1\n",
    "for i in range(1,a+1):\n",
    "  fact= fact*i\n",
    "\n",
    "print(fact)"
   ]
  },
  {
   "cell_type": "markdown",
   "id": "a52b389e",
   "metadata": {},
   "source": [
    "Given a number N in decimal convert it into binary value."
   ]
  },
  {
   "cell_type": "code",
   "execution_count": 10,
   "id": "e1309fb8",
   "metadata": {},
   "outputs": [
    {
     "name": "stdout",
     "output_type": "stream",
     "text": [
      "65\n",
      "1000001\n"
     ]
    }
   ],
   "source": [
    "a= int(input())\n",
    "b= bin(a)\n",
    "print(b[2:])"
   ]
  },
  {
   "cell_type": "markdown",
   "id": "75a1c85d",
   "metadata": {},
   "source": [
    "A number is given as input.Find the maximum number that can be formed using the digits."
   ]
  },
  {
   "cell_type": "code",
   "execution_count": 11,
   "id": "2ff02de3",
   "metadata": {},
   "outputs": [
    {
     "name": "stdout",
     "output_type": "stream",
     "text": [
      "4123\n",
      "4321\n"
     ]
    }
   ],
   "source": [
    "a=input()\n",
    "b= list(map(int, str(a)))\n",
    "b.sort()\n",
    "b.reverse()\n",
    "print(*b, sep=\"\")"
   ]
  }
 ],
 "metadata": {
  "kernelspec": {
   "display_name": "pandas_venv",
   "language": "python",
   "name": "pandas_venv"
  },
  "language_info": {
   "codemirror_mode": {
    "name": "ipython",
    "version": 3
   },
   "file_extension": ".py",
   "mimetype": "text/x-python",
   "name": "python",
   "nbconvert_exporter": "python",
   "pygments_lexer": "ipython3",
   "version": "3.10.7"
  }
 },
 "nbformat": 4,
 "nbformat_minor": 5
}
