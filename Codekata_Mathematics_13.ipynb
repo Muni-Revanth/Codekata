{
 "cells": [
  {
   "cell_type": "markdown",
   "id": "790dc8f4",
   "metadata": {},
   "source": [
    "# Codekata_Mathematics_13"
   ]
  },
  {
   "cell_type": "markdown",
   "id": "39290acf",
   "metadata": {},
   "source": [
    "Given an arraylist A of string type which has name#mark1#mark2#mark3 format. Retrieve the name of the student who has scored max marks(total of three)."
   ]
  },
  {
   "cell_type": "code",
   "execution_count": 1,
   "id": "9e38ea0e",
   "metadata": {},
   "outputs": [
    {
     "name": "stdout",
     "output_type": "stream",
     "text": [
      "arun#12#12#12\n",
      "deepak#13#12#12\n",
      "deepak\n"
     ]
    }
   ],
   "source": [
    "s1 = list(map(str, input().split(\"#\")))\n",
    "s2 = list(map(str, input().split(\"#\")))\n",
    "e = list(map(int, s1[1:]))\n",
    "d = list(map(int, s2[1:]))\n",
    "es = sum(e)\n",
    "ds = sum(d)\n",
    "f = s1[0]\n",
    "g = s2[0]\n",
    "t = {es:f, ds:g }\n",
    "r = [es, ds]\n",
    "print(t[max(r)])"
   ]
  },
  {
   "cell_type": "markdown",
   "id": "35ee8d19",
   "metadata": {},
   "source": [
    "Given a number N, find the sum of prime numbers that end with 3 from 2 to N."
   ]
  },
  {
   "cell_type": "code",
   "execution_count": 2,
   "id": "d41af6bb",
   "metadata": {},
   "outputs": [
    {
     "name": "stdout",
     "output_type": "stream",
     "text": [
      "5\n",
      "3\n"
     ]
    }
   ],
   "source": [
    "a= int(input())\n",
    "pn= []\n",
    "li=[]\n",
    "sum=0\n",
    "for x in range(2,a+1):\n",
    "  for i in range(2,x):\n",
    "    if x%i==0:\n",
    "      break\n",
    "  else:\n",
    "    pn.append(x)\n",
    "for e in pn:\n",
    "  f= str(e)\n",
    "  if f[-1]=='3':\n",
    "    li.append(e)\n",
    "for d in li:\n",
    "  sum=sum+d\n",
    "print(sum)"
   ]
  },
  {
   "cell_type": "markdown",
   "id": "838c73ce",
   "metadata": {},
   "source": [
    "You are given with an array. Your task is to print the right rotated array after k operations.\n",
    "\n",
    "Time:O(n)\n",
    "\n",
    "Extra Space: O(1)\n",
    "\n",
    "Input Description:\n",
    "First line contains two number ‘n’ and ‘k’.Next line contains n space separated numbers.\n",
    "\n",
    "Output Description:\n",
    "Print the array as mentioned."
   ]
  },
  {
   "cell_type": "code",
   "execution_count": 3,
   "id": "3c7311c5",
   "metadata": {},
   "outputs": [
    {
     "name": "stdout",
     "output_type": "stream",
     "text": [
      "14 117\n",
      "15 26 35 98 61 1230 75 96 63 21 1654 98654 320145 987\n",
      "21 1654 98654 320145 987 15 26 35 98 61 1230 75 96 63\n"
     ]
    }
   ],
   "source": [
    "from collections import deque\n",
    "n,k = map(int, input().split())\n",
    "b = list(map(int, input().split()))\n",
    "deq = deque(b)\n",
    "deq.rotate(k)\n",
    "res = list(deq)\n",
    "print(*res)"
   ]
  },
  {
   "cell_type": "markdown",
   "id": "48b5958e",
   "metadata": {},
   "source": [
    "Given a number N, How many ways are there to represent it as sum of 2 primes."
   ]
  },
  {
   "cell_type": "code",
   "execution_count": 4,
   "id": "cfefe40b",
   "metadata": {},
   "outputs": [
    {
     "name": "stdout",
     "output_type": "stream",
     "text": [
      "10\n",
      "1\n"
     ]
    }
   ],
   "source": [
    "a= int(input())\n",
    "pn=[2, 3, 5, 7, 11, 13, 17, 19, 23, 29, 31, 37, 41, 43, 47, 53, 59, 61, 67, 71, 73, 79, 83, 89, 97, 101, 103, 107, 109, 113, 127, 131, 137, 139, 149, 151, 157, 163, 167, 173, 179, 181, 191, 193, 197, 199, 211, 223, 227, 229, 233, 239, 241, 251, 257, 263, 269, 271, 277, 281, 283, 293, 307, 311, 313, 317, 331, 337, 347, 349, 353, 359, 367, 373, 379, 383, 389, 397, 401, 409, 419, 421, 431, 433, 439, 443, 449, 457, 461, 463, 467, 479, 487, 491, 499, 503, 509, 521, 523, 541, 547, 557, 563, 569, 571, 577, 587, 593, 599, 601, 607, 613, 617, 619, 631, 641, 643, 647, 653, 659, 661, 673, 677, 683, 691, 701, 709, 719, 727, 733, 739, 743, 751, 757, 761, 769, 773, 787, 797, 809, 811, 821, 823, 827, 829, 839, 853, 857, 859, 863, 877, 881, 883, 887, 907, 911, 919, 929, 937, 941, 947, 953, 967, 971, 977, 983, 991, 997]\n",
    "count=0\n",
    "for x in pn:\n",
    "  for i  in pn:\n",
    "    if x+i == a:\n",
    "      count=count+1\n",
    "print(int(count/2))"
   ]
  },
  {
   "cell_type": "markdown",
   "id": "dcd384ad",
   "metadata": {},
   "source": [
    "Given three numbers L,R,N, print the count of numbers with occurences of the number N in [L,R]."
   ]
  },
  {
   "cell_type": "code",
   "execution_count": 5,
   "id": "7ffb996d",
   "metadata": {},
   "outputs": [
    {
     "name": "stdout",
     "output_type": "stream",
     "text": [
      "10 130 11\n",
      "11\n"
     ]
    }
   ],
   "source": [
    "L,R,N =map(int, input().split())\n",
    "le= len(str(N))\n",
    "count=0\n",
    "for x in range(L,R+1):\n",
    "  r= str(x)\n",
    "  s=str(N)\n",
    "  if r[0:le]==s or r[-1:-le-1:-1]==s:\n",
    "    count=count+1\n",
    "print(count)"
   ]
  },
  {
   "cell_type": "markdown",
   "id": "4cf8d159",
   "metadata": {},
   "source": [
    "You will be given an integer. Your task is to find the factorial of that big integer.\n",
    "\n",
    "Input Description:\n",
    "You are given an integer\n",
    "\n",
    "Output Description:\n",
    "Print the factorial of that number"
   ]
  },
  {
   "cell_type": "code",
   "execution_count": 6,
   "id": "4bfd96e5",
   "metadata": {},
   "outputs": [
    {
     "name": "stdout",
     "output_type": "stream",
     "text": [
      "100\n",
      "93326215443944152681699238856266700490715968264381621468592963895217599993229915608941463976156518286253697920827223758251185210916864000000000000000000000000\n"
     ]
    }
   ],
   "source": [
    "a= int(input())\n",
    "\n",
    "fact=1\n",
    "for x in range(a,0,-1):\n",
    "  fact= fact*x\n",
    "  \n",
    "print(fact)"
   ]
  },
  {
   "cell_type": "markdown",
   "id": "6a8d3f34",
   "metadata": {},
   "source": [
    "Given an amount A(integer) find the number of currency notes required to make the amount up in the most optimal way. The available denominations are 1000,500,100,50,10,1. The question is set in PRE-DEMONITISATION era so 1000 rupee notes are available :)"
   ]
  },
  {
   "cell_type": "code",
   "execution_count": 7,
   "id": "f71df3d9",
   "metadata": {},
   "outputs": [
    {
     "name": "stdout",
     "output_type": "stream",
     "text": [
      "689\n",
      "15\n"
     ]
    }
   ],
   "source": [
    "a= int(input())\n",
    "T = int(a/1000)\n",
    "bal= a-(T*1000)\n",
    "F = int(bal/500)\n",
    "bal= bal-(F*500)\n",
    "H = int(bal/100)\n",
    "bal= bal-(H*100)\n",
    "Fi = int(bal/50)\n",
    "bal= bal-(Fi*50)\n",
    "Te = int(bal/10)\n",
    "bal = bal-(Te*10)\n",
    "count= T+F+H+Fi+Te+bal\n",
    "print(count)"
   ]
  },
  {
   "cell_type": "markdown",
   "id": "9658a1fd",
   "metadata": {},
   "source": [
    "Check whether the given 4 points form a square or not."
   ]
  },
  {
   "cell_type": "code",
   "execution_count": 8,
   "id": "51ee996d",
   "metadata": {},
   "outputs": [
    {
     "name": "stdout",
     "output_type": "stream",
     "text": [
      "10 10\n",
      "10 20\n",
      "20 20\n",
      "20 10\n",
      "yes\n"
     ]
    }
   ],
   "source": [
    "a1, b1= map(int, input().split())\n",
    "b2, c2= map(int, input().split())\n",
    "c3, c4= map(int, input().split())\n",
    "d1, d2= map(int, input().split())\n",
    "\n",
    "if b1==b2:\n",
    "    if c2==c3==c4:\n",
    "        if c4==d1:\n",
    "            if d2==a1:\n",
    "                print(\"yes\")\n",
    "            else:\n",
    "                print(\"no\")\n",
    "        else:\n",
    "            print(\"no\")\n",
    "    else:\n",
    "      print(\"no\")\n",
    "else:\n",
    "    print(\"no\")"
   ]
  },
  {
   "cell_type": "markdown",
   "id": "7a18a366",
   "metadata": {},
   "source": [
    "In a cricket match the coach wanted to check the performance of batsmen o he decided strike rate as criteria. He planned that the two batsmen whose strike rate difference minimum will be sent no. 3 and no.4 in next match.Now your task is to help the coach in finding the two batsmen.\n",
    "\n",
    "Input Description:\n",
    "You are given an integer ’n’ denoting the size of array. Next line contains n space separated integers.\n",
    "\n",
    "Output Description:\n",
    "Print the strike rate of two batsmen in same order of their occurence"
   ]
  },
  {
   "cell_type": "code",
   "execution_count": 9,
   "id": "c8a1ba52",
   "metadata": {},
   "outputs": [
    {
     "name": "stdout",
     "output_type": "stream",
     "text": [
      "6\n",
      "138.3 156.5 156.6 160.2 198.3 146.2\n",
      "156.5 156.6\n"
     ]
    }
   ],
   "source": [
    "a = int(input())\n",
    "b = list(map(float, input().split()))\n",
    "diff=[]\n",
    "for i in range(a-1):\n",
    "  d = b[i]-b[i+1]\n",
    "  diff.append(abs(d))\n",
    "ind = diff.index(min(diff))\n",
    "print(b[ind], b[ind+1])"
   ]
  },
  {
   "cell_type": "markdown",
   "id": "f1a80b5c",
   "metadata": {},
   "source": [
    "A sequence is given by: 2, 6, 11, 17, 24,....\n",
    "\n",
    "The first term is 2.\n",
    "\n",
    "Given an integer N, find the Nth term of the sequence.\n",
    "\n",
    "1 <= N <= 10^18\n",
    "\n",
    "Since the answer can be very large print it modulo 1,000,000,007 (10^9 + 7)\n",
    "\n",
    "Input Description:\n",
    "The only line of input contains an integer N\n",
    "\n",
    "Output Description:\n",
    "Print the Nth term of the sequence"
   ]
  },
  {
   "cell_type": "code",
   "execution_count": 10,
   "id": "73619573",
   "metadata": {},
   "outputs": [
    {
     "name": "stdout",
     "output_type": "stream",
     "text": [
      "5\n",
      "24\n"
     ]
    }
   ],
   "source": [
    "a=[2]\n",
    "for i in range(4,100):\n",
    "  d=a[-1]+i\n",
    "  a.append(d)\n",
    "p = int(input())\n",
    "print(a[p-1])"
   ]
  }
 ],
 "metadata": {
  "kernelspec": {
   "display_name": "pandas_venv",
   "language": "python",
   "name": "pandas_venv"
  },
  "language_info": {
   "codemirror_mode": {
    "name": "ipython",
    "version": 3
   },
   "file_extension": ".py",
   "mimetype": "text/x-python",
   "name": "python",
   "nbconvert_exporter": "python",
   "pygments_lexer": "ipython3",
   "version": "3.10.7"
  }
 },
 "nbformat": 4,
 "nbformat_minor": 5
}
