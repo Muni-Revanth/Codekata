{
 "cells": [
  {
   "cell_type": "markdown",
   "id": "d558ef4b",
   "metadata": {},
   "source": [
    "# Codekata_Mathematics_8"
   ]
  },
  {
   "cell_type": "markdown",
   "id": "6a8536d1",
   "metadata": {},
   "source": [
    "Given a number N in binary format convert it to decimal number."
   ]
  },
  {
   "cell_type": "code",
   "execution_count": 1,
   "id": "af925c35",
   "metadata": {},
   "outputs": [
    {
     "name": "stdout",
     "output_type": "stream",
     "text": [
      "101101\n",
      "44\n"
     ]
    }
   ],
   "source": [
    "b= input()\n",
    "a=list(map(int, str(b)))\n",
    "r= len(a)\n",
    "sum=0\n",
    "for i in range(0,r-1):\n",
    "  if a[i]==1:\n",
    "    pow= 2**(r-1-i)\n",
    "    sum= sum+pow\n",
    "  else:\n",
    "    continue\n",
    "print(sum)"
   ]
  },
  {
   "cell_type": "markdown",
   "id": "910d7550",
   "metadata": {},
   "source": [
    "Given 2 numbers a and B.Print the value of a!/b!."
   ]
  },
  {
   "cell_type": "code",
   "execution_count": 2,
   "id": "f2a2cab7",
   "metadata": {},
   "outputs": [
    {
     "name": "stdout",
     "output_type": "stream",
     "text": [
      "5 7\n",
      "0\n"
     ]
    }
   ],
   "source": [
    "a,b= map(int, input().split())\n",
    "\n",
    "fact1= 1\n",
    "fact2= 1\n",
    "for i in range(1,a+1):\n",
    "  fact1= fact1*i\n",
    "for x in range(1,b+1):\n",
    "  fact2= fact2*x\n",
    "ans= fact1/fact2\n",
    "print(int(ans))"
   ]
  },
  {
   "cell_type": "markdown",
   "id": "9a1ef977",
   "metadata": {},
   "source": [
    "Given 3 numbers A,B,C process and print 'yes' if they can form the sides of a triangle otherwise print 'no'."
   ]
  },
  {
   "cell_type": "code",
   "execution_count": 3,
   "id": "5b7610b0",
   "metadata": {},
   "outputs": [
    {
     "name": "stdout",
     "output_type": "stream",
     "text": [
      "3 4 7\n",
      "no\n"
     ]
    }
   ],
   "source": [
    "A,B,C= map(int, input().split())\n",
    "sum= (A*A)+(B*B)\n",
    "c= sum**0.5\n",
    "if c==C:\n",
    "  print(\"yes\")\n",
    "else:\n",
    "  print(\"no\")"
   ]
  },
  {
   "cell_type": "markdown",
   "id": "15eb4c2c",
   "metadata": {},
   "source": [
    "Write a program to calculate the total surface area and volume of cuboid. Input contains three space separated positive integers L, B, H denoting the length, width and height of cuboid respectively."
   ]
  },
  {
   "cell_type": "code",
   "execution_count": 4,
   "id": "fb945fcc",
   "metadata": {},
   "outputs": [
    {
     "name": "stdout",
     "output_type": "stream",
     "text": [
      "4 2 6\n",
      "88 48\n"
     ]
    }
   ],
   "source": [
    "l,b,h = map(int, input().split())\n",
    "sa = (2*l*b)+(2*l*h)+(2*b*h)\n",
    "volume = l*b*h\n",
    "print(sa, volume)"
   ]
  },
  {
   "cell_type": "markdown",
   "id": "57ac086b",
   "metadata": {},
   "source": [
    "Given number N, find the minimum factor which yeilds odd number as the quotient."
   ]
  },
  {
   "cell_type": "code",
   "execution_count": 5,
   "id": "fc6f642e",
   "metadata": {},
   "outputs": [
    {
     "name": "stdout",
     "output_type": "stream",
     "text": [
      "6\n",
      "2\n"
     ]
    }
   ],
   "source": [
    "a = int(input())\n",
    "l = []\n",
    "for i in range(1, a+1):\n",
    "    if a%i==0 and (a/i)%2!=0:\n",
    "        l.append(i)\n",
    "print(l[0])"
   ]
  },
  {
   "cell_type": "markdown",
   "id": "5dac424f",
   "metadata": {},
   "source": [
    "Given a number N, check whether it is a power of 2."
   ]
  },
  {
   "cell_type": "code",
   "execution_count": 6,
   "id": "9b0a3fac",
   "metadata": {},
   "outputs": [
    {
     "name": "stdout",
     "output_type": "stream",
     "text": [
      "64\n",
      "yes\n"
     ]
    }
   ],
   "source": [
    "a= int(input())\n",
    "for x in range(100):\n",
    "    if 2**x == a:\n",
    "        print(\"yes\")\n",
    "        break\n",
    "else:\n",
    "  print(\"no\")"
   ]
  },
  {
   "cell_type": "markdown",
   "id": "201ce833",
   "metadata": {},
   "source": [
    "Given 3 numbers A,B,C print 'yes' if they can form the sides of a right angled triangle,otherwise 'no'."
   ]
  },
  {
   "cell_type": "code",
   "execution_count": 7,
   "id": "c2a1acad",
   "metadata": {},
   "outputs": [
    {
     "name": "stdout",
     "output_type": "stream",
     "text": [
      "3 4 5\n",
      "yes\n"
     ]
    }
   ],
   "source": [
    "A,B,C= map(int, input().split())\n",
    "sum= (A*A)+(B*B)\n",
    "c= sum**0.5\n",
    "if c==C:\n",
    "  print(\"yes\")\n",
    "else:\n",
    "  print(\"no\")"
   ]
  },
  {
   "cell_type": "markdown",
   "id": "c752ee10",
   "metadata": {},
   "source": [
    "Given 3 numbers A,B,C print 'yes' if they can form the sides of a scalene triangle else print 'no'."
   ]
  },
  {
   "cell_type": "code",
   "execution_count": 8,
   "id": "6462b833",
   "metadata": {},
   "outputs": [
    {
     "name": "stdout",
     "output_type": "stream",
     "text": [
      "4 5 6\n",
      "yes\n"
     ]
    }
   ],
   "source": [
    "A,B,C= map(int, input().split())\n",
    "if A!=B!=C:\n",
    "    print('yes')\n",
    "else:\n",
    "    print('no')"
   ]
  },
  {
   "cell_type": "markdown",
   "id": "d5e4a605",
   "metadata": {},
   "source": [
    "Given a hexadecimal number convert it into decimal."
   ]
  },
  {
   "cell_type": "code",
   "execution_count": 9,
   "id": "19e09bb8",
   "metadata": {},
   "outputs": [
    {
     "name": "stdout",
     "output_type": "stream",
     "text": [
      "293\n",
      "659\n"
     ]
    }
   ],
   "source": [
    "a = input()\n",
    "b = int(a, 16)\n",
    "print(b)"
   ]
  },
  {
   "cell_type": "markdown",
   "id": "29ac0632",
   "metadata": {},
   "source": [
    "Given 3 numbers A,B,C find (A^B)%C."
   ]
  },
  {
   "cell_type": "code",
   "execution_count": 10,
   "id": "bc8b4b8f",
   "metadata": {},
   "outputs": [
    {
     "name": "stdout",
     "output_type": "stream",
     "text": [
      "3 4 1000000007\n",
      "81\n"
     ]
    }
   ],
   "source": [
    "A,B,C = map(int, input().split())\n",
    "f= A**B\n",
    "r = f % C\n",
    "print(r)"
   ]
  }
 ],
 "metadata": {
  "kernelspec": {
   "display_name": "pandas_venv",
   "language": "python",
   "name": "pandas_venv"
  },
  "language_info": {
   "codemirror_mode": {
    "name": "ipython",
    "version": 3
   },
   "file_extension": ".py",
   "mimetype": "text/x-python",
   "name": "python",
   "nbconvert_exporter": "python",
   "pygments_lexer": "ipython3",
   "version": "3.10.7"
  }
 },
 "nbformat": 4,
 "nbformat_minor": 5
}
