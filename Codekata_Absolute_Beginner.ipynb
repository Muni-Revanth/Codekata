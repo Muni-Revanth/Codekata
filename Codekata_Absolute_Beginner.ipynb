{
  "nbformat": 4,
  "nbformat_minor": 0,
  "metadata": {
    "colab": {
      "provenance": []
    },
    "kernelspec": {
      "name": "python3",
      "display_name": "Python 3"
    },
    "language_info": {
      "name": "python"
    }
  },
  "cells": [
    {
      "cell_type": "markdown",
      "source": [
        "# **Absolute Beginner**"
      ],
      "metadata": {
        "id": "G7DR-oeHu-Ro"
      }
    },
    {
      "cell_type": "markdown",
      "source": [
        "Print the First 3 multiples of the given number \"N\". (N is a positive integer)\n",
        "\n",
        "Note: print the characters with a single space between them.\n",
        "\n",
        "Input Description:\n",
        "A positive integer is provided to you as an input.\n",
        "\n",
        "Output Description:\n",
        "Print the First 3 multiples of the number with single spaces between them as an output."
      ],
      "metadata": {
        "id": "UuWJUefGs3XK"
      }
    },
    {
      "cell_type": "code",
      "execution_count": 1,
      "metadata": {
        "colab": {
          "base_uri": "https://localhost:8080/"
        },
        "id": "FR1kIbZfsi6q",
        "outputId": "a90e195e-55bc-4e88-9782-51a9d26cf5e6"
      },
      "outputs": [
        {
          "output_type": "stream",
          "name": "stdout",
          "text": [
            "3\n",
            "3 6 9\n"
          ]
        }
      ],
      "source": [
        "a= int(input())\n",
        "b= a*1\n",
        "c= a*2\n",
        "d= a*3\n",
        "\n",
        "print(b,c,d)"
      ]
    },
    {
      "cell_type": "markdown",
      "source": [
        "You are provided with the radius of a circle \"A\". Find the length of its circumference.\n",
        "\n",
        "Note: In case the output is coming in decimal, roundoff to 2nd decimal place. In case the input is a negative number, print \"Error\".\n",
        "\n",
        "Input Description:\n",
        "The Radius of a circle is provided as the input of the program.\n",
        "\n",
        "Output Description:\n",
        "Calculate and print the Circumference of the circle corresponding to the input radius up to two decimal places."
      ],
      "metadata": {
        "id": "lbsw2QWjtGfy"
      }
    },
    {
      "cell_type": "code",
      "source": [
        "radius= float(input())\n",
        "b= 2*3.14159*radius\n",
        "print(round(b, 2))"
      ],
      "metadata": {
        "colab": {
          "base_uri": "https://localhost:8080/"
        },
        "id": "mqQ2cLmhtLB9",
        "outputId": "6629d59d-d03b-4eae-c175-790c51fb1df7"
      },
      "execution_count": 2,
      "outputs": [
        {
          "output_type": "stream",
          "name": "stdout",
          "text": [
            "4\n",
            "25.13\n"
          ]
        }
      ]
    },
    {
      "cell_type": "markdown",
      "source": [
        "You are given Two Numbers, A and B. If C = A + B. Find C.\n",
        "\n",
        "Note: Round off the output to a single decimal place.\n",
        "\n",
        "Input Description:\n",
        "You are provided with two numbers A and B.\n",
        "\n",
        "Output Description:\n",
        "Find the sum of the two numbers (A + B)"
      ],
      "metadata": {
        "id": "gvBssRC1tf38"
      }
    },
    {
      "cell_type": "code",
      "source": [
        "A= float(input())\n",
        "B= float(input())\n",
        "C= A+B\n",
        "print(round(C))"
      ],
      "metadata": {
        "colab": {
          "base_uri": "https://localhost:8080/"
        },
        "id": "wgzdTqo8tNw5",
        "outputId": "34df2ede-13d8-4999-fcd7-5922fdb7c5e5"
      },
      "execution_count": 3,
      "outputs": [
        {
          "output_type": "stream",
          "name": "stdout",
          "text": [
            "2.7\n",
            "3.5\n",
            "6\n"
          ]
        }
      ]
    },
    {
      "cell_type": "markdown",
      "source": [
        "You are given a number A in Kilometers. Convert this into B: Meters and C: Centi-Metres.\n",
        "\n",
        "Input Description:\n",
        "A number \"A\" representing some distance in kilometer is provided to you as the input.\n",
        "\n",
        "Output Description:\n",
        "Convert and print this value in meters and centimeters."
      ],
      "metadata": {
        "id": "RLmS3zaNtooU"
      }
    },
    {
      "cell_type": "code",
      "source": [
        "A= int(input())\n",
        "B= A*1000\n",
        "C= B*100\n",
        "print(B)\n",
        "print(C)\n"
      ],
      "metadata": {
        "colab": {
          "base_uri": "https://localhost:8080/"
        },
        "id": "rAdeFua4tdGs",
        "outputId": "6303e637-64c7-4483-f076-648f303e3ea3"
      },
      "execution_count": 4,
      "outputs": [
        {
          "output_type": "stream",
          "name": "stdout",
          "text": [
            "34\n",
            "34000\n",
            "3400000\n"
          ]
        }
      ]
    },
    {
      "cell_type": "markdown",
      "source": [
        "You are provided with a number, \"N\". Find its factorial.\n",
        "\n",
        "Input Description:\n",
        "A positive integer is provided as an input.\n",
        "\n",
        "Output Description:\n",
        "Print the factorial of the integer."
      ],
      "metadata": {
        "id": "a-8MtW-3trZU"
      }
    },
    {
      "cell_type": "code",
      "source": [
        "a = int(input())\n",
        "factorial= 1\n",
        "for i in range(1, a+1):\n",
        "    factorial= factorial*i\n",
        "print(factorial)"
      ],
      "metadata": {
        "colab": {
          "base_uri": "https://localhost:8080/"
        },
        "id": "1RU0f9oituqK",
        "outputId": "8132fad5-798c-4671-8e00-5e7102d8332b"
      },
      "execution_count": 5,
      "outputs": [
        {
          "output_type": "stream",
          "name": "stdout",
          "text": [
            "5\n",
            "120\n"
          ]
        }
      ]
    }
  ]
}