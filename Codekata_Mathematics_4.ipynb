{
 "cells": [
  {
   "cell_type": "markdown",
   "id": "84e8e76d",
   "metadata": {},
   "source": [
    "# Codekata_Mathematics_4"
   ]
  },
  {
   "cell_type": "markdown",
   "id": "85b045ce",
   "metadata": {},
   "source": [
    "You are given a large number made of only 0’s and 1’s.Your task is to find the max no of consecutive 1’s. If there are no 1’s print -1\n",
    "\n",
    "Input Description:\n",
    "A large number ‘n’\n",
    "\n",
    "Output Description:\n",
    "Print the max no of consecutive 1 in the number"
   ]
  },
  {
   "cell_type": "code",
   "execution_count": 1,
   "id": "ecbca623",
   "metadata": {},
   "outputs": [
    {
     "name": "stdout",
     "output_type": "stream",
     "text": [
      "1010111101\n",
      "4\n"
     ]
    }
   ],
   "source": [
    "a = input()\n",
    "b = list(map(int, str(a)))\n",
    "count=0\n",
    "m=[]\n",
    "for i in b:\n",
    "  if i==1:\n",
    "    count+=1\n",
    "    m.append(count)\n",
    "  else:\n",
    "    count=0\n",
    "if len(m)==0:\n",
    "  print(-1)\n",
    "else:\n",
    "  print(max(m))"
   ]
  },
  {
   "cell_type": "markdown",
   "id": "85544ec7",
   "metadata": {},
   "source": [
    "Given a number N, print its reverse."
   ]
  },
  {
   "cell_type": "code",
   "execution_count": 2,
   "id": "cf8710a5",
   "metadata": {},
   "outputs": [
    {
     "name": "stdout",
     "output_type": "stream",
     "text": [
      "456\n",
      "654\n"
     ]
    }
   ],
   "source": [
    "a = input()\n",
    "b = a[::-1]\n",
    "for v in range(len(b)+1):\n",
    "  if b[v]==\"0\":\n",
    "     continue\n",
    "  else:\n",
    "    break\n",
    "print(b[v:])"
   ]
  },
  {
   "cell_type": "markdown",
   "id": "5841cc4d",
   "metadata": {},
   "source": [
    "You are given given task is to print whether array is ‘majestic’ or not.A ‘majsetic’ array is an array whose sum of first three number is equal to last three number.\n",
    "\n",
    "Input Description:\n",
    "You are given a number ‘n’,Next line contains ‘n’ space separated\n",
    "\n",
    "Output Description:\n",
    "Print 1 if array is majestic and 0 if it is not"
   ]
  },
  {
   "cell_type": "code",
   "execution_count": 3,
   "id": "d01bf409",
   "metadata": {},
   "outputs": [
    {
     "name": "stdout",
     "output_type": "stream",
     "text": [
      "7\n",
      "1 2 3 4 6 0 0\n",
      "1\n"
     ]
    }
   ],
   "source": [
    "a= int(input())\n",
    "b= list(map(int, input().split()))\n",
    "sum=0\n",
    "sum1=0\n",
    "for x in b[0:3]:\n",
    "  sum=sum+x\n",
    "for i in b[-1:-4:-1]:\n",
    "  sum1=sum1+i\n",
    "if sum==sum1:\n",
    "  print(\"1\")\n",
    "else:\n",
    "  print(\"0\")"
   ]
  },
  {
   "cell_type": "markdown",
   "id": "2c1a7d11",
   "metadata": {},
   "source": [
    "Given 3 numbers A,B,C find the sum of Arithmetic Series with a=A, d=B and n=C"
   ]
  },
  {
   "cell_type": "code",
   "execution_count": 4,
   "id": "102bb3fd",
   "metadata": {},
   "outputs": [
    {
     "name": "stdout",
     "output_type": "stream",
     "text": [
      "1 1 3\n",
      "6\n"
     ]
    }
   ],
   "source": [
    "a,d,n = map(int, input().split())\n",
    "S = (n/2)*(2*a + (n-1)*d)\n",
    "print(int(S))"
   ]
  },
  {
   "cell_type": "markdown",
   "id": "2cba348f",
   "metadata": {},
   "source": [
    "Given a number N, print its factors."
   ]
  },
  {
   "cell_type": "code",
   "execution_count": 5,
   "id": "7700851d",
   "metadata": {},
   "outputs": [
    {
     "name": "stdout",
     "output_type": "stream",
     "text": [
      "5\n",
      "1 5\n"
     ]
    }
   ],
   "source": [
    "a= int(input())\n",
    "b=[]\n",
    "for i in range(1,a+1):\n",
    "  if a%i ==0:\n",
    "    b.append(i)\n",
    "print(*b)"
   ]
  },
  {
   "cell_type": "markdown",
   "id": "cba3c2fd",
   "metadata": {},
   "source": [
    "Given a number N and an array of N integers, find the sum of all the negative numbers in the array."
   ]
  },
  {
   "cell_type": "code",
   "execution_count": 6,
   "id": "f2848577",
   "metadata": {},
   "outputs": [
    {
     "name": "stdout",
     "output_type": "stream",
     "text": [
      "5\n",
      "-2 -5 8 3 2 -9\n",
      "-16\n"
     ]
    }
   ],
   "source": [
    "a=int(input())\n",
    "b= list(map(int, input().split()))\n",
    "sum=0\n",
    "for x in b:\n",
    "  if x<0:\n",
    "    sum+=x\n",
    "print(sum)"
   ]
  },
  {
   "cell_type": "markdown",
   "id": "d811df49",
   "metadata": {},
   "source": [
    "You are given an array of numbers. Print the least occurring element. If there is more than 1 element print all of them in decreasing order of their value.\n",
    "\n",
    "Input Description:\n",
    "You are given a number ‘n’ denoting size of array. Next line contains n space separated numbers.\n",
    "\n",
    "Output Description:\n",
    "Print the number as mentioned"
   ]
  },
  {
   "cell_type": "code",
   "execution_count": 7,
   "id": "30d6ca5a",
   "metadata": {},
   "outputs": [
    {
     "name": "stdout",
     "output_type": "stream",
     "text": [
      "9\n",
      "1 6 4 55 6 76 23 34 45\n",
      "76 55 45 34 23 4 1\n"
     ]
    }
   ],
   "source": [
    "a = int(input())\n",
    "b = list(map(int, input().split()))\n",
    "l=[]\n",
    "v = set(b)\n",
    "for i in b:\n",
    "  count=0\n",
    "  for j in b:\n",
    "    if i==j:\n",
    "      count=count+1\n",
    "  l.append(count)\n",
    "mi = min(l)\n",
    "t=[]\n",
    "i=0\n",
    "for n in l:\n",
    "  if n==mi:\n",
    "    t.append(b[i])\n",
    "    i=i+1\n",
    "  else:\n",
    "    i=i+1\n",
    "    continue\n",
    "#ind = l.index(min(l))\n",
    "#m = b[ind]\n",
    "t.sort()\n",
    "print(*t[::-1])"
   ]
  },
  {
   "cell_type": "markdown",
   "id": "773b6553",
   "metadata": {},
   "source": [
    "Given 2 numbers N and M add both the numbers and check whether the sum is odd or even."
   ]
  },
  {
   "cell_type": "code",
   "execution_count": 8,
   "id": "f3d72b93",
   "metadata": {},
   "outputs": [
    {
     "name": "stdout",
     "output_type": "stream",
     "text": [
      "6 7\n",
      "odd\n"
     ]
    }
   ],
   "source": [
    "N,M= map(int, input().split())\n",
    "S= N+M\n",
    "if S%2==0:\n",
    "    print(\"even\")\n",
    "else:\n",
    "    print(\"odd\")"
   ]
  },
  {
   "cell_type": "markdown",
   "id": "77214739",
   "metadata": {},
   "source": [
    "Given numbers A,B find A^B."
   ]
  },
  {
   "cell_type": "code",
   "execution_count": 9,
   "id": "aebaa897",
   "metadata": {},
   "outputs": [
    {
     "name": "stdout",
     "output_type": "stream",
     "text": [
      "5 7\n",
      "78125\n"
     ]
    }
   ],
   "source": [
    "A,B = map(int, input().split())\n",
    "c= A**B\n",
    "print(c)\n"
   ]
  },
  {
   "cell_type": "markdown",
   "id": "08213142",
   "metadata": {},
   "source": [
    "Given a range of 2 numbers (i.e) L and R count the number of prime numbers in the range (inclusive of L and R )."
   ]
  },
  {
   "cell_type": "code",
   "execution_count": 10,
   "id": "999c8796",
   "metadata": {},
   "outputs": [
    {
     "name": "stdout",
     "output_type": "stream",
     "text": [
      "2 5\n",
      "3\n"
     ]
    }
   ],
   "source": [
    "L,R= map(int, input().split())\n",
    "sum=0\n",
    "for i in range(L,R+1):\n",
    "  for a in range(2,i):\n",
    "    if i%a==0:\n",
    "      break\n",
    "  else:\n",
    "    sum=sum+1\n",
    "    \n",
    "print(sum)"
   ]
  }
 ],
 "metadata": {
  "kernelspec": {
   "display_name": "pandas_venv",
   "language": "python",
   "name": "pandas_venv"
  },
  "language_info": {
   "codemirror_mode": {
    "name": "ipython",
    "version": 3
   },
   "file_extension": ".py",
   "mimetype": "text/x-python",
   "name": "python",
   "nbconvert_exporter": "python",
   "pygments_lexer": "ipython3",
   "version": "3.10.7"
  }
 },
 "nbformat": 4,
 "nbformat_minor": 5
}
