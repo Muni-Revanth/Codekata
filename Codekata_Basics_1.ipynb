{
 "cells": [
  {
   "cell_type": "markdown",
   "id": "79131c38",
   "metadata": {},
   "source": [
    "# Codekata_Basics_1"
   ]
  },
  {
   "cell_type": "markdown",
   "id": "078925bd",
   "metadata": {},
   "source": [
    "Given 2 numbers N and K followed by elements of N .Print 'yes' if K exists else print 'no'."
   ]
  },
  {
   "cell_type": "code",
   "execution_count": 1,
   "id": "ff98f1bb",
   "metadata": {},
   "outputs": [
    {
     "name": "stdout",
     "output_type": "stream",
     "text": [
      "5 25\n",
      "5 10 15 20 25\n",
      "yes\n"
     ]
    }
   ],
   "source": [
    "N,K= map(int, input().split())\n",
    "L= list(map(int, input().split()))\n",
    "for a in L:\n",
    "  if a==K:\n",
    "    print(\"yes\")\n",
    "    break\n",
    "\n",
    "else:\n",
    "  print(\"no\")"
   ]
  },
  {
   "cell_type": "markdown",
   "id": "969c09ab",
   "metadata": {},
   "source": [
    "Write a code to get the input and print it 5 times.\n",
    "\n",
    "Input Description:\n",
    "A single line contains an integer N.\n",
    "\n",
    "Output Description:\n",
    "Output contains 5 lines with each line having the value N."
   ]
  },
  {
   "cell_type": "code",
   "execution_count": 2,
   "id": "a7f030c2",
   "metadata": {},
   "outputs": [
    {
     "name": "stdout",
     "output_type": "stream",
     "text": [
      "3\n",
      "3\n",
      "3\n",
      "3\n",
      "3\n",
      "3\n"
     ]
    }
   ],
   "source": [
    "a= int(input())\n",
    "print(a)\n",
    "print(a)\n",
    "print(a)\n",
    "print(a)\n",
    "print(a)"
   ]
  },
  {
   "cell_type": "markdown",
   "id": "7bc6d11d",
   "metadata": {},
   "source": [
    "Find the minimum among 10 numbers."
   ]
  },
  {
   "cell_type": "code",
   "execution_count": 3,
   "id": "ee1814ff",
   "metadata": {},
   "outputs": [
    {
     "name": "stdout",
     "output_type": "stream",
     "text": [
      "1 2 3 4 5 6 7 8 9 10\n",
      "1\n"
     ]
    }
   ],
   "source": [
    "a= list(map(int, input().split()))\n",
    "print(min(a))"
   ]
  },
  {
   "cell_type": "markdown",
   "id": "92af3461",
   "metadata": {},
   "source": [
    "Given base(B) and height(H) of a triangle find its area."
   ]
  },
  {
   "cell_type": "code",
   "execution_count": 4,
   "id": "d5d7ea5f",
   "metadata": {},
   "outputs": [
    {
     "name": "stdout",
     "output_type": "stream",
     "text": [
      "3 5\n",
      "7.5\n"
     ]
    }
   ],
   "source": [
    "B,H= map(int, input().split())\n",
    "Area= (B*H)/2\n",
    "print(Area)"
   ]
  },
  {
   "cell_type": "markdown",
   "id": "ce221325",
   "metadata": {},
   "source": [
    "Write a code to get an integer N and print the even values from 1 till N in a separate line.\n",
    "\n",
    "Input Description:\n",
    "A single line contains an integer N.\n",
    "\n",
    "Output Description:\n",
    "Print the even values from 1 to N in a separate line."
   ]
  },
  {
   "cell_type": "code",
   "execution_count": 5,
   "id": "df84910d",
   "metadata": {},
   "outputs": [
    {
     "name": "stdout",
     "output_type": "stream",
     "text": [
      "12\n",
      "2\n",
      "4\n",
      "6\n",
      "8\n",
      "10\n",
      "12\n"
     ]
    }
   ],
   "source": [
    "a= int(input())\n",
    "b= a+1\n",
    "for x in range(1,b,1):\n",
    "    if (x%2 == 0):\n",
    "        print(x)"
   ]
  },
  {
   "cell_type": "markdown",
   "id": "5432a1a3",
   "metadata": {},
   "source": [
    "Given 2 numbers N and M add both the numbers and check whether the sum is odd or even."
   ]
  },
  {
   "cell_type": "code",
   "execution_count": 6,
   "id": "41578228",
   "metadata": {},
   "outputs": [
    {
     "name": "stdout",
     "output_type": "stream",
     "text": [
      "5 7\n",
      "even\n"
     ]
    }
   ],
   "source": [
    "N,M= map(int, input().split())\n",
    "S= N+M\n",
    "if S%2==0:\n",
    "    print(\"even\")\n",
    "else:\n",
    "    print(\"odd\")"
   ]
  },
  {
   "cell_type": "markdown",
   "id": "b07ae0a2",
   "metadata": {},
   "source": [
    "Given a number N, print 'yes' if it is composite else print 'no'."
   ]
  },
  {
   "cell_type": "code",
   "execution_count": 7,
   "id": "8b7e32f0",
   "metadata": {},
   "outputs": [
    {
     "name": "stdout",
     "output_type": "stream",
     "text": [
      "11\n",
      "no\n"
     ]
    }
   ],
   "source": [
    "a= int(input())\n",
    "for i in range(2,a):\n",
    "    if a%i == 0:\n",
    "        print(\"yes\")\n",
    "        break\n",
    "else:\n",
    "    print(\"no\")"
   ]
  },
  {
   "cell_type": "markdown",
   "id": "ce4ba611",
   "metadata": {},
   "source": [
    "Given 2 numbers N,M. Print 'yes' if their product is a perfect square else print 'no'."
   ]
  },
  {
   "cell_type": "code",
   "execution_count": 8,
   "id": "185df5eb",
   "metadata": {},
   "outputs": [
    {
     "name": "stdout",
     "output_type": "stream",
     "text": [
      "5 6\n",
      "no\n"
     ]
    }
   ],
   "source": [
    "a,b= list(map(int, input().split()))\n",
    "c = a*b\n",
    "sqrt= int(c**0.5)\n",
    "d= sqrt*sqrt\n",
    "if c==d:\n",
    "  print(\"yes\")\n",
    "else:\n",
    "    print(\"no\")"
   ]
  },
  {
   "cell_type": "markdown",
   "id": "aeec437c",
   "metadata": {},
   "source": [
    "Given 2 numbers N and K followed by N elements,print the number of repetition of K otherwise print '-1' if the element not found."
   ]
  },
  {
   "cell_type": "code",
   "execution_count": 9,
   "id": "66022d70",
   "metadata": {},
   "outputs": [
    {
     "name": "stdout",
     "output_type": "stream",
     "text": [
      "3 5\n",
      "1 5 5\n",
      "1\n"
     ]
    }
   ],
   "source": [
    "n, k = list(map(int, input().split()))\n",
    "N= list(map(int, input().split()))\n",
    "r= N[0:n]\n",
    "a= -1\n",
    "for i in r:\n",
    "  if i==k:\n",
    "    a=a+1\n",
    "print(a)\n"
   ]
  },
  {
   "cell_type": "markdown",
   "id": "1e123566",
   "metadata": {},
   "source": [
    "Write a code to get an integer N and print the sum of  values from 1 to N.\n",
    "\n",
    "Input Description:\n",
    "A single line contains an integer N.\n",
    "\n",
    "Output Description:\n",
    "Print the sum of values from 1 to N."
   ]
  },
  {
   "cell_type": "code",
   "execution_count": 10,
   "id": "a062a25a",
   "metadata": {},
   "outputs": [
    {
     "name": "stdout",
     "output_type": "stream",
     "text": [
      "7\n",
      "28\n"
     ]
    }
   ],
   "source": [
    "a= int(input())\n",
    "x= 0\n",
    "i= 1\n",
    "while(i<=a):\n",
    "    x= x+i\n",
    "    i= i+1\n",
    "print(x)\n",
    "    "
   ]
  }
 ],
 "metadata": {
  "kernelspec": {
   "display_name": "pandas_venv",
   "language": "python",
   "name": "pandas_venv"
  },
  "language_info": {
   "codemirror_mode": {
    "name": "ipython",
    "version": 3
   },
   "file_extension": ".py",
   "mimetype": "text/x-python",
   "name": "python",
   "nbconvert_exporter": "python",
   "pygments_lexer": "ipython3",
   "version": "3.10.7"
  }
 },
 "nbformat": 4,
 "nbformat_minor": 5
}
