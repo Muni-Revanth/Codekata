{
 "cells": [
  {
   "cell_type": "markdown",
   "id": "06e886a8",
   "metadata": {},
   "source": [
    "# Codekata_Basics_3"
   ]
  },
  {
   "cell_type": "markdown",
   "id": "ad7ab4d9",
   "metadata": {},
   "source": [
    "Given an array of N elements switch(swap) the element with the adjacent element and print the output."
   ]
  },
  {
   "cell_type": "code",
   "execution_count": 1,
   "id": "8740e6b7",
   "metadata": {},
   "outputs": [
    {
     "name": "stdout",
     "output_type": "stream",
     "text": [
      "5\n",
      "1 2 3 4 5\n",
      "2 1 4 3 5\n"
     ]
    }
   ],
   "source": [
    "a= int(input())\n",
    "word= list(map(str, input().split()))\n",
    "l= len(word)\n",
    "\n",
    "o= []\n",
    "for i in range(0,a):\n",
    "  if i==0 or i%2==0:\n",
    "    x= word[i]\n",
    "  else:\n",
    "    y= word[i]\n",
    "    o.append(y)\n",
    "    o.append(x)\n",
    "if a%2!=0:\n",
    "    aq= word[a-1]\n",
    "    o.append(aq)\n",
    "print(*o)\n"
   ]
  },
  {
   "cell_type": "markdown",
   "id": "a6ab08b6",
   "metadata": {},
   "source": [
    "Given 3 numbers A,B,C print 'yes' if they can form the sides of a scalene triangle else print 'no'."
   ]
  },
  {
   "cell_type": "code",
   "execution_count": 2,
   "id": "e24d0b59",
   "metadata": {},
   "outputs": [
    {
     "name": "stdout",
     "output_type": "stream",
     "text": [
      "3 6 9\n",
      "yes\n"
     ]
    }
   ],
   "source": [
    "A,B,C= map(int, input().split())\n",
    "if A!=B!=C:\n",
    "    print('yes')\n",
    "else:\n",
    "    print('no')"
   ]
  },
  {
   "cell_type": "markdown",
   "id": "3194cd53",
   "metadata": {},
   "source": [
    "Write a program to get a string as input and reverse the string without using temporary variable.\n",
    "\n",
    "Input Description:\n",
    "A single line containing a string.\n",
    "\n",
    "Output Description:\n",
    "Print the reversed string."
   ]
  },
  {
   "cell_type": "code",
   "execution_count": 3,
   "id": "8409cd15",
   "metadata": {},
   "outputs": [
    {
     "name": "stdout",
     "output_type": "stream",
     "text": [
      "github\n",
      "buhtig\n"
     ]
    }
   ],
   "source": [
    "a= input()\n",
    "b= a[::-1]\n",
    "print(b)"
   ]
  },
  {
   "cell_type": "markdown",
   "id": "d435c427",
   "metadata": {},
   "source": [
    "Write a code get an integer number as input and print the sum of the digits.\n",
    "\n",
    "Input Description:\n",
    "A single line containing an integer.\n",
    "\n",
    "Output Description:\n",
    "Print the sum of the digits of the integer."
   ]
  },
  {
   "cell_type": "code",
   "execution_count": 4,
   "id": "303f8c91",
   "metadata": {},
   "outputs": [
    {
     "name": "stdout",
     "output_type": "stream",
     "text": [
      "12\n",
      "3\n"
     ]
    }
   ],
   "source": [
    "a= input()\n",
    "b= list(map(int, str(a)))\n",
    "sum=0\n",
    "for i in b:\n",
    "  sum=sum+i\n",
    "print(sum)"
   ]
  },
  {
   "cell_type": "markdown",
   "id": "9fb8eb94",
   "metadata": {},
   "source": [
    "Given a number N followed by N numbers.Find the smallest number and largest number and print both the indices(1 based indexing)."
   ]
  },
  {
   "cell_type": "code",
   "execution_count": 5,
   "id": "be8130a4",
   "metadata": {},
   "outputs": [
    {
     "name": "stdout",
     "output_type": "stream",
     "text": [
      "3\n",
      "4 5 6\n",
      "1 3\n"
     ]
    }
   ],
   "source": [
    "a= int(input())\n",
    "b= list(map(int, input().split()))\n",
    "c=b[:a]\n",
    "d= min(c)\n",
    "e= max(c)\n",
    "f= c.index(d) +1\n",
    "g= c.index(e) +1\n",
    "\n",
    "print(f,g)"
   ]
  },
  {
   "cell_type": "markdown",
   "id": "92cad392",
   "metadata": {},
   "source": [
    "Given 2 numbers N,M find the GCD of N and M.If it cannot be found for given number(s) then print -1"
   ]
  },
  {
   "cell_type": "code",
   "execution_count": 6,
   "id": "f31262a1",
   "metadata": {},
   "outputs": [
    {
     "name": "stdout",
     "output_type": "stream",
     "text": [
      "3 33\n",
      "3\n"
     ]
    }
   ],
   "source": [
    "a,b = map(int,input().split())\n",
    "\n",
    "def gcd(c,d):\n",
    "    R= -1\n",
    "    if(c>d):\n",
    "        smaller= d\n",
    "    else:\n",
    "        smaller= c \n",
    "\n",
    "    if smaller<1:\n",
    "      for i in range(smaller,0):\n",
    "        if(c%i==0) and (d%i==0):\n",
    "            R= abs(i)\n",
    "    else:\n",
    "      for i in range(1,smaller+1):\n",
    "          if(c%i==0) and (d%i==0):\n",
    "              R= i \n",
    "    print(R)\n",
    "    \n",
    "gcd(a,b)\n"
   ]
  },
  {
   "cell_type": "markdown",
   "id": "327ecd33",
   "metadata": {},
   "source": [
    "Given a number N and an array of N elements, find the Bitwise OR of the array elements."
   ]
  },
  {
   "cell_type": "code",
   "execution_count": 7,
   "id": "7e920c90",
   "metadata": {},
   "outputs": [
    {
     "name": "stdout",
     "output_type": "stream",
     "text": [
      "2\n",
      "4 6\n",
      "6\n"
     ]
    }
   ],
   "source": [
    "A= int(input())\n",
    "b= list(map(int, input().split()))\n",
    "c=b[:5]\n",
    "d=0\n",
    "for x in c:\n",
    "  d=d|x\n",
    "print(d)"
   ]
  },
  {
   "cell_type": "markdown",
   "id": "96376cd0",
   "metadata": {},
   "source": [
    "Write a code to get 2 integers as input and find the HCF of the 2 integer without using recursion or Euclidean algorithm.\n",
    "\n",
    "Input Description:\n",
    "A single line containing 2 integers separated by space.\n",
    "\n",
    "Output Description:\n",
    "Print the HCF of the integers."
   ]
  },
  {
   "cell_type": "code",
   "execution_count": 8,
   "id": "9cef652a",
   "metadata": {},
   "outputs": [
    {
     "name": "stdout",
     "output_type": "stream",
     "text": [
      "9 81\n",
      "9\n"
     ]
    }
   ],
   "source": [
    "a,b = map(int,input().split())\n",
    "\n",
    "def hcf(c,d):\n",
    "    if(c>d):\n",
    "        smaller= d\n",
    "    else:\n",
    "        smaller= c \n",
    "    for i in range(2,smaller+1):\n",
    "        if(c%i==0) and (d%i==0):\n",
    "            R= i\n",
    "    print(R)\n",
    "hcf(a,b)\n"
   ]
  },
  {
   "cell_type": "markdown",
   "id": "f7e3de6c",
   "metadata": {},
   "source": [
    "Write a code get an integer number as input and print the odd and even digits of the number separately.\n",
    "\n",
    "Input Description:\n",
    "A single line containing an integer.\n",
    "\n",
    "Output Description:\n",
    "Print the even and odd integers of the integer in a separate line."
   ]
  },
  {
   "cell_type": "code",
   "execution_count": 9,
   "id": "3b7c4014",
   "metadata": {},
   "outputs": [
    {
     "name": "stdout",
     "output_type": "stream",
     "text": [
      "4527819\n",
      "2 4 8\n",
      "1 5 7 9\n"
     ]
    }
   ],
   "source": [
    "a= input()\n",
    "b= list(map(int, str(a)))\n",
    "r=[]\n",
    "s=[]\n",
    "\n",
    "for x in b:\n",
    "    if x%2==0:\n",
    "        r.append(x)\n",
    "for y in b:\n",
    "    if y%2==1:\n",
    "        s.append(y)\n",
    "r.sort()\n",
    "s.sort()\n",
    "print(*r)\n",
    "print(*s)"
   ]
  },
  {
   "cell_type": "markdown",
   "id": "143c31f0",
   "metadata": {},
   "source": [
    "Given a string S consisting of 2 words reverse the order of two words ."
   ]
  },
  {
   "cell_type": "code",
   "execution_count": 10,
   "id": "a5cc2bd9",
   "metadata": {},
   "outputs": [
    {
     "name": "stdout",
     "output_type": "stream",
     "text": [
      "git hub\n",
      "hub git\n"
     ]
    }
   ],
   "source": [
    "A,B = map(str, input().split())\n",
    "A,B= B,A\n",
    "print(A,B)"
   ]
  }
 ],
 "metadata": {
  "kernelspec": {
   "display_name": "pandas_venv",
   "language": "python",
   "name": "pandas_venv"
  },
  "language_info": {
   "codemirror_mode": {
    "name": "ipython",
    "version": 3
   },
   "file_extension": ".py",
   "mimetype": "text/x-python",
   "name": "python",
   "nbconvert_exporter": "python",
   "pygments_lexer": "ipython3",
   "version": "3.10.7"
  }
 },
 "nbformat": 4,
 "nbformat_minor": 5
}
