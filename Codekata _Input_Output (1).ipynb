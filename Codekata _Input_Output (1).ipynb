{
 "cells": [
  {
   "cell_type": "markdown",
   "id": "0d5844e2",
   "metadata": {},
   "source": [
    "# Input/Output"
   ]
  },
  {
   "cell_type": "markdown",
   "id": "cf3ca519",
   "metadata": {},
   "source": [
    "1. Write a code to get the input in the given format and print the output in the given format\n",
    "\n",
    "    Input Description:\n",
    "    To take an integer value\n",
    "\n",
    "    Output Description:\n",
    "    Print the integer value"
   ]
  },
  {
   "cell_type": "code",
   "execution_count": 1,
   "id": "72c8a2bf",
   "metadata": {
    "scrolled": true
   },
   "outputs": [
    {
     "name": "stdout",
     "output_type": "stream",
     "text": [
      "2\n",
      "2\n"
     ]
    }
   ],
   "source": [
    "a= input()\n",
    "print(a)"
   ]
  },
  {
   "cell_type": "raw",
   "id": "556b1784",
   "metadata": {},
   "source": [
    "2. Write a code to get the input in the given format and print the output in the given format\n",
    "\n",
    "    Input Description:\n",
    "    A single line contains integers separated by space\n",
    "\n",
    "    Output Description:\n",
    "    Print the integer list of integers separated by space"
   ]
  },
  {
   "cell_type": "code",
   "execution_count": 2,
   "id": "97cff974",
   "metadata": {},
   "outputs": [
    {
     "name": "stdout",
     "output_type": "stream",
     "text": [
      "2 3 4 5 6\n",
      "2 3 4 5 6\n"
     ]
    }
   ],
   "source": [
    "a=input()\n",
    "print(a)"
   ]
  },
  {
   "cell_type": "raw",
   "id": "254819b8",
   "metadata": {},
   "source": [
    "3. Write a code to get the input in the given format and print the output in the given format.\n",
    "\n",
    "    Input Description:\n",
    "    First-line indicates two integers which are the size of array and 'K' value. Second-line indicates an integer contains elements of an array.\n",
    "\n",
    "    Output Description:\n",
    "    Print the taken input in the same format."
   ]
  },
  {
   "cell_type": "code",
   "execution_count": 3,
   "id": "30ee7df8",
   "metadata": {},
   "outputs": [
    {
     "name": "stdout",
     "output_type": "stream",
     "text": [
      "5 3 \n",
      "1 2 3 4 5\n",
      "5 3 \n",
      "1 2 3 4 5\n"
     ]
    }
   ],
   "source": [
    "a=input()\n",
    "b=input()\n",
    "print(a)\n",
    "print(b)"
   ]
  },
  {
   "cell_type": "raw",
   "id": "0ebfa1fa",
   "metadata": {},
   "source": [
    "4. Write a code to get the input in the given format and print the output in the given format\n",
    "\n",
    "    Input Description:\n",
    "    First-line indicates two integers separated by space. Second-line indicates two integers separated by space. Third-line indicates two integers separated by space.\n",
    "\n",
    "    Output Description:\n",
    "    Print the input in the same format."
   ]
  },
  {
   "cell_type": "code",
   "execution_count": 4,
   "id": "89cbf716",
   "metadata": {},
   "outputs": [
    {
     "name": "stdout",
     "output_type": "stream",
     "text": [
      "2 4\n",
      "2 4\n",
      "2 4\n",
      "2 4\n",
      "2 4\n",
      "2 4\n"
     ]
    }
   ],
   "source": [
    "a=input()\n",
    "b=input()\n",
    "c=input()\n",
    "print(a)\n",
    "print(b)\n",
    "print(c)"
   ]
  },
  {
   "cell_type": "raw",
   "id": "7c148610",
   "metadata": {},
   "source": [
    "5. Write a code to get the input in the given format and print the output in the given format\n",
    "\n",
    "    Input Description:\n",
    "    Three integers are given in line by line.\n",
    "\n",
    "    Output Description:\n",
    "    Print the integers in a single line separate by space."
   ]
  },
  {
   "cell_type": "code",
   "execution_count": 5,
   "id": "c0d2a899",
   "metadata": {},
   "outputs": [
    {
     "name": "stdout",
     "output_type": "stream",
     "text": [
      "2\n",
      "4\n",
      "5\n",
      "2 4 5\n"
     ]
    }
   ],
   "source": [
    "a=input()\n",
    "b=input()\n",
    "c=input()\n",
    "print(a+\" \"+b+\" \"+c)"
   ]
  },
  {
   "cell_type": "raw",
   "id": "9e796462",
   "metadata": {},
   "source": [
    "6. Write a code to get the input in the given format and print the output in the given format\n",
    "\n",
    "    Input Description:\n",
    "    First-line indicates two integers separated by space. Second-line indicates three integers separated by space. Third-line indicates three integers separated by space\n",
    "\n",
    "    Output Description:\n",
    "    Print the input in the same format."
   ]
  },
  {
   "cell_type": "code",
   "execution_count": 6,
   "id": "6a1b6e96",
   "metadata": {},
   "outputs": [
    {
     "name": "stdout",
     "output_type": "stream",
     "text": [
      "2 5\n",
      "2 5 6\n",
      "2 4 5\n",
      "2 5\n",
      "2 5 6\n",
      "2 4 5\n"
     ]
    }
   ],
   "source": [
    "a= input()\n",
    "b= input()\n",
    "c= input()\n",
    "print(a)\n",
    "print(b)\n",
    "print(c)"
   ]
  },
  {
   "cell_type": "raw",
   "id": "effb9eaa",
   "metadata": {},
   "source": [
    "7. Write a code to get the input in the given format and print the output in the given format\n",
    "\n",
    "    Input Description:\n",
    "    A single line contains a string.\n",
    "\n",
    "    Output Description:\n",
    "    Print the characters in a string separated by space."
   ]
  },
  {
   "cell_type": "code",
   "execution_count": 7,
   "id": "41672c7e",
   "metadata": {},
   "outputs": [
    {
     "name": "stdout",
     "output_type": "stream",
     "text": [
      "PYTHON\n",
      "P Y T H O N\n"
     ]
    }
   ],
   "source": [
    "a= input()\n",
    "print(\" \".join(a))"
   ]
  },
  {
   "cell_type": "raw",
   "id": "6ddbb478",
   "metadata": {},
   "source": [
    "8. Write a code to get the input in the given format and print the output in the given format.\n",
    "\n",
    "    Input Description:\n",
    "    A single line contains three float values separated by space.\n",
    "\n",
    "    Output Description:\n",
    "    Print the float value separated by line."
   ]
  },
  {
   "cell_type": "code",
   "execution_count": 8,
   "id": "0d4ea51e",
   "metadata": {},
   "outputs": [
    {
     "name": "stdout",
     "output_type": "stream",
     "text": [
      "1.2 3.4 5.6\n",
      "1.2\n",
      "3.4\n",
      "5.6\n"
     ]
    }
   ],
   "source": [
    "a= input()\n",
    "b= a.split(\" \")\n",
    "for C in b:\n",
    "    print(C)"
   ]
  },
  {
   "cell_type": "raw",
   "id": "6a012eb8",
   "metadata": {},
   "source": [
    "9. Write a code to get the input in the given format and print the output in the given format.\n",
    "\n",
    "    Input Description:\n",
    "    A single line contains a string.\n",
    "\n",
    "    Output Description:\n",
    "    Print the characters in a string separated by line."
   ]
  },
  {
   "cell_type": "code",
   "execution_count": 9,
   "id": "18c300ce",
   "metadata": {},
   "outputs": [
    {
     "name": "stdout",
     "output_type": "stream",
     "text": [
      "PYTHON\n",
      "P\n",
      "Y\n",
      "T\n",
      "H\n",
      "O\n",
      "N\n"
     ]
    }
   ],
   "source": [
    "a= input()\n",
    "for x in a:\n",
    "    print(x)"
   ]
  },
  {
   "cell_type": "raw",
   "id": "01246d25",
   "metadata": {},
   "source": [
    "10. Write a code to get the input in the given format and print the output in the given format.\n",
    "\n",
    "    Input Description:\n",
    "    A single line contains a string.\n",
    "\n",
    "    Output Description:\n",
    "    Print the characters in a string separated by comma."
   ]
  },
  {
   "cell_type": "code",
   "execution_count": 10,
   "id": "68de7640",
   "metadata": {},
   "outputs": [
    {
     "name": "stdout",
     "output_type": "stream",
     "text": [
      "PYTHON\n",
      "P,Y,T,H,O,N\n"
     ]
    }
   ],
   "source": [
    "a= input()\n",
    "print(\",\".join(a))"
   ]
  }
 ],
 "metadata": {
  "kernelspec": {
   "display_name": "pandas_venv",
   "language": "python",
   "name": "pandas_venv"
  },
  "language_info": {
   "codemirror_mode": {
    "name": "ipython",
    "version": 3
   },
   "file_extension": ".py",
   "mimetype": "text/x-python",
   "name": "python",
   "nbconvert_exporter": "python",
   "pygments_lexer": "ipython3",
   "version": "3.10.7"
  }
 },
 "nbformat": 4,
 "nbformat_minor": 5
}
