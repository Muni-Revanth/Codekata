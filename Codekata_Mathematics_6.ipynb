{
 "cells": [
  {
   "cell_type": "markdown",
   "id": "7391677f",
   "metadata": {},
   "source": [
    "# Codekata_Mathematics_6"
   ]
  },
  {
   "cell_type": "markdown",
   "id": "cd4b04bc",
   "metadata": {},
   "source": [
    "Given length L and breadth B of a farm, print the area of the farm upto 5 decimal decimals."
   ]
  },
  {
   "cell_type": "code",
   "execution_count": 1,
   "id": "fe3b819f",
   "metadata": {},
   "outputs": [
    {
     "name": "stdout",
     "output_type": "stream",
     "text": [
      "5.87765 9.345062\n",
      "54.927\n"
     ]
    }
   ],
   "source": [
    "import math\n",
    "L,B = map(float, input().split())\n",
    "area = L*B\n",
    "print(math.floor(area*100000)/100000)"
   ]
  },
  {
   "cell_type": "markdown",
   "id": "864f0465",
   "metadata": {},
   "source": [
    "Write a program to print the sum of the first K natural numbers."
   ]
  },
  {
   "cell_type": "code",
   "execution_count": 2,
   "id": "438b17f7",
   "metadata": {},
   "outputs": [
    {
     "name": "stdout",
     "output_type": "stream",
     "text": [
      "4\n",
      "10\n"
     ]
    }
   ],
   "source": [
    "a= int(input())\n",
    "\n",
    "sum=0\n",
    "for i in range(1,a+1):\n",
    "    sum+=i\n",
    "print(sum)"
   ]
  },
  {
   "cell_type": "markdown",
   "id": "050a85fa",
   "metadata": {},
   "source": [
    "Given a number N and a number K, find the greatest number which divides both."
   ]
  },
  {
   "cell_type": "code",
   "execution_count": 3,
   "id": "97438d08",
   "metadata": {},
   "outputs": [
    {
     "name": "stdout",
     "output_type": "stream",
     "text": [
      "5 10\n",
      "5\n"
     ]
    }
   ],
   "source": [
    "x,y= map(int, input().split())\n",
    "if x > y:\n",
    "  smaller = y\n",
    "else:\n",
    "  smaller = x\n",
    "for i in range(1, smaller+1):\n",
    "  if((x % i == 0) and (y % i == 0)):\n",
    "    hcf = i\n",
    "print(hcf)"
   ]
  },
  {
   "cell_type": "markdown",
   "id": "b9c11394",
   "metadata": {},
   "source": [
    "Prateek finds it difficult to judge the minimum element in the list of elements given to him. Your task is to develop the algorithm in order to find the minimum element.\n",
    "\n",
    "Input Description:\n",
    "You are given ‘n’ number of elements. Next line contains n space separated numbers.\n",
    "\n",
    "Output Description:\n",
    "Print the minimum element"
   ]
  },
  {
   "cell_type": "code",
   "execution_count": 4,
   "id": "66258ac8",
   "metadata": {},
   "outputs": [
    {
     "name": "stdout",
     "output_type": "stream",
     "text": [
      "5\n",
      "3 4 9 1 6\n",
      "1\n"
     ]
    }
   ],
   "source": [
    "a= int(input())\n",
    "b= list(map(int, input().split()))\n",
    "print(min(b))"
   ]
  },
  {
   "cell_type": "markdown",
   "id": "9d07e684",
   "metadata": {},
   "source": [
    "Given a string S.Validate if a given string is numeric.print 'yes' if it is a numeric otherwise print 'no'."
   ]
  },
  {
   "cell_type": "code",
   "execution_count": 5,
   "id": "81413671",
   "metadata": {},
   "outputs": [
    {
     "name": "stdout",
     "output_type": "stream",
     "text": [
      "revanth17\n",
      "yes\n"
     ]
    }
   ],
   "source": [
    "import re\n",
    "a=input()\n",
    "b = re.findall(\"[0-9]\", a)\n",
    "if len(b)==0:\n",
    "  print(\"no\")\n",
    "else:\n",
    "  print(\"yes\")"
   ]
  },
  {
   "cell_type": "markdown",
   "id": "1951220b",
   "metadata": {},
   "source": [
    "Given a number N, check if it is a power of 2.Print 'yes' if it is a power of 2 otherwise print 'no'."
   ]
  },
  {
   "cell_type": "code",
   "execution_count": 6,
   "id": "ff5ede16",
   "metadata": {},
   "outputs": [
    {
     "name": "stdout",
     "output_type": "stream",
     "text": [
      "64\n",
      "yes\n"
     ]
    }
   ],
   "source": [
    "a= int(input())\n",
    "for x in range(0,100):\n",
    "  b= 2**x\n",
    "  if b==a:\n",
    "    print(\"yes\")\n",
    "    break\n",
    "else:\n",
    "  print(\"no\")"
   ]
  },
  {
   "cell_type": "markdown",
   "id": "09c4a61a",
   "metadata": {},
   "source": [
    "Given 2 numbers N and K.check if N is a power of K.Print 'yes' if it is a power of k otherwise print 'no'."
   ]
  },
  {
   "cell_type": "code",
   "execution_count": 7,
   "id": "c1f63118",
   "metadata": {},
   "outputs": [
    {
     "name": "stdout",
     "output_type": "stream",
     "text": [
      "81 9\n",
      "yes\n"
     ]
    }
   ],
   "source": [
    "a,b = map(int, input().split())\n",
    "for x in range(0,10):\n",
    "  c= b**x\n",
    "  if c==a:\n",
    "    print(\"yes\")\n",
    "    break\n",
    "else:\n",
    "  print(\"no\")"
   ]
  },
  {
   "cell_type": "markdown",
   "id": "002ded5c",
   "metadata": {},
   "source": [
    "Rajesh is very fond of numbers. With the given positive number(‘n’) ,he has to tell whether a number is lively or not. A lively number is a number which has same frequency of all integers present.\n",
    "\n",
    "Input Description:\n",
    "A integer ‘n’ will be given\n",
    "\n",
    "Output Description:\n",
    "Print 1 if number is lively and 0 if it is not lively."
   ]
  },
  {
   "cell_type": "code",
   "execution_count": 8,
   "id": "f4e3b90b",
   "metadata": {},
   "outputs": [
    {
     "name": "stdout",
     "output_type": "stream",
     "text": [
      "1212\n",
      "1\n"
     ]
    }
   ],
   "source": [
    "a=input()\n",
    "\n",
    "c=[]\n",
    "for i in a:\n",
    "  count=0\n",
    "  for j in a:\n",
    "    if i==j:\n",
    "      count+=1\n",
    "  c.append(count)\n",
    "s=set(c)\n",
    "if len(s)==1:\n",
    "  print(1)\n",
    "else:\n",
    "  print(0)"
   ]
  },
  {
   "cell_type": "markdown",
   "id": "88d9e913",
   "metadata": {},
   "source": [
    "Given 2 numbers N and K followed by N elements,print the number of repetition of K otherwise print '-1' if the element not found."
   ]
  },
  {
   "cell_type": "code",
   "execution_count": 9,
   "id": "20f576b9",
   "metadata": {},
   "outputs": [
    {
     "name": "stdout",
     "output_type": "stream",
     "text": [
      "6 2\n",
      "1 2 3 4 5 7\n",
      "0\n"
     ]
    }
   ],
   "source": [
    "n, k = list(map(int, input().split()))\n",
    "N= list(map(int, input().split()))\n",
    "r= N[0:n]\n",
    "a= -1\n",
    "for i in r:\n",
    "  if i==k:\n",
    "    a=a+1\n",
    "print(a)\n"
   ]
  },
  {
   "cell_type": "markdown",
   "id": "adab5542",
   "metadata": {},
   "source": [
    "Given a number N, print the odd factors for the N."
   ]
  },
  {
   "cell_type": "code",
   "execution_count": 10,
   "id": "cc67dd66",
   "metadata": {},
   "outputs": [
    {
     "name": "stdout",
     "output_type": "stream",
     "text": [
      "64\n",
      "1\n"
     ]
    }
   ],
   "source": [
    "a= int(input())\n",
    "sum=[]\n",
    "odd=[]\n",
    "f= 0\n",
    "for i in range(1,a+1):\n",
    "  if a%i == 0:\n",
    "    sum.append(i)\n",
    "\n",
    "\n",
    "for x in sum:\n",
    " if x%2!=0:\n",
    "   odd.append(x)\n",
    "\n",
    "print(*odd)"
   ]
  }
 ],
 "metadata": {
  "kernelspec": {
   "display_name": "pandas_venv",
   "language": "python",
   "name": "pandas_venv"
  },
  "language_info": {
   "codemirror_mode": {
    "name": "ipython",
    "version": 3
   },
   "file_extension": ".py",
   "mimetype": "text/x-python",
   "name": "python",
   "nbconvert_exporter": "python",
   "pygments_lexer": "ipython3",
   "version": "3.10.7"
  }
 },
 "nbformat": 4,
 "nbformat_minor": 5
}
