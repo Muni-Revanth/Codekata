{
 "cells": [
  {
   "cell_type": "markdown",
   "id": "1a067368",
   "metadata": {},
   "source": [
    "# Codekata_Bitwise"
   ]
  },
  {
   "cell_type": "markdown",
   "id": "2be673cd",
   "metadata": {},
   "source": [
    "Print the position of first 1 from right to left, in binary representation of an Integer."
   ]
  },
  {
   "cell_type": "code",
   "execution_count": 1,
   "id": "7d632600",
   "metadata": {},
   "outputs": [
    {
     "name": "stdout",
     "output_type": "stream",
     "text": [
      "2341\n",
      "1\n"
     ]
    }
   ],
   "source": [
    "a= int(input())\n",
    "b= bin(a)\n",
    "c=b[::-1]\n",
    "index=1\n",
    "for i in c:\n",
    "  if i==\"1\":\n",
    "    break\n",
    "  else:\n",
    "    index+=1\n",
    "print(index)"
   ]
  },
  {
   "cell_type": "markdown",
   "id": "403f00d4",
   "metadata": {},
   "source": [
    "Given a number N, print the Bitwise NOT of that number."
   ]
  },
  {
   "cell_type": "code",
   "execution_count": 2,
   "id": "07be6ac4",
   "metadata": {},
   "outputs": [
    {
     "name": "stdout",
     "output_type": "stream",
     "text": [
      "34\n",
      "-35\n"
     ]
    }
   ],
   "source": [
    "a= int(input())\n",
    "b= ~a\n",
    "print(b)"
   ]
  },
  {
   "cell_type": "markdown",
   "id": "a5c445da",
   "metadata": {},
   "source": [
    "Given 2 numbers N,K print the number after performing bitwise left shift 'K' times."
   ]
  },
  {
   "cell_type": "code",
   "execution_count": 3,
   "id": "3532cd41",
   "metadata": {},
   "outputs": [
    {
     "name": "stdout",
     "output_type": "stream",
     "text": [
      "22 45\n",
      "774056185954304\n"
     ]
    }
   ],
   "source": [
    "N,K= map(int, input().split())\n",
    "r= N<<K\n",
    "print(r)"
   ]
  },
  {
   "cell_type": "markdown",
   "id": "29f015b1",
   "metadata": {},
   "source": [
    "Given a number N and an array of N elements, find the Bitwise OR of the array elements."
   ]
  },
  {
   "cell_type": "code",
   "execution_count": 4,
   "id": "d8c60439",
   "metadata": {},
   "outputs": [
    {
     "name": "stdout",
     "output_type": "stream",
     "text": [
      "4\n",
      "5 6 7 8\n",
      "15\n"
     ]
    }
   ],
   "source": [
    "A= int(input())\n",
    "b= list(map(int, input().split()))\n",
    "c=b[:5]\n",
    "d=0\n",
    "for x in c:\n",
    "  d=d|x\n",
    "print(d)"
   ]
  },
  {
   "cell_type": "markdown",
   "id": "c989e0ac",
   "metadata": {},
   "source": [
    "Given a binary number convert it to hexadecimal."
   ]
  },
  {
   "cell_type": "code",
   "execution_count": 6,
   "id": "531dec93",
   "metadata": {},
   "outputs": [
    {
     "name": "stdout",
     "output_type": "stream",
     "text": [
      "1101\n",
      "d\n"
     ]
    }
   ],
   "source": [
    "a= int(input(), 2)\n",
    "b= hex(a)\n",
    "c= b[2:]\n",
    "\n",
    "print(c)"
   ]
  },
  {
   "cell_type": "markdown",
   "id": "4732d19c",
   "metadata": {},
   "source": [
    "Given a number N and an array of N integers, find the maximum of Bitwise OR of all segments."
   ]
  },
  {
   "cell_type": "code",
   "execution_count": 7,
   "id": "b8382240",
   "metadata": {},
   "outputs": [
    {
     "name": "stdout",
     "output_type": "stream",
     "text": [
      "4\n",
      "9 8 5 2\n",
      "15\n"
     ]
    }
   ],
   "source": [
    "A= int(input())\n",
    "b= list(map(int, input().split()))\n",
    "c=b[:5]\n",
    "d=0\n",
    "for x in c:\n",
    "  d=d|x\n",
    "print(d)"
   ]
  },
  {
   "cell_type": "markdown",
   "id": "d8b47889",
   "metadata": {},
   "source": [
    "Given a number N and an array of N elements, find the Bitwise XOR of the array elements."
   ]
  },
  {
   "cell_type": "code",
   "execution_count": 8,
   "id": "ef15294f",
   "metadata": {},
   "outputs": [
    {
     "name": "stdout",
     "output_type": "stream",
     "text": [
      "4\n",
      "6 7 2 3\n",
      "0\n"
     ]
    }
   ],
   "source": [
    "A= int(input())\n",
    "b= list(map(int, input().split()))\n",
    "c=b[:5]\n",
    "d=0\n",
    "for x in c:\n",
    "  d=d^x\n",
    "print(d)"
   ]
  },
  {
   "cell_type": "markdown",
   "id": "7c25c00d",
   "metadata": {},
   "source": [
    "Given an array of N elements switch(swap) the element with the adjacent element and print the output."
   ]
  },
  {
   "cell_type": "code",
   "execution_count": 9,
   "id": "802489d3",
   "metadata": {},
   "outputs": [
    {
     "name": "stdout",
     "output_type": "stream",
     "text": [
      "6\n",
      "6 4 1 9 5 3\n",
      "4 6 9 1 3 5\n"
     ]
    }
   ],
   "source": [
    "a= int(input())\n",
    "word= list(map(str, input().split()))\n",
    "l= len(word)\n",
    "\n",
    "o= []\n",
    "for i in range(0,a):\n",
    "  if i==0 or i%2==0:\n",
    "    x= word[i]\n",
    "  else:\n",
    "    y= word[i]\n",
    "    o.append(y)\n",
    "    o.append(x)\n",
    "if a%2!=0:\n",
    "    aq= word[a-1]\n",
    "    o.append(aq)\n",
    "print(*o)"
   ]
  },
  {
   "cell_type": "markdown",
   "id": "1945da32",
   "metadata": {},
   "source": [
    "Given 2 numbers N and K print the number after performing bitwise right shift 'K' times(upto 2 decimal places)."
   ]
  },
  {
   "cell_type": "code",
   "execution_count": 10,
   "id": "ad8265f6",
   "metadata": {},
   "outputs": [
    {
     "name": "stdout",
     "output_type": "stream",
     "text": [
      "3 8\n",
      "0\n"
     ]
    }
   ],
   "source": [
    "N,K= map(int, input().split())\n",
    "r= N>>K\n",
    "print(r)"
   ]
  }
 ],
 "metadata": {
  "kernelspec": {
   "display_name": "pandas_venv",
   "language": "python",
   "name": "pandas_venv"
  },
  "language_info": {
   "codemirror_mode": {
    "name": "ipython",
    "version": 3
   },
   "file_extension": ".py",
   "mimetype": "text/x-python",
   "name": "python",
   "nbconvert_exporter": "python",
   "pygments_lexer": "ipython3",
   "version": "3.10.7"
  }
 },
 "nbformat": 4,
 "nbformat_minor": 5
}
