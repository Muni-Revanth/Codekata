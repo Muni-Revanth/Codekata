{
 "cells": [
  {
   "cell_type": "markdown",
   "id": "f6d36628",
   "metadata": {},
   "source": [
    "# Codekata_Mathematics_9"
   ]
  },
  {
   "cell_type": "markdown",
   "id": "f836cced",
   "metadata": {},
   "source": [
    "Gunjan was going through the book of ‘hyp’ numbers. She is given task to find the nth hyp number.Your task is to help gunjan\n",
    "\n",
    "A hyp number is a number whose all digits are prime.\n",
    "\n",
    "Input Description:\n",
    "You are given a number ‘n’.\n",
    "\n",
    "Output Description:\n",
    "Print the ‘nth’ hyp number."
   ]
  },
  {
   "cell_type": "code",
   "execution_count": 1,
   "id": "624464e2",
   "metadata": {},
   "outputs": [
    {
     "name": "stdout",
     "output_type": "stream",
     "text": [
      "3\n",
      "5\n"
     ]
    }
   ],
   "source": [
    "prime=[]\n",
    "for num in range(10000):\n",
    "  if num == 1:\n",
    "      continue\n",
    "  elif num > 1:\n",
    "    for i in range(2,num):\n",
    "        if (num % i) == 0:\n",
    "            break\n",
    "    else:\n",
    "        prime.append(num)\n",
    "        \n",
    "  else:\n",
    "    continue\n",
    "prime_1 = prime[:4]\n",
    "res=[]\n",
    "for j in range(10000):\n",
    "  count=0\n",
    "  g = list(map(int, str(j)))\n",
    "  for k in g:\n",
    "    if k in prime_1:\n",
    "      count=count+1\n",
    "      if len(g)==count:\n",
    "        res.append(j)\n",
    "    else:\n",
    "      break\n",
    "w = int(input())\n",
    "print(res[w-1])"
   ]
  },
  {
   "cell_type": "markdown",
   "id": "72f79606",
   "metadata": {},
   "source": [
    "Given a number N,check whether it has repeating digits in it.print 'yes' if it has repeating digits otherwise print 'no'."
   ]
  },
  {
   "cell_type": "code",
   "execution_count": 2,
   "id": "eafe1276",
   "metadata": {},
   "outputs": [
    {
     "name": "stdout",
     "output_type": "stream",
     "text": [
      "11234\n",
      "yes\n"
     ]
    }
   ],
   "source": [
    "a= input()\n",
    "b= list(map(int, str(a)))\n",
    "res=[]\n",
    "for i in b:\n",
    "  count=0\n",
    "  for x in b:\n",
    "       if i == x:\n",
    "        count=count+1\n",
    "        if count==2:\n",
    "          res.append(1)\n",
    "          break\n",
    "   \n",
    "  else:\n",
    "    res.append(0)\n",
    "if 1 in res:\n",
    "  print(\"yes\")\n",
    "else:\n",
    "  print(\"no\")"
   ]
  },
  {
   "cell_type": "markdown",
   "id": "888d5097",
   "metadata": {},
   "source": [
    "You are given a number ‘n’.Your task is to develop an algorithm to tell whether the number is ‘ajs’ or not.An ‘ajs’ number is a number whose sum of first two digits is present in given number ‘n’\n",
    "\n",
    "Input Description:\n",
    "A number ’n’ is given to you\n",
    "\n",
    "Output Description:\n",
    "Print 1 if number is ajs or 0 if it is not"
   ]
  },
  {
   "cell_type": "code",
   "execution_count": 3,
   "id": "0fd0b119",
   "metadata": {},
   "outputs": [
    {
     "name": "stdout",
     "output_type": "stream",
     "text": [
      "9817\n",
      "1\n"
     ]
    }
   ],
   "source": [
    "a= input()\n",
    "b= list(map(int, str(a)))\n",
    "sum = b[0]+b[1]\n",
    "summ=str(sum)\n",
    "if summ in a:\n",
    "  print(\"1\")\n",
    "else: print(\"0\")"
   ]
  },
  {
   "cell_type": "markdown",
   "id": "bed52787",
   "metadata": {},
   "source": [
    "Print the position of first 1 from right to left, in binary representation of an Integer."
   ]
  },
  {
   "cell_type": "code",
   "execution_count": 4,
   "id": "0ccd8346",
   "metadata": {},
   "outputs": [
    {
     "name": "stdout",
     "output_type": "stream",
     "text": [
      "18\n",
      "2\n"
     ]
    }
   ],
   "source": [
    "a= int(input())\n",
    "b= bin(a)\n",
    "c=b[::-1]\n",
    "index=1\n",
    "for i in c:\n",
    "  if i==\"1\":\n",
    "    break\n",
    "  else:\n",
    "    index+=1\n",
    "\n",
    "print(index)"
   ]
  },
  {
   "cell_type": "markdown",
   "id": "7b2d1605",
   "metadata": {},
   "source": [
    "Nishant is a short heighted person. He is standing facing N pillars of different heights with ith pillar having height hi. He tries to see all the possible pillars. He wants to know that how many buildings will he be able to see in the range.\n",
    "\n",
    "Input Description:\n",
    "First line contains input ‘n’ denoting size of array.Next line contains n space separated numbers\n",
    "\n",
    "Output Description:\n",
    "Print the maximum towers he can see"
   ]
  },
  {
   "cell_type": "code",
   "execution_count": 5,
   "id": "13014809",
   "metadata": {},
   "outputs": [
    {
     "name": "stdout",
     "output_type": "stream",
     "text": [
      "5\n",
      "11 5 9 6 7\n",
      "1\n"
     ]
    }
   ],
   "source": [
    "n = int(input())\n",
    "a= list(map(int, input().split()))\n",
    "b= a[:n]\n",
    "ref=b.index(max(b))\n",
    "print(ref+1)"
   ]
  },
  {
   "cell_type": "markdown",
   "id": "53009a3d",
   "metadata": {},
   "source": [
    "Given an angle A, print the sine of the given angle."
   ]
  },
  {
   "cell_type": "code",
   "execution_count": 6,
   "id": "02860b86",
   "metadata": {},
   "outputs": [
    {
     "name": "stdout",
     "output_type": "stream",
     "text": [
      "30\n",
      "0.5\n"
     ]
    }
   ],
   "source": [
    "a= {\"0\":\"0\", \"30\":\"0.5\", \"45\":\"0.707\", \"60\":\"0.43\", \"90\":\"1\"}\n",
    "b= input()\n",
    "print(a[b])"
   ]
  },
  {
   "cell_type": "markdown",
   "id": "a219d325",
   "metadata": {},
   "source": [
    "Given a number 'N' print the sum of each digit to the power of number of digits in given input."
   ]
  },
  {
   "cell_type": "code",
   "execution_count": 7,
   "id": "e1d10908",
   "metadata": {},
   "outputs": [
    {
     "name": "stdout",
     "output_type": "stream",
     "text": [
      "1234\n",
      "354\n"
     ]
    }
   ],
   "source": [
    "a= input()\n",
    "b= list(map(int, str(a)))\n",
    "c= len(b)\n",
    "sum= 0 \n",
    "for x in b:\n",
    "  pow = x ** c\n",
    "  sum=sum+pow\n",
    "print(sum)"
   ]
  },
  {
   "cell_type": "markdown",
   "id": "e784778d",
   "metadata": {},
   "source": [
    "Given a string S and an integer K, print the string obtained by rotating the orignal string by K positions."
   ]
  },
  {
   "cell_type": "code",
   "execution_count": 8,
   "id": "b9c4d5a1",
   "metadata": {},
   "outputs": [
    {
     "name": "stdout",
     "output_type": "stream",
     "text": [
      "katacode 4\n",
      "codekata\n"
     ]
    }
   ],
   "source": [
    "a,b = input().split()\n",
    "c= int(b)\n",
    "s1= a[:c]\n",
    "s2= a[c:]\n",
    "print(s2+s1)"
   ]
  },
  {
   "cell_type": "markdown",
   "id": "87a48073",
   "metadata": {},
   "source": [
    "Given two numbers L,R print the smallest number which is divisible by both L and R."
   ]
  },
  {
   "cell_type": "code",
   "execution_count": 9,
   "id": "0a8d0a66",
   "metadata": {},
   "outputs": [
    {
     "name": "stdout",
     "output_type": "stream",
     "text": [
      "10 130\n",
      "130\n"
     ]
    }
   ],
   "source": [
    "a = list(map(int,input().split()))\n",
    "c= max(a)\n",
    "for x in range(2, 2000):\n",
    "  if x%a[0]==0 and x%a[1]==0:\n",
    "    print(x)\n",
    "    break"
   ]
  },
  {
   "cell_type": "markdown",
   "id": "9c92c3b8",
   "metadata": {},
   "source": [
    "Given a number N and an array of N elements, every number is repeated except for one. Print that one number."
   ]
  },
  {
   "cell_type": "code",
   "execution_count": 10,
   "id": "2c170e04",
   "metadata": {},
   "outputs": [
    {
     "name": "stdout",
     "output_type": "stream",
     "text": [
      "10\n",
      "1 2 3 2 3 3 2 5 5 2\n",
      "1\n"
     ]
    }
   ],
   "source": [
    "a= int(input())\n",
    "b= list(map(int, input().split()))\n",
    "res=[]\n",
    "for i in b:\n",
    "  count=0\n",
    "  for x in b:\n",
    "    if i == x:\n",
    "      count=count+1\n",
    "  res.append(count)\n",
    "m = res.index(1)\n",
    "print(b[m])"
   ]
  }
 ],
 "metadata": {
  "kernelspec": {
   "display_name": "pandas_venv",
   "language": "python",
   "name": "pandas_venv"
  },
  "language_info": {
   "codemirror_mode": {
    "name": "ipython",
    "version": 3
   },
   "file_extension": ".py",
   "mimetype": "text/x-python",
   "name": "python",
   "nbconvert_exporter": "python",
   "pygments_lexer": "ipython3",
   "version": "3.10.7"
  }
 },
 "nbformat": 4,
 "nbformat_minor": 5
}
